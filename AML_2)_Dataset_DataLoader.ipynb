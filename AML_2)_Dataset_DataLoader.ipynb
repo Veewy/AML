{
  "nbformat": 4,
  "nbformat_minor": 0,
  "metadata": {
    "colab": {
      "provenance": [],
      "toc_visible": true,
      "machine_shape": "hm",
      "mount_file_id": "1mWk0ndToqfnviNyvSHXK92LoZ4Uhzwpu",
      "authorship_tag": "ABX9TyOef/O45iSPPpvGsloCjXnU",
      "include_colab_link": true
    },
    "kernelspec": {
      "name": "python3",
      "display_name": "Python 3"
    },
    "language_info": {
      "name": "python"
    }
  },
  "cells": [
    {
      "cell_type": "markdown",
      "metadata": {
        "id": "view-in-github",
        "colab_type": "text"
      },
      "source": [
        "<a href=\"https://colab.research.google.com/github/Veewy/AML/blob/main/AML_2)_Dataset_DataLoader.ipynb\" target=\"_parent\"><img src=\"https://colab.research.google.com/assets/colab-badge.svg\" alt=\"Open In Colab\"/></a>"
      ]
    },
    {
      "cell_type": "markdown",
      "source": [
        "# 🌹 **Anti Money Laundering**  🌹"
      ],
      "metadata": {
        "id": "d2sRuJ5L7LqM"
      }
    },
    {
      "cell_type": "markdown",
      "source": [
        "# **Data** **Import**"
      ],
      "metadata": {
        "id": "YzKB3ELs7Qob"
      }
    },
    {
      "cell_type": "code",
      "source": [
        "import pandas as pd\n",
        "import numpy as np\n",
        "import matplotlib.pyplot as plt\n",
        "import seaborn as sb\n",
        "import torch\n",
        "import torch.nn as nn\n",
        "import torch.optim as optim\n",
        "import os\n",
        "\n",
        "from torch.optim.lr_scheduler import ReduceLROnPlateau\n",
        "from functools import partial\n",
        "from torch.utils.data import Dataset, DataLoader\n",
        "from datetime import datetime\n",
        "from sklearn.cluster import KMeans\n",
        "from sklearn.preprocessing import LabelEncoder\n",
        "from sklearn.preprocessing import MinMaxScaler\n",
        "from sklearn.preprocessing import RobustScaler\n",
        "from sklearn.model_selection import train_test_split\n",
        "from torch.utils.data import Dataset, DataLoader\n",
        "from torchvision.transforms import ToTensor\n",
        "from sklearn.metrics import f1_score, roc_auc_score\n",
        "from sklearn.metrics import confusion_matrix, precision_score, recall_score\n",
        "from torch.nn.utils.rnn import pack_sequence"
      ],
      "metadata": {
        "id": "ArRSaxh-7Tc4"
      },
      "execution_count": null,
      "outputs": []
    },
    {
      "cell_type": "markdown",
      "source": [
        "## Re-loading Intermediate Data"
      ],
      "metadata": {
        "id": "J5Urrs_M70pb"
      }
    },
    {
      "cell_type": "code",
      "source": [
        "# reloading\n",
        "from google.colab import drive\n",
        "drive.mount('/content/drive')\n",
        "path_df_test2 = \"/content/drive/MyDrive/DE/Master_Degree/3rd_Semester/Colab_Notebook/AML_file/df_test2.parquet\"\n",
        "df_test2 = pd.read_parquet(path_df_test2)"
      ],
      "metadata": {
        "colab": {
          "base_uri": "https://localhost:8080/"
        },
        "id": "XiylgMcR7Ta1",
        "outputId": "5326d929-3dd7-4fb7-d5cb-4dc335d1eaab"
      },
      "execution_count": null,
      "outputs": [
        {
          "output_type": "stream",
          "name": "stdout",
          "text": [
            "Drive already mounted at /content/drive; to attempt to forcibly remount, call drive.mount(\"/content/drive\", force_remount=True).\n"
          ]
        }
      ]
    },
    {
      "cell_type": "markdown",
      "source": [
        "# **Train / Test Split**"
      ],
      "metadata": {
        "id": "6cnZ5IBmUIxv"
      }
    },
    {
      "cell_type": "markdown",
      "source": [
        "## a) Sampled Dataset"
      ],
      "metadata": {
        "id": "t5Jrrq_aDlTR"
      }
    },
    {
      "cell_type": "markdown",
      "source": [
        "Split 100,000 sampled data"
      ],
      "metadata": {
        "id": "02iF9NP9DTed"
      }
    },
    {
      "cell_type": "code",
      "source": [
        "# split small dataset for runing as sample\n",
        "df_test2_sampled = df_test2.sample(100000, random_state=42)\n",
        "df_test2_sampled.sort_values(by='account')"
      ],
      "metadata": {
        "colab": {
          "base_uri": "https://localhost:8080/",
          "height": 455
        },
        "id": "KAfXGXZ87TYn",
        "outputId": "54e7b947-5245-4aa1-842d-c7a98faee596"
      },
      "execution_count": null,
      "outputs": [
        {
          "output_type": "execute_result",
          "data": {
            "text/plain": [
              "                                                       events  \\\n",
              "account                                                         \n",
              "61549       [{'account': 61549.0, 'account_encoded': 0.0, ...   \n",
              "155434      [{'account': 155434.0, 'account_encoded': 0.0,...   \n",
              "201484      [{'account': 201484.0, 'account_encoded': 0.0,...   \n",
              "251764      [{'account': 251764.0, 'account_encoded': 0.0,...   \n",
              "253618      [{'account': 253618.0, 'account_encoded': 0.0,...   \n",
              "...                                                       ...   \n",
              "9999529026  [{'account': 9999529026.0, 'account_encoded': ...   \n",
              "9999665726  [{'account': 9999665726.0, 'account_encoded': ...   \n",
              "9999758711  [{'account': 9999758711.0, 'account_encoded': ...   \n",
              "9999803740  [{'account': 9999803740.0, 'account_encoded': ...   \n",
              "9999967460  [{'account': 9999967460.0, 'account_encoded': ...   \n",
              "\n",
              "                                               targets  \n",
              "account                                                 \n",
              "61549             [0, 0, 0, 0, 0, 0, 0, 0, 0, 0, 0, 0]  \n",
              "155434         [0, 0, 0, 1, 0, 0, 0, 0, 0, 0, 0, 0, 0]  \n",
              "201484         [0, 0, 0, 0, 0, 0, 0, 0, 0, 0, 0, 0, 0]  \n",
              "251764            [0, 0, 0, 0, 0, 0, 0, 0, 0, 0, 0, 0]  \n",
              "253618      [0, 0, 0, 0, 0, 0, 0, 0, 0, 0, 0, 0, 0, 0]  \n",
              "...                                                ...  \n",
              "9999529026        [0, 0, 0, 0, 0, 0, 0, 0, 0, 0, 0, 0]  \n",
              "9999665726     [0, 0, 0, 0, 0, 0, 0, 0, 0, 0, 0, 0, 0]  \n",
              "9999758711        [0, 0, 0, 0, 0, 0, 0, 0, 0, 0, 0, 0]  \n",
              "9999803740  [0, 0, 0, 0, 0, 0, 0, 0, 0, 0, 0, 0, 0, 0]  \n",
              "9999967460                                   [0, 0, 0]  \n",
              "\n",
              "[100000 rows x 2 columns]"
            ],
            "text/html": [
              "\n",
              "  <div id=\"df-49573648-7487-46b7-8468-efc77c84707d\" class=\"colab-df-container\">\n",
              "    <div>\n",
              "<style scoped>\n",
              "    .dataframe tbody tr th:only-of-type {\n",
              "        vertical-align: middle;\n",
              "    }\n",
              "\n",
              "    .dataframe tbody tr th {\n",
              "        vertical-align: top;\n",
              "    }\n",
              "\n",
              "    .dataframe thead th {\n",
              "        text-align: right;\n",
              "    }\n",
              "</style>\n",
              "<table border=\"1\" class=\"dataframe\">\n",
              "  <thead>\n",
              "    <tr style=\"text-align: right;\">\n",
              "      <th></th>\n",
              "      <th>events</th>\n",
              "      <th>targets</th>\n",
              "    </tr>\n",
              "    <tr>\n",
              "      <th>account</th>\n",
              "      <th></th>\n",
              "      <th></th>\n",
              "    </tr>\n",
              "  </thead>\n",
              "  <tbody>\n",
              "    <tr>\n",
              "      <th>61549</th>\n",
              "      <td>[{'account': 61549.0, 'account_encoded': 0.0, ...</td>\n",
              "      <td>[0, 0, 0, 0, 0, 0, 0, 0, 0, 0, 0, 0]</td>\n",
              "    </tr>\n",
              "    <tr>\n",
              "      <th>155434</th>\n",
              "      <td>[{'account': 155434.0, 'account_encoded': 0.0,...</td>\n",
              "      <td>[0, 0, 0, 1, 0, 0, 0, 0, 0, 0, 0, 0, 0]</td>\n",
              "    </tr>\n",
              "    <tr>\n",
              "      <th>201484</th>\n",
              "      <td>[{'account': 201484.0, 'account_encoded': 0.0,...</td>\n",
              "      <td>[0, 0, 0, 0, 0, 0, 0, 0, 0, 0, 0, 0, 0]</td>\n",
              "    </tr>\n",
              "    <tr>\n",
              "      <th>251764</th>\n",
              "      <td>[{'account': 251764.0, 'account_encoded': 0.0,...</td>\n",
              "      <td>[0, 0, 0, 0, 0, 0, 0, 0, 0, 0, 0, 0]</td>\n",
              "    </tr>\n",
              "    <tr>\n",
              "      <th>253618</th>\n",
              "      <td>[{'account': 253618.0, 'account_encoded': 0.0,...</td>\n",
              "      <td>[0, 0, 0, 0, 0, 0, 0, 0, 0, 0, 0, 0, 0, 0]</td>\n",
              "    </tr>\n",
              "    <tr>\n",
              "      <th>...</th>\n",
              "      <td>...</td>\n",
              "      <td>...</td>\n",
              "    </tr>\n",
              "    <tr>\n",
              "      <th>9999529026</th>\n",
              "      <td>[{'account': 9999529026.0, 'account_encoded': ...</td>\n",
              "      <td>[0, 0, 0, 0, 0, 0, 0, 0, 0, 0, 0, 0]</td>\n",
              "    </tr>\n",
              "    <tr>\n",
              "      <th>9999665726</th>\n",
              "      <td>[{'account': 9999665726.0, 'account_encoded': ...</td>\n",
              "      <td>[0, 0, 0, 0, 0, 0, 0, 0, 0, 0, 0, 0, 0]</td>\n",
              "    </tr>\n",
              "    <tr>\n",
              "      <th>9999758711</th>\n",
              "      <td>[{'account': 9999758711.0, 'account_encoded': ...</td>\n",
              "      <td>[0, 0, 0, 0, 0, 0, 0, 0, 0, 0, 0, 0]</td>\n",
              "    </tr>\n",
              "    <tr>\n",
              "      <th>9999803740</th>\n",
              "      <td>[{'account': 9999803740.0, 'account_encoded': ...</td>\n",
              "      <td>[0, 0, 0, 0, 0, 0, 0, 0, 0, 0, 0, 0, 0, 0]</td>\n",
              "    </tr>\n",
              "    <tr>\n",
              "      <th>9999967460</th>\n",
              "      <td>[{'account': 9999967460.0, 'account_encoded': ...</td>\n",
              "      <td>[0, 0, 0]</td>\n",
              "    </tr>\n",
              "  </tbody>\n",
              "</table>\n",
              "<p>100000 rows × 2 columns</p>\n",
              "</div>\n",
              "    <div class=\"colab-df-buttons\">\n",
              "\n",
              "  <div class=\"colab-df-container\">\n",
              "    <button class=\"colab-df-convert\" onclick=\"convertToInteractive('df-49573648-7487-46b7-8468-efc77c84707d')\"\n",
              "            title=\"Convert this dataframe to an interactive table.\"\n",
              "            style=\"display:none;\">\n",
              "\n",
              "  <svg xmlns=\"http://www.w3.org/2000/svg\" height=\"24px\" viewBox=\"0 -960 960 960\">\n",
              "    <path d=\"M120-120v-720h720v720H120Zm60-500h600v-160H180v160Zm220 220h160v-160H400v160Zm0 220h160v-160H400v160ZM180-400h160v-160H180v160Zm440 0h160v-160H620v160ZM180-180h160v-160H180v160Zm440 0h160v-160H620v160Z\"/>\n",
              "  </svg>\n",
              "    </button>\n",
              "\n",
              "  <style>\n",
              "    .colab-df-container {\n",
              "      display:flex;\n",
              "      gap: 12px;\n",
              "    }\n",
              "\n",
              "    .colab-df-convert {\n",
              "      background-color: #E8F0FE;\n",
              "      border: none;\n",
              "      border-radius: 50%;\n",
              "      cursor: pointer;\n",
              "      display: none;\n",
              "      fill: #1967D2;\n",
              "      height: 32px;\n",
              "      padding: 0 0 0 0;\n",
              "      width: 32px;\n",
              "    }\n",
              "\n",
              "    .colab-df-convert:hover {\n",
              "      background-color: #E2EBFA;\n",
              "      box-shadow: 0px 1px 2px rgba(60, 64, 67, 0.3), 0px 1px 3px 1px rgba(60, 64, 67, 0.15);\n",
              "      fill: #174EA6;\n",
              "    }\n",
              "\n",
              "    .colab-df-buttons div {\n",
              "      margin-bottom: 4px;\n",
              "    }\n",
              "\n",
              "    [theme=dark] .colab-df-convert {\n",
              "      background-color: #3B4455;\n",
              "      fill: #D2E3FC;\n",
              "    }\n",
              "\n",
              "    [theme=dark] .colab-df-convert:hover {\n",
              "      background-color: #434B5C;\n",
              "      box-shadow: 0px 1px 3px 1px rgba(0, 0, 0, 0.15);\n",
              "      filter: drop-shadow(0px 1px 2px rgba(0, 0, 0, 0.3));\n",
              "      fill: #FFFFFF;\n",
              "    }\n",
              "  </style>\n",
              "\n",
              "    <script>\n",
              "      const buttonEl =\n",
              "        document.querySelector('#df-49573648-7487-46b7-8468-efc77c84707d button.colab-df-convert');\n",
              "      buttonEl.style.display =\n",
              "        google.colab.kernel.accessAllowed ? 'block' : 'none';\n",
              "\n",
              "      async function convertToInteractive(key) {\n",
              "        const element = document.querySelector('#df-49573648-7487-46b7-8468-efc77c84707d');\n",
              "        const dataTable =\n",
              "          await google.colab.kernel.invokeFunction('convertToInteractive',\n",
              "                                                    [key], {});\n",
              "        if (!dataTable) return;\n",
              "\n",
              "        const docLinkHtml = 'Like what you see? Visit the ' +\n",
              "          '<a target=\"_blank\" href=https://colab.research.google.com/notebooks/data_table.ipynb>data table notebook</a>'\n",
              "          + ' to learn more about interactive tables.';\n",
              "        element.innerHTML = '';\n",
              "        dataTable['output_type'] = 'display_data';\n",
              "        await google.colab.output.renderOutput(dataTable, element);\n",
              "        const docLink = document.createElement('div');\n",
              "        docLink.innerHTML = docLinkHtml;\n",
              "        element.appendChild(docLink);\n",
              "      }\n",
              "    </script>\n",
              "  </div>\n",
              "\n",
              "\n",
              "<div id=\"df-bee3f07d-e1f1-4227-be5a-68c1a3129d7d\">\n",
              "  <button class=\"colab-df-quickchart\" onclick=\"quickchart('df-bee3f07d-e1f1-4227-be5a-68c1a3129d7d')\"\n",
              "            title=\"Suggest charts\"\n",
              "            style=\"display:none;\">\n",
              "\n",
              "<svg xmlns=\"http://www.w3.org/2000/svg\" height=\"24px\"viewBox=\"0 0 24 24\"\n",
              "     width=\"24px\">\n",
              "    <g>\n",
              "        <path d=\"M19 3H5c-1.1 0-2 .9-2 2v14c0 1.1.9 2 2 2h14c1.1 0 2-.9 2-2V5c0-1.1-.9-2-2-2zM9 17H7v-7h2v7zm4 0h-2V7h2v10zm4 0h-2v-4h2v4z\"/>\n",
              "    </g>\n",
              "</svg>\n",
              "  </button>\n",
              "\n",
              "<style>\n",
              "  .colab-df-quickchart {\n",
              "      --bg-color: #E8F0FE;\n",
              "      --fill-color: #1967D2;\n",
              "      --hover-bg-color: #E2EBFA;\n",
              "      --hover-fill-color: #174EA6;\n",
              "      --disabled-fill-color: #AAA;\n",
              "      --disabled-bg-color: #DDD;\n",
              "  }\n",
              "\n",
              "  [theme=dark] .colab-df-quickchart {\n",
              "      --bg-color: #3B4455;\n",
              "      --fill-color: #D2E3FC;\n",
              "      --hover-bg-color: #434B5C;\n",
              "      --hover-fill-color: #FFFFFF;\n",
              "      --disabled-bg-color: #3B4455;\n",
              "      --disabled-fill-color: #666;\n",
              "  }\n",
              "\n",
              "  .colab-df-quickchart {\n",
              "    background-color: var(--bg-color);\n",
              "    border: none;\n",
              "    border-radius: 50%;\n",
              "    cursor: pointer;\n",
              "    display: none;\n",
              "    fill: var(--fill-color);\n",
              "    height: 32px;\n",
              "    padding: 0;\n",
              "    width: 32px;\n",
              "  }\n",
              "\n",
              "  .colab-df-quickchart:hover {\n",
              "    background-color: var(--hover-bg-color);\n",
              "    box-shadow: 0 1px 2px rgba(60, 64, 67, 0.3), 0 1px 3px 1px rgba(60, 64, 67, 0.15);\n",
              "    fill: var(--button-hover-fill-color);\n",
              "  }\n",
              "\n",
              "  .colab-df-quickchart-complete:disabled,\n",
              "  .colab-df-quickchart-complete:disabled:hover {\n",
              "    background-color: var(--disabled-bg-color);\n",
              "    fill: var(--disabled-fill-color);\n",
              "    box-shadow: none;\n",
              "  }\n",
              "\n",
              "  .colab-df-spinner {\n",
              "    border: 2px solid var(--fill-color);\n",
              "    border-color: transparent;\n",
              "    border-bottom-color: var(--fill-color);\n",
              "    animation:\n",
              "      spin 1s steps(1) infinite;\n",
              "  }\n",
              "\n",
              "  @keyframes spin {\n",
              "    0% {\n",
              "      border-color: transparent;\n",
              "      border-bottom-color: var(--fill-color);\n",
              "      border-left-color: var(--fill-color);\n",
              "    }\n",
              "    20% {\n",
              "      border-color: transparent;\n",
              "      border-left-color: var(--fill-color);\n",
              "      border-top-color: var(--fill-color);\n",
              "    }\n",
              "    30% {\n",
              "      border-color: transparent;\n",
              "      border-left-color: var(--fill-color);\n",
              "      border-top-color: var(--fill-color);\n",
              "      border-right-color: var(--fill-color);\n",
              "    }\n",
              "    40% {\n",
              "      border-color: transparent;\n",
              "      border-right-color: var(--fill-color);\n",
              "      border-top-color: var(--fill-color);\n",
              "    }\n",
              "    60% {\n",
              "      border-color: transparent;\n",
              "      border-right-color: var(--fill-color);\n",
              "    }\n",
              "    80% {\n",
              "      border-color: transparent;\n",
              "      border-right-color: var(--fill-color);\n",
              "      border-bottom-color: var(--fill-color);\n",
              "    }\n",
              "    90% {\n",
              "      border-color: transparent;\n",
              "      border-bottom-color: var(--fill-color);\n",
              "    }\n",
              "  }\n",
              "</style>\n",
              "\n",
              "  <script>\n",
              "    async function quickchart(key) {\n",
              "      const quickchartButtonEl =\n",
              "        document.querySelector('#' + key + ' button');\n",
              "      quickchartButtonEl.disabled = true;  // To prevent multiple clicks.\n",
              "      quickchartButtonEl.classList.add('colab-df-spinner');\n",
              "      try {\n",
              "        const charts = await google.colab.kernel.invokeFunction(\n",
              "            'suggestCharts', [key], {});\n",
              "      } catch (error) {\n",
              "        console.error('Error during call to suggestCharts:', error);\n",
              "      }\n",
              "      quickchartButtonEl.classList.remove('colab-df-spinner');\n",
              "      quickchartButtonEl.classList.add('colab-df-quickchart-complete');\n",
              "    }\n",
              "    (() => {\n",
              "      let quickchartButtonEl =\n",
              "        document.querySelector('#df-bee3f07d-e1f1-4227-be5a-68c1a3129d7d button');\n",
              "      quickchartButtonEl.style.display =\n",
              "        google.colab.kernel.accessAllowed ? 'block' : 'none';\n",
              "    })();\n",
              "  </script>\n",
              "</div>\n",
              "\n",
              "    </div>\n",
              "  </div>\n"
            ],
            "application/vnd.google.colaboratory.intrinsic+json": {
              "type": "dataframe",
              "summary": "{\n  \"name\": \"df_test2_sampled\",\n  \"rows\": 100000,\n  \"fields\": [\n    {\n      \"column\": \"account\",\n      \"properties\": {\n        \"dtype\": \"number\",\n        \"std\": 2887871010,\n        \"min\": 61549,\n        \"max\": 9999967460,\n        \"num_unique_values\": 100000,\n        \"samples\": [\n          7573121829,\n          8025458209,\n          1974601232\n        ],\n        \"semantic_type\": \"\",\n        \"description\": \"\"\n      }\n    },\n    {\n      \"column\": \"events\",\n      \"properties\": {\n        \"dtype\": \"object\",\n        \"semantic_type\": \"\",\n        \"description\": \"\"\n      }\n    },\n    {\n      \"column\": \"targets\",\n      \"properties\": {\n        \"dtype\": \"object\",\n        \"semantic_type\": \"\",\n        \"description\": \"\"\n      }\n    }\n  ]\n}"
            }
          },
          "metadata": {},
          "execution_count": 3
        }
      ]
    },
    {
      "cell_type": "code",
      "execution_count": null,
      "metadata": {
        "colab": {
          "base_uri": "https://localhost:8080/"
        },
        "id": "tP3NnvWF6Zvb",
        "outputId": "db140faf-3221-4224-9925-174912d0121a"
      },
      "outputs": [
        {
          "output_type": "stream",
          "name": "stdout",
          "text": [
            "[{'account': 2360440967.0, 'account_encoded': 0.0, 'account_interaction': 5533441702.0, 'account_interaction_encoded': 23976.0, 'amount_normalized': 0.25471404818530874, 'day_of_week_encoded': 5.0, 'hour': 14.0, 'payment_currency_encoded': 10.0, 'received_currency_encoded': 10.0, 'receiver_bank_location_encoded': 16.0, 'sender_bank_location_encoded': 16.0, 'time_interval_normalized': -0.054420741832058306, 'transaction_type_encoded': 1.0}\n",
            " {'account': 2360440967.0, 'account_encoded': 0.0, 'account_interaction': 5533441702.0, 'account_interaction_encoded': 23976.0, 'amount_normalized': -0.247170849481796, 'day_of_week_encoded': 3.0, 'hour': 1.0, 'payment_currency_encoded': 10.0, 'received_currency_encoded': 10.0, 'receiver_bank_location_encoded': 16.0, 'sender_bank_location_encoded': 16.0, 'time_interval_normalized': 9.565080879378325, 'transaction_type_encoded': 1.0}\n",
            " {'account': 2360440967.0, 'account_encoded': 0.0, 'account_interaction': 5533441702.0, 'account_interaction_encoded': 23976.0, 'amount_normalized': -0.22518829433147625, 'day_of_week_encoded': 1.0, 'hour': 15.0, 'payment_currency_encoded': 10.0, 'received_currency_encoded': 10.0, 'receiver_bank_location_encoded': 16.0, 'sender_bank_location_encoded': 16.0, 'time_interval_normalized': 21.122783289155098, 'transaction_type_encoded': 1.0}\n",
            " {'account': 2360440967.0, 'account_encoded': 0.0, 'account_interaction': 5533441702.0, 'account_interaction_encoded': 23976.0, 'amount_normalized': -0.24887745008133116, 'day_of_week_encoded': 5.0, 'hour': 3.0, 'payment_currency_encoded': 10.0, 'received_currency_encoded': 10.0, 'receiver_bank_location_encoded': 16.0, 'sender_bank_location_encoded': 16.0, 'time_interval_normalized': 23.671332049246153, 'transaction_type_encoded': 1.0}\n",
            " {'account': 2360440967.0, 'account_encoded': 0.0, 'account_interaction': 5533441702.0, 'account_interaction_encoded': 23976.0, 'amount_normalized': -0.28474492695232284, 'day_of_week_encoded': 0.0, 'hour': 20.0, 'payment_currency_encoded': 10.0, 'received_currency_encoded': 10.0, 'receiver_bank_location_encoded': 16.0, 'sender_bank_location_encoded': 16.0, 'time_interval_normalized': 5.024013235356273, 'transaction_type_encoded': 1.0}\n",
            " {'account': 2360440967.0, 'account_encoded': 0.0, 'account_interaction': 5533441702.0, 'account_interaction_encoded': 23976.0, 'amount_normalized': -0.14281925848865426, 'day_of_week_encoded': 0.0, 'hour': 3.0, 'payment_currency_encoded': 10.0, 'received_currency_encoded': 10.0, 'receiver_bank_location_encoded': 16.0, 'sender_bank_location_encoded': 16.0, 'time_interval_normalized': 10.523261500932875, 'transaction_type_encoded': 1.0}\n",
            " {'account': 2360440967.0, 'account_encoded': 0.0, 'account_interaction': 5533441702.0, 'account_interaction_encoded': 23976.0, 'amount_normalized': 0.103565039342616, 'day_of_week_encoded': 1.0, 'hour': 15.0, 'payment_currency_encoded': 10.0, 'received_currency_encoded': 10.0, 'receiver_bank_location_encoded': 16.0, 'sender_bank_location_encoded': 16.0, 'time_interval_normalized': 8.025909175990387, 'transaction_type_encoded': 1.0}\n",
            " {'account': 2360440967.0, 'account_encoded': 0.0, 'account_interaction': 5533441702.0, 'account_interaction_encoded': 23976.0, 'amount_normalized': -0.18698281071947231, 'day_of_week_encoded': 3.0, 'hour': 14.0, 'payment_currency_encoded': 10.0, 'received_currency_encoded': 10.0, 'receiver_bank_location_encoded': 16.0, 'sender_bank_location_encoded': 16.0, 'time_interval_normalized': 4.633654757663766, 'transaction_type_encoded': 1.0}\n",
            " {'account': 2360440967.0, 'account_encoded': 0.0, 'account_interaction': 5533441702.0, 'account_interaction_encoded': 23976.0, 'amount_normalized': -0.10039598185158354, 'day_of_week_encoded': 6.0, 'hour': 19.0, 'payment_currency_encoded': 10.0, 'received_currency_encoded': 10.0, 'receiver_bank_location_encoded': 16.0, 'sender_bank_location_encoded': 16.0, 'time_interval_normalized': 8.91745412608609, 'transaction_type_encoded': 1.0}\n",
            " {'account': 2360440967.0, 'account_encoded': 0.0, 'account_interaction': 5533441702.0, 'account_interaction_encoded': 23976.0, 'amount_normalized': -0.14702021401661508, 'day_of_week_encoded': 5.0, 'hour': 12.0, 'payment_currency_encoded': 10.0, 'received_currency_encoded': 10.0, 'receiver_bank_location_encoded': 16.0, 'sender_bank_location_encoded': 16.0, 'time_interval_normalized': 24.827517706515636, 'transaction_type_encoded': 1.0}\n",
            " {'account': 2360440967.0, 'account_encoded': 0.0, 'account_interaction': 5533441702.0, 'account_interaction_encoded': 23976.0, 'amount_normalized': -0.22932671058447165, 'day_of_week_encoded': 3.0, 'hour': 11.0, 'payment_currency_encoded': 10.0, 'received_currency_encoded': 10.0, 'receiver_bank_location_encoded': 16.0, 'sender_bank_location_encoded': 16.0, 'time_interval_normalized': 13.485843844532868, 'transaction_type_encoded': 1.0}\n",
            " {'account': 2360440967.0, 'account_encoded': 0.0, 'account_interaction': 5533441702.0, 'account_interaction_encoded': 23976.0, 'amount_normalized': -0.223153362538373, 'day_of_week_encoded': 6.0, 'hour': 19.0, 'payment_currency_encoded': 10.0, 'received_currency_encoded': 10.0, 'receiver_bank_location_encoded': 16.0, 'sender_bank_location_encoded': 16.0, 'time_interval_normalized': 23.596074074521336, 'transaction_type_encoded': 1.0}]\n"
          ]
        }
      ],
      "source": [
        "print(df_test2_sampled['events'].iloc[0])"
      ]
    },
    {
      "cell_type": "markdown",
      "source": [
        "##  🌹 df_test2_sampled : Save to Parguet 🌹\n",
        "(for future quick re-running code)"
      ],
      "metadata": {
        "id": "btr6xXTMwH7A"
      }
    },
    {
      "cell_type": "code",
      "source": [
        "# save df_test2 \"sampled \" to parguet\n",
        "path_df_test2_sampled = \"/content/drive/MyDrive/DE/Master_Degree/3rd_Semester/Colab_Notebook/AML_file/df_test2_sampled.parquet\"\n",
        "df_test2_sampled.to_parquet(path_df_test2_sampled)"
      ],
      "metadata": {
        "id": "QFmHtxLGnG5m"
      },
      "execution_count": null,
      "outputs": []
    },
    {
      "cell_type": "code",
      "source": [
        "# ---> Start here for quick reloading sampled dataset\n",
        "path_df_test2_sampled = \"/content/drive/MyDrive/DE/Master_Degree/3rd_Semester/Colab_Notebook/AML_file/df_test2_sampled.parquet\"\n",
        "df_test2_sampled = pd.read_parquet(path_df_test2_sampled)"
      ],
      "metadata": {
        "id": "dTiGwGipnJ5L"
      },
      "execution_count": null,
      "outputs": []
    },
    {
      "cell_type": "markdown",
      "source": [
        "Train / Test Split_Sampled Dataset"
      ],
      "metadata": {
        "id": "a3sly66gEBFm"
      }
    },
    {
      "cell_type": "code",
      "source": [
        "# Split (df_test2_sampled) into training and evaluation sets (80% train, 20% eval)\n",
        "\n",
        "X_events = df_test2_sampled['events']  # Features\n",
        "y_targets = df_test2_sampled['targets']  # Targets\n",
        "\n",
        "X_events_train, X_events_test, y_targets_train, y_targets_test = train_test_split(X_events, y_targets, test_size=0.2, random_state=42)\n",
        "\n",
        "# create datasest\n",
        "train_sampled_dataset = pd.concat([X_events_train, y_targets_train], axis=1)\n",
        "test_sampled_dataset = pd.concat([X_events_test, y_targets_test], axis=1)"
      ],
      "metadata": {
        "id": "-96pxB_ID9JU"
      },
      "execution_count": null,
      "outputs": []
    },
    {
      "cell_type": "code",
      "source": [
        "len(y_targets_train), len(y_targets_test), y_targets_train.apply(sum).sum(), y_targets_test.apply(sum).sum()\n",
        "# only ~2.2% of all samples (users) are positive samples"
      ],
      "metadata": {
        "colab": {
          "base_uri": "https://localhost:8080/"
        },
        "id": "Z55KFtvKEOJw",
        "outputId": "c623fd35-1afd-41af-e952-bbae211e64ea"
      },
      "execution_count": null,
      "outputs": [
        {
          "output_type": "execute_result",
          "data": {
            "text/plain": [
              "(80000, 20000, 1934, 435)"
            ]
          },
          "metadata": {},
          "execution_count": 8
        }
      ]
    },
    {
      "cell_type": "code",
      "source": [
        "1934+435"
      ],
      "metadata": {
        "colab": {
          "base_uri": "https://localhost:8080/"
        },
        "id": "MuF6gGINVtWP",
        "outputId": "0aeb25ff-8d49-42f2-f9ac-17d80f0fd8b8"
      },
      "execution_count": null,
      "outputs": [
        {
          "output_type": "execute_result",
          "data": {
            "text/plain": [
              "2369"
            ]
          },
          "metadata": {},
          "execution_count": 9
        }
      ]
    },
    {
      "cell_type": "code",
      "source": [
        "2368/10000"
      ],
      "metadata": {
        "colab": {
          "base_uri": "https://localhost:8080/"
        },
        "id": "zD6Ct74ZVxY1",
        "outputId": "5de045f3-719b-4b72-b0f9-397f076ba6cf"
      },
      "execution_count": null,
      "outputs": [
        {
          "output_type": "execute_result",
          "data": {
            "text/plain": [
              "0.2368"
            ]
          },
          "metadata": {},
          "execution_count": 10
        }
      ]
    },
    {
      "cell_type": "markdown",
      "source": [
        "## b) Downsampling Negative Sampled Dataset  (only in Training Part)\n",
        "\n",
        "(Addressing Data Imbalance):"
      ],
      "metadata": {
        "id": "4tcED-5dEXjR"
      }
    },
    {
      "cell_type": "code",
      "source": [
        "# Create a new sampled dataset with negative class downsampled in the training part\n",
        "\n",
        "y_targets_train_pos = y_targets_train[y_targets_train.apply(sum) > 0]\n",
        "y_targets_train_neg = y_targets_train[y_targets_train.apply(sum) == 0]\n",
        "y_targets_train_neg_sampled = y_targets_train_neg.sample(frac=0.112)\n",
        "y_targets_train_downsampled = pd.concat([y_targets_train_neg_sampled, y_targets_train_pos]).sample(frac=1)\n",
        "X_events_train_downsampled = X_events_train[y_targets_train_downsampled.index]\n",
        "\n",
        "# create datasest\n",
        "train_sampled_dataset_downsampled = pd.concat([X_events_train_downsampled, y_targets_train_downsampled], axis=1)"
      ],
      "metadata": {
        "id": "Grh4Sv_mEffV"
      },
      "execution_count": null,
      "outputs": []
    },
    {
      "cell_type": "code",
      "source": [
        "len(y_targets_train_downsampled), len(y_targets_test), y_targets_train_downsampled.apply(sum).sum(), y_targets_test.apply(sum).sum()"
      ],
      "metadata": {
        "colab": {
          "base_uri": "https://localhost:8080/"
        },
        "id": "g3jvpX-9EiWe",
        "outputId": "8854c99e-50eb-481b-a691-9a53ab400401"
      },
      "execution_count": null,
      "outputs": [
        {
          "output_type": "execute_result",
          "data": {
            "text/plain": [
              "(9638, 20000, 1934, 435)"
            ]
          },
          "metadata": {},
          "execution_count": 12
        }
      ]
    },
    {
      "cell_type": "code",
      "source": [
        "1934*5"
      ],
      "metadata": {
        "colab": {
          "base_uri": "https://localhost:8080/"
        },
        "id": "UM8eRrUhWCDH",
        "outputId": "15b5dc62-fb5c-4673-d7a1-64a530e82cc6"
      },
      "execution_count": null,
      "outputs": [
        {
          "output_type": "execute_result",
          "data": {
            "text/plain": [
              "9670"
            ]
          },
          "metadata": {},
          "execution_count": 13
        }
      ]
    },
    {
      "cell_type": "markdown",
      "source": [
        "## C) sampled data downsizing neg. (with a/c)"
      ],
      "metadata": {
        "id": "EnACK7Cla53F"
      }
    },
    {
      "cell_type": "code",
      "source": [
        "# use scenario b for training -\n",
        "# use scenario a for testing - but select new feature as a/c , a.c  interact in dataset/dataloader"
      ],
      "metadata": {
        "id": "ASEo2psna5Xt"
      },
      "execution_count": null,
      "outputs": []
    },
    {
      "cell_type": "markdown",
      "source": [
        "## d/e) Full Dataset (both scenarios of w.o & with a.c. interaction)"
      ],
      "metadata": {
        "id": "MW6gWf0lFe9o"
      }
    },
    {
      "cell_type": "code",
      "source": [
        "# split the entire dataset (df_test2) into training (90%) and evaluation (10%) sets.\n",
        "\n",
        "X_events1 = df_test2['events']\n",
        "y_targets1 = df_test2['targets']\n",
        "\n",
        "X_events_train1, X_events_test1, y_targets_train1, y_targets_test1 = train_test_split(X_events1, y_targets1, test_size=0.1, random_state=42)\n",
        "\n",
        "# create datasest\n",
        "train_dataset = pd.concat([X_events_train1, y_targets_train1], axis=1)\n",
        "test_dataset = pd.concat([X_events_test1, y_targets_test1], axis=1)"
      ],
      "metadata": {
        "id": "F_T2GDeUTh8O"
      },
      "execution_count": null,
      "outputs": []
    },
    {
      "cell_type": "code",
      "source": [
        "len(y_targets_train1), len(y_targets_test1), y_targets_train1.apply(sum).sum(), y_targets_test1.apply(sum).sum()\n",
        "# only ~2.3% of all samples (users) are positive samples"
      ],
      "metadata": {
        "colab": {
          "base_uri": "https://localhost:8080/"
        },
        "id": "fXuZ8FTCTh5s",
        "outputId": "6779bc9b-b434-45ba-f583-bc5db258cc36"
      },
      "execution_count": null,
      "outputs": [
        {
          "output_type": "execute_result",
          "data": {
            "text/plain": [
              "(769914, 85546, 17845, 1901)"
            ]
          },
          "metadata": {},
          "execution_count": 16
        }
      ]
    },
    {
      "cell_type": "code",
      "source": [
        "17845+1901"
      ],
      "metadata": {
        "colab": {
          "base_uri": "https://localhost:8080/"
        },
        "id": "56rngPa7YZ5j",
        "outputId": "7d291cd4-ff39-40a9-fd1c-1e33407ae6b7"
      },
      "execution_count": null,
      "outputs": [
        {
          "output_type": "execute_result",
          "data": {
            "text/plain": [
              "19746"
            ]
          },
          "metadata": {},
          "execution_count": 17
        }
      ]
    },
    {
      "cell_type": "code",
      "source": [
        "769914+85546"
      ],
      "metadata": {
        "colab": {
          "base_uri": "https://localhost:8080/"
        },
        "id": "KcVJcKwvYnGe",
        "outputId": "9573b5eb-d9c5-494f-d97f-b89245d1c067"
      },
      "execution_count": null,
      "outputs": [
        {
          "output_type": "execute_result",
          "data": {
            "text/plain": [
              "855460"
            ]
          },
          "metadata": {},
          "execution_count": 18
        }
      ]
    },
    {
      "cell_type": "markdown",
      "source": [
        "## f) Down negative class_Full Dataset (with a.c. interaction)\n",
        "deal with imbalanced dataset\n"
      ],
      "metadata": {
        "id": "YbbIwRwx07nK"
      }
    },
    {
      "cell_type": "markdown",
      "source": [
        "### Train / validation / Test"
      ],
      "metadata": {
        "id": "NTtEKcCC1qSx"
      }
    },
    {
      "cell_type": "code",
      "source": [
        "# split the entire dataset (df_test2) into training (80%) and evaluation+test (20%) sets.\n",
        "\n",
        "X_events2 = df_test2['events']  # Features\n",
        "y_targets2 = df_test2['targets']  # Targets\n",
        "\n",
        "X_events_train2, X_events_eval_test2, y_targets_train2, y_targets_eval_test2 = train_test_split(X_events2, y_targets2, test_size=0.2, random_state=42)\n",
        "\n",
        "# create datasest\n",
        "#train_dataset2 = pd.concat([X_events_train, y_targets_train], axis=1)\n",
        "#eval_test_dataset2 = pd.concat([X_events_eval_test, y_targets_eval_test], axis=1)"
      ],
      "metadata": {
        "id": "SN5mmr_806Vc"
      },
      "execution_count": null,
      "outputs": []
    },
    {
      "cell_type": "code",
      "source": [
        "#downsize only train set to handle data imbalance\n",
        "y_targets_train_pos2 = y_targets_train2[y_targets_train2.apply(sum) > 0]\n",
        "y_targets_train_neg2 = y_targets_train2[y_targets_train2.apply(sum) == 0]\n",
        "y_targets_train_neg_sampled2 = y_targets_train_neg2.sample(frac=0.105, random_state=42)\n",
        "y_targets_train_downsampled2 = pd.concat([y_targets_train_neg_sampled2, y_targets_train_pos2]).sample(frac=1, random_state=42)\n",
        "X_events_train_downsampled2 = X_events_train2[y_targets_train_downsampled2.index]\n",
        "\n",
        "# create datasest\n",
        "#train_dataset_downsampled2 = pd.concat([X_events_train_downsampled, y_targets_train_downsampled], axis=1)"
      ],
      "metadata": {
        "id": "k_CnyiupGccf"
      },
      "execution_count": null,
      "outputs": []
    },
    {
      "cell_type": "code",
      "source": [
        "len(y_targets_train_downsampled2), len(y_targets_eval_test2), y_targets_train_downsampled2.apply(sum).sum(), y_targets_eval_test2.apply(sum).sum()\n"
      ],
      "metadata": {
        "colab": {
          "base_uri": "https://localhost:8080/"
        },
        "id": "7SnxgfJDG7vU",
        "outputId": "d75bf3e9-400a-4f4f-a4a3-854694b17fa5"
      },
      "execution_count": null,
      "outputs": [
        {
          "output_type": "execute_result",
          "data": {
            "text/plain": [
              "(77477, 171092, 15721, 4025)"
            ]
          },
          "metadata": {},
          "execution_count": 21
        }
      ]
    },
    {
      "cell_type": "code",
      "source": [
        "15721/77477"
      ],
      "metadata": {
        "colab": {
          "base_uri": "https://localhost:8080/"
        },
        "id": "fGzKrlWBX7N5",
        "outputId": "faa4488f-a41d-4cf7-9b8a-f63e2e5f28b2"
      },
      "execution_count": null,
      "outputs": [
        {
          "output_type": "execute_result",
          "data": {
            "text/plain": [
              "0.2029118318984989"
            ]
          },
          "metadata": {},
          "execution_count": 22
        }
      ]
    },
    {
      "cell_type": "code",
      "source": [
        "15721*5"
      ],
      "metadata": {
        "colab": {
          "base_uri": "https://localhost:8080/"
        },
        "id": "w6qJ4s4OXSSL",
        "outputId": "14a5c634-1b88-4264-8484-e117ea5ad7eb"
      },
      "execution_count": null,
      "outputs": [
        {
          "output_type": "execute_result",
          "data": {
            "text/plain": [
              "78605"
            ]
          },
          "metadata": {},
          "execution_count": 23
        }
      ]
    },
    {
      "cell_type": "code",
      "source": [
        "# split portion of evaluation / test into evaluation (10%) and test (10%) sets.\n",
        "X_events_eval2, X_events_test2, y_targets_eval2, y_targets_test2 = train_test_split(X_events_eval_test2, y_targets_eval_test2, test_size=0.5, random_state=42)\n",
        "\n",
        "# create datasest\n",
        "#eval_dataset2 = pd.concat([X_events_eval, y_targets_eval], axis=1)\n",
        "#test_dataset2 = pd.concat([X_events_test, y_targets_test], axis=1)\n"
      ],
      "metadata": {
        "id": "_X_k99FYK6Ym"
      },
      "execution_count": null,
      "outputs": []
    },
    {
      "cell_type": "code",
      "source": [
        "#check size of eval and test\n",
        "len(y_targets_eval2), len(y_targets_test2), y_targets_eval2.apply(sum).sum(), y_targets_test2.apply(sum).sum()\n"
      ],
      "metadata": {
        "colab": {
          "base_uri": "https://localhost:8080/"
        },
        "id": "_OZ85NDKL_XH",
        "outputId": "db017dd8-408f-4566-bfce-c71728dbaec8"
      },
      "execution_count": null,
      "outputs": [
        {
          "output_type": "execute_result",
          "data": {
            "text/plain": [
              "(85546, 85546, 2126, 1899)"
            ]
          },
          "metadata": {},
          "execution_count": 25
        }
      ]
    },
    {
      "cell_type": "code",
      "source": [
        "# Create datasets\n",
        "train_dataset_downsampled2 = pd.concat([X_events_train_downsampled2, y_targets_train_downsampled2], axis=1)\n",
        "train_dataset2 = pd.concat([X_events_train2, y_targets_train2], axis=1)  # Full train dataset (no downsampling)\n",
        "eval_dataset2 = pd.concat([X_events_eval2, y_targets_eval2], axis=1)\n",
        "test_dataset2 = pd.concat([X_events_test2, y_targets_test2], axis=1)"
      ],
      "metadata": {
        "id": "z7IkjOkcShMX"
      },
      "execution_count": null,
      "outputs": []
    },
    {
      "cell_type": "code",
      "source": [
        "# Print sizes for verification\n",
        "print(\"Train Dataset (Downsampled):\", train_dataset_downsampled2.shape)\n",
        "print(\"Train Dataset (Full):\", train_dataset2.shape)\n",
        "print(\"Eval Dataset:\", eval_dataset2.shape)\n",
        "print(\"Test Dataset:\", test_dataset2.shape)"
      ],
      "metadata": {
        "colab": {
          "base_uri": "https://localhost:8080/"
        },
        "id": "89Fuh7lKSUqB",
        "outputId": "9296cb81-68ee-4f1c-d5ee-0a131bdb4070"
      },
      "execution_count": null,
      "outputs": [
        {
          "output_type": "stream",
          "name": "stdout",
          "text": [
            "Train Dataset (Downsampled): (77477, 2)\n",
            "Train Dataset (Full): (684368, 2)\n",
            "Eval Dataset: (85546, 2)\n",
            "Test Dataset: (85546, 2)\n"
          ]
        }
      ]
    },
    {
      "cell_type": "markdown",
      "source": [
        "# **DataSet** / **DataLoader**"
      ],
      "metadata": {
        "id": "x-HvJFmnGJ-g"
      }
    },
    {
      "cell_type": "code",
      "source": [
        "class AmlDataset(Dataset):\n",
        "    def __init__(self, data, features):\n",
        "        \"\"\"\n",
        "        @param data: pdf whose index is monotonically increases from 0\n",
        "        @param features: list of features to be used in an event\n",
        "        \"\"\"\n",
        "        self.data = data\n",
        "        self.features = features\n",
        "\n",
        "    def __getitem__(self, index):\n",
        "        psr_sample = self.data.iloc[index] #retrieves row at specified index from the data.\n",
        "        list_y = psr_sample[\"targets\"]\n",
        "        list_x = []\n",
        "\n",
        "        for event in psr_sample[\"events\"]:\n",
        "          x = [event[feature] for feature in self.features] #create X\n",
        "          list_x.append(x)\n",
        "\n",
        "        #Converts the extracted features (list_x) and targets (list_y) to NumPy arrays, Returns a tuple (x, y).\n",
        "        return np.array(list_x).astype(np.float32), np.array(list_y).astype(np.float32)\n",
        "\n",
        "    def __len__(self):\n",
        "        return len(self.data)"
      ],
      "metadata": {
        "id": "sXyEoKiiGS_9"
      },
      "execution_count": null,
      "outputs": []
    },
    {
      "cell_type": "markdown",
      "source": [
        "### a) Sampled Dataset (Traing Part)"
      ],
      "metadata": {
        "id": "Yll1NZbGIwDy"
      }
    },
    {
      "cell_type": "code",
      "source": [
        "# select some related features to be in training dataset\n",
        "aml_dataset_sampled = AmlDataset(\n",
        "    train_sampled_dataset,\n",
        "     ['day_of_week_encoded', 'hour', 'transaction_type_encoded',\n",
        "      'payment_currency_encoded', 'received_currency_encoded',\n",
        "      'sender_bank_location_encoded', 'receiver_bank_location_encoded',\n",
        "      'time_interval_normalized', 'amount_normalized'\n",
        "      ]\n",
        "    )\n",
        "X, Y = aml_dataset_sampled.__getitem__(0) #call__getitem__ on the dataset object with index = 0.\n",
        "X, Y, aml_dataset_sampled.__len__() #Calls __len__ to get total number of samples in the dataset."
      ],
      "metadata": {
        "colab": {
          "base_uri": "https://localhost:8080/"
        },
        "id": "x0Lp0icJNJJH",
        "outputId": "95a44b99-c20d-420d-ac3b-6d29d7c3cd65"
      },
      "execution_count": null,
      "outputs": [
        {
          "output_type": "execute_result",
          "data": {
            "text/plain": [
              "(array([[ 5.0000000e+00,  3.0000000e+00,  1.0000000e+00,  1.0000000e+01,\n",
              "          1.0000000e+01,  1.6000000e+01,  1.6000000e+01, -5.4420743e-02,\n",
              "          1.8184268e+00],\n",
              "        [ 5.0000000e+00,  3.0000000e+00,  1.0000000e+00,  1.0000000e+01,\n",
              "          1.0000000e+01,  1.6000000e+01,  1.6000000e+01, -5.2621409e-02,\n",
              "          1.8198484e+00],\n",
              "        [ 5.0000000e+00,  9.0000000e+00,  1.0000000e+00,  1.0000000e+01,\n",
              "          1.0000000e+01,  1.6000000e+01,  1.6000000e+01,  7.9164580e-02,\n",
              "          1.8397599e+00],\n",
              "        [ 5.0000000e+00,  9.0000000e+00,  1.0000000e+00,  1.0000000e+01,\n",
              "          1.0000000e+01,  1.6000000e+01,  1.6000000e+01, -5.2868970e-02,\n",
              "          1.8501354e+00],\n",
              "        [ 5.0000000e+00,  1.0000000e+01,  1.0000000e+00,  1.0000000e+01,\n",
              "          1.0000000e+01,  1.6000000e+01,  1.6000000e+01, -2.9024798e-02,\n",
              "          1.8310381e+00],\n",
              "        [ 5.0000000e+00,  1.1000000e+01,  1.0000000e+00,  1.0000000e+01,\n",
              "          1.0000000e+01,  1.6000000e+01,  1.6000000e+01, -3.2381941e-02,\n",
              "          1.8362926e+00],\n",
              "        [ 5.0000000e+00,  1.3000000e+01,  1.0000000e+00,  1.0000000e+01,\n",
              "          1.0000000e+01,  1.6000000e+01,  1.6000000e+01, -1.9128472e-02,\n",
              "          1.8413054e+00],\n",
              "        [ 5.0000000e+00,  1.4000000e+01,  1.0000000e+00,  1.0000000e+01,\n",
              "          1.0000000e+01,  1.6000000e+01,  1.6000000e+01, -3.8419969e-02,\n",
              "          1.8122066e+00],\n",
              "        [ 5.0000000e+00,  1.5000000e+01,  1.0000000e+00,  1.0000000e+01,\n",
              "          1.0000000e+01,  1.6000000e+01,  1.6000000e+01, -3.1578884e-02,\n",
              "          1.8421521e+00],\n",
              "        [ 5.0000000e+00,  1.6000000e+01,  1.0000000e+00,  1.0000000e+01,\n",
              "          1.0000000e+01,  1.6000000e+01,  1.6000000e+01, -2.8433071e-02,\n",
              "          1.8356841e+00],\n",
              "        [ 5.0000000e+00,  1.7000000e+01,  1.0000000e+00,  1.0000000e+01,\n",
              "          1.0000000e+01,  1.6000000e+01,  1.6000000e+01, -2.4943091e-02,\n",
              "          1.8475196e+00],\n",
              "        [ 5.0000000e+00,  1.9000000e+01,  1.0000000e+00,  1.0000000e+01,\n",
              "          1.0000000e+01,  1.6000000e+01,  1.6000000e+01, -2.1386694e-02,\n",
              "          1.8480692e+00],\n",
              "        [ 5.0000000e+00,  2.2000000e+01,  1.0000000e+00,  1.0000000e+01,\n",
              "          1.0000000e+01,  1.6000000e+01,  1.6000000e+01,  2.7696433e-02,\n",
              "          1.8343490e+00]], dtype=float32),\n",
              " array([0., 0., 0., 0., 0., 0., 0., 0., 0., 0., 0., 0., 0.], dtype=float32),\n",
              " 80000)"
            ]
          },
          "metadata": {},
          "execution_count": 29
        }
      ]
    },
    {
      "cell_type": "code",
      "source": [
        "# define aml_dataloader --> for training dataset\n",
        "aml_dataloader_sampled = DataLoader(\n",
        "    aml_dataset_sampled,\n",
        "    batch_size= None,\n",
        "    shuffle=True,\n",
        "    num_workers=0,\n",
        "    pin_memory=False, # if we have GPU, set pin_memory=True\n",
        "    drop_last=False, # every sample in dataset is important, even if the final batch size varies. So will not drop it.\n",
        ")\n",
        "\n",
        "aml_dataloader_sampled"
      ],
      "metadata": {
        "colab": {
          "base_uri": "https://localhost:8080/"
        },
        "id": "LSsk1rYWNheQ",
        "outputId": "38dde234-00f5-4c87-f6a9-77b081c65f39"
      },
      "execution_count": null,
      "outputs": [
        {
          "output_type": "execute_result",
          "data": {
            "text/plain": [
              "<torch.utils.data.dataloader.DataLoader at 0x7c72c681f3d0>"
            ]
          },
          "metadata": {},
          "execution_count": 30
        }
      ]
    },
    {
      "cell_type": "markdown",
      "source": [
        "### b) Downsampled Negative Class (Training Part)\n",
        "(Addressing Data Imbalance)"
      ],
      "metadata": {
        "id": "3BxH4pivNPty"
      }
    },
    {
      "cell_type": "code",
      "source": [
        "# select related features in traing dataset\n",
        "aml_dataset_sampled_downsampled = AmlDataset(\n",
        "    train_sampled_dataset_downsampled,\n",
        "    ['day_of_week_encoded', 'hour', 'transaction_type_encoded',\n",
        "      'payment_currency_encoded', 'received_currency_encoded',\n",
        "      'sender_bank_location_encoded', 'receiver_bank_location_encoded',\n",
        "      'time_interval_normalized', 'amount_normalized'\n",
        "      ]\n",
        "    )\n",
        "\n",
        "# define aml_dataloader --> for training dataset\n",
        "aml_dataloader_sampled_downsampled = DataLoader(\n",
        "    aml_dataset_sampled_downsampled,\n",
        "    batch_size= None,\n",
        "    shuffle=True,\n",
        "    num_workers=0,\n",
        "    pin_memory=False, # if we have GPU, set pin_memory=True\n",
        "    drop_last=False, # every sample in dataset is important, even if the final batch size varies. So will not drop it.\n",
        ")\n",
        "\n",
        "aml_dataloader_sampled_downsampled"
      ],
      "metadata": {
        "colab": {
          "base_uri": "https://localhost:8080/"
        },
        "id": "vnj0zFlvNZ4k",
        "outputId": "1d8b2a73-675f-4655-ae2c-3f1f25bf843e"
      },
      "execution_count": null,
      "outputs": [
        {
          "output_type": "execute_result",
          "data": {
            "text/plain": [
              "<torch.utils.data.dataloader.DataLoader at 0x7c72c681efe0>"
            ]
          },
          "metadata": {},
          "execution_count": 31
        }
      ]
    },
    {
      "cell_type": "markdown",
      "source": [
        "### a+b) Both Sampled / Downsampling (Evaluation Part)"
      ],
      "metadata": {
        "id": "ZIHiV0-EQZ5K"
      }
    },
    {
      "cell_type": "code",
      "source": [
        "# select some related features to be in evaluation /testing dataset\n",
        "aml_eval_dataset_sampled = AmlDataset(\n",
        "    test_sampled_dataset,\n",
        "     ['day_of_week_encoded', 'hour', 'transaction_type_encoded',\n",
        "      'payment_currency_encoded', 'received_currency_encoded',\n",
        "      'sender_bank_location_encoded', 'receiver_bank_location_encoded',\n",
        "      'time_interval_normalized', 'amount_normalized'\n",
        "      ]\n",
        "    )\n",
        "\n",
        "# define aml_eval_dataloader --> for evaluation / testing dataset\n",
        "aml_eval_dataloader_sampled = DataLoader(\n",
        "    aml_eval_dataset_sampled,\n",
        "    batch_size= None,\n",
        "    shuffle=False,\n",
        "    num_workers=0,\n",
        "    drop_last=False,\n",
        "    #collate_fn=lambda batch: custom_collate_fn(batch, max_history_length=50)  # Use the custom collate function\n",
        ")\n",
        "\n",
        "aml_eval_dataloader_sampled"
      ],
      "metadata": {
        "colab": {
          "base_uri": "https://localhost:8080/"
        },
        "id": "22-2hUleNlVy",
        "outputId": "13c83e11-8c28-425c-db2f-603c9f968197"
      },
      "execution_count": null,
      "outputs": [
        {
          "output_type": "execute_result",
          "data": {
            "text/plain": [
              "<torch.utils.data.dataloader.DataLoader at 0x7c72c681e9b0>"
            ]
          },
          "metadata": {},
          "execution_count": 32
        }
      ]
    },
    {
      "cell_type": "markdown",
      "source": [
        "### c) Sampled Dataset (with a.c.interaction) (downs.)"
      ],
      "metadata": {
        "id": "cf4ghTULXIXm"
      }
    },
    {
      "cell_type": "code",
      "source": [
        "# select some related columns to be in training dataset\n",
        "aml_dataset_sampled_id = AmlDataset(\n",
        "    train_sampled_dataset_downsampled,   #<from sce.b>\n",
        "     ['account_encoded','day_of_week_encoded', 'hour', 'transaction_type_encoded','account_interaction_encoded',\n",
        "      'payment_currency_encoded', 'received_currency_encoded',\n",
        "      'sender_bank_location_encoded', 'receiver_bank_location_encoded',\n",
        "      'time_interval_normalized', 'amount_normalized'\n",
        "      ]\n",
        "    )\n",
        "\n",
        "# define aml_dataloader --> for training dataset\n",
        "aml_dataloader_sampled_id = DataLoader(\n",
        "    aml_dataset_sampled_id,\n",
        "    batch_size= None,\n",
        "    shuffle=True,\n",
        "    num_workers=0,\n",
        "    pin_memory=False, # if we have GPU, set pin_memory=True\n",
        "    drop_last=False,\n",
        ")\n",
        "\n",
        "aml_dataloader_sampled_id"
      ],
      "metadata": {
        "colab": {
          "base_uri": "https://localhost:8080/"
        },
        "outputId": "8e32f3d4-0220-4530-f4ee-298b8da18609",
        "id": "CwO6iJpJXIXm"
      },
      "execution_count": null,
      "outputs": [
        {
          "output_type": "execute_result",
          "data": {
            "text/plain": [
              "<torch.utils.data.dataloader.DataLoader at 0x7c72c4e7ff10>"
            ]
          },
          "metadata": {},
          "execution_count": 33
        }
      ]
    },
    {
      "cell_type": "code",
      "source": [
        "# define aml_eval_dataloader --> for evaluation / testing dataset\n",
        "aml_eval_dataset_sampled_id = AmlDataset(\n",
        "    test_sampled_dataset,               #<from sce.b>\n",
        "     ['account_encoded', 'day_of_week_encoded', 'hour', 'transaction_type_encoded','account_interaction_encoded',\n",
        "      'payment_currency_encoded', 'received_currency_encoded',\n",
        "      'sender_bank_location_encoded', 'receiver_bank_location_encoded',\n",
        "      'time_interval_normalized', 'amount_normalized'\n",
        "      ]\n",
        "    )\n",
        "\n",
        "aml_eval_dataloader_sampled_id = DataLoader(\n",
        "    aml_eval_dataset_sampled_id,\n",
        "    batch_size= None,\n",
        "    shuffle=False,\n",
        "    num_workers=0,\n",
        "    drop_last=False,\n",
        "    #collate_fn=lambda batch: custom_collate_fn(batch, max_history_length=50)  # Use the custom collate function\n",
        ")\n",
        "\n",
        "aml_eval_dataloader_sampled_id"
      ],
      "metadata": {
        "colab": {
          "base_uri": "https://localhost:8080/"
        },
        "outputId": "de43dcb0-3fba-41af-c12d-89b1041fbf3d",
        "id": "KnBvEnj8XIXn"
      },
      "execution_count": null,
      "outputs": [
        {
          "output_type": "execute_result",
          "data": {
            "text/plain": [
              "<torch.utils.data.dataloader.DataLoader at 0x7c72c4e7d360>"
            ]
          },
          "metadata": {},
          "execution_count": 34
        }
      ]
    },
    {
      "cell_type": "markdown",
      "source": [
        "### d) Full Dataset (w/o a.c.interaction)"
      ],
      "metadata": {
        "id": "sxHBFfLiM16d"
      }
    },
    {
      "cell_type": "code",
      "source": [
        "# select some related columns to be in training dataset\n",
        "aml_dataset_noid = AmlDataset(\n",
        "    train_dataset,\n",
        "     ['account_encoded', 'day_of_week_encoded', 'hour', 'transaction_type_encoded',\n",
        "      'payment_currency_encoded', 'received_currency_encoded',\n",
        "      'sender_bank_location_encoded', 'receiver_bank_location_encoded',\n",
        "      'time_interval_normalized', 'amount_normalized'\n",
        "      ]\n",
        "    )\n",
        "\n",
        "# define aml_dataloader --> for training dataset\n",
        "aml_dataloader_noid = DataLoader(\n",
        "    aml_dataset_noid,\n",
        "    batch_size= None,\n",
        "    shuffle=True,\n",
        "    num_workers=0,\n",
        "    pin_memory=False, # if we have GPU, set pin_memory=True\n",
        "    drop_last=False, # every sample in dataset is important, even if the final batch size varies. So will not drop it.\n",
        ")\n",
        "\n",
        "aml_dataloader_noid"
      ],
      "metadata": {
        "colab": {
          "base_uri": "https://localhost:8080/"
        },
        "id": "GGZFKezfTlPt",
        "outputId": "5976e514-728b-491b-96a9-c9a2486ab906"
      },
      "execution_count": null,
      "outputs": [
        {
          "output_type": "execute_result",
          "data": {
            "text/plain": [
              "<torch.utils.data.dataloader.DataLoader at 0x7c72c4e7d300>"
            ]
          },
          "metadata": {},
          "execution_count": 35
        }
      ]
    },
    {
      "cell_type": "code",
      "source": [
        "# define aml_eval_dataloader --> for evaluation / testing dataset\n",
        "aml_eval_dataset_noid = AmlDataset(\n",
        "    test_dataset,\n",
        "     ['account_encoded', 'day_of_week_encoded', 'hour', 'transaction_type_encoded',\n",
        "      'payment_currency_encoded', 'received_currency_encoded',\n",
        "      'sender_bank_location_encoded', 'receiver_bank_location_encoded',\n",
        "      'time_interval_normalized', 'amount_normalized'\n",
        "      ]\n",
        "    )\n",
        "\n",
        "aml_eval_dataloader_noid = DataLoader(\n",
        "    aml_eval_dataset_noid,\n",
        "    batch_size= None,\n",
        "    shuffle=False,\n",
        "    num_workers=0,\n",
        "    drop_last=False,\n",
        "    #collate_fn=lambda batch: custom_collate_fn(batch, max_history_length=50)  # Use the custom collate function\n",
        ")\n",
        "\n",
        "aml_eval_dataloader_noid"
      ],
      "metadata": {
        "colab": {
          "base_uri": "https://localhost:8080/"
        },
        "id": "tfXOsEtiTlN4",
        "outputId": "b12e3900-a5f7-40a6-9642-89ceb5062fb4"
      },
      "execution_count": null,
      "outputs": [
        {
          "output_type": "execute_result",
          "data": {
            "text/plain": [
              "<torch.utils.data.dataloader.DataLoader at 0x7c72c4e7dd20>"
            ]
          },
          "metadata": {},
          "execution_count": 36
        }
      ]
    },
    {
      "cell_type": "markdown",
      "source": [
        "### e) Full Dataset (with a.c.interaction)"
      ],
      "metadata": {
        "id": "Opah0knQM1ua"
      }
    },
    {
      "cell_type": "code",
      "source": [
        "# select some related columns to be in training dataset\n",
        "aml_dataset_id = AmlDataset(\n",
        "    train_dataset,\n",
        "     ['account_encoded', 'day_of_week_encoded', 'hour', 'transaction_type_encoded','account_interaction_encoded',\n",
        "      'payment_currency_encoded', 'received_currency_encoded',\n",
        "      'sender_bank_location_encoded', 'receiver_bank_location_encoded',\n",
        "      'time_interval_normalized', 'amount_normalized'\n",
        "      ]\n",
        "    )\n",
        "\n",
        "# define aml_dataloader --> for training dataset\n",
        "aml_dataloader_id = DataLoader(\n",
        "    aml_dataset_id,\n",
        "    batch_size= None,\n",
        "    shuffle=True,\n",
        "    num_workers=0,\n",
        "    pin_memory=False, # if we have GPU, set pin_memory=True\n",
        "    drop_last=False, # every sample in dataset is important, even if the final batch size varies. So will not drop it.\n",
        ")\n",
        "\n",
        "aml_dataloader_id"
      ],
      "metadata": {
        "colab": {
          "base_uri": "https://localhost:8080/"
        },
        "id": "wTIkF8ciTlpt",
        "outputId": "a7c6b4a7-9f1d-4758-8d61-661c87fdfbad"
      },
      "execution_count": null,
      "outputs": [
        {
          "output_type": "execute_result",
          "data": {
            "text/plain": [
              "<torch.utils.data.dataloader.DataLoader at 0x7c72c4e7fc70>"
            ]
          },
          "metadata": {},
          "execution_count": 37
        }
      ]
    },
    {
      "cell_type": "code",
      "source": [
        "# define aml_eval_dataloader --> for evaluation / testing dataset\n",
        "aml_eval_dataset_id = AmlDataset(\n",
        "    test_dataset,\n",
        "     ['account_encoded', 'day_of_week_encoded', 'hour', 'transaction_type_encoded','account_interaction_encoded',\n",
        "      'payment_currency_encoded', 'received_currency_encoded',\n",
        "      'sender_bank_location_encoded', 'receiver_bank_location_encoded',\n",
        "      'time_interval_normalized', 'amount_normalized'\n",
        "      ]\n",
        "    )\n",
        "\n",
        "aml_eval_dataloader_id = DataLoader(\n",
        "    aml_eval_dataset_id,\n",
        "    batch_size= None,\n",
        "    shuffle=False,\n",
        "    num_workers=0,\n",
        "    drop_last=False,\n",
        "    #collate_fn=lambda batch: custom_collate_fn(batch, max_history_length=50)  # Use the custom collate function\n",
        ")\n",
        "\n",
        "aml_eval_dataloader_id"
      ],
      "metadata": {
        "colab": {
          "base_uri": "https://localhost:8080/"
        },
        "id": "8vFhmNNGTlnV",
        "outputId": "a862b25b-6e4c-4763-fd71-42c8df083510"
      },
      "execution_count": null,
      "outputs": [
        {
          "output_type": "execute_result",
          "data": {
            "text/plain": [
              "<torch.utils.data.dataloader.DataLoader at 0x7c72c4e7d270>"
            ]
          },
          "metadata": {},
          "execution_count": 38
        }
      ]
    },
    {
      "cell_type": "markdown",
      "source": [
        "## f) Down negative class_Full Dataset (with a.c. interaction)\n",
        "deal with imbalanced dataset"
      ],
      "metadata": {
        "id": "JcVuCtawJyc7"
      }
    },
    {
      "cell_type": "code",
      "source": [
        "# train_dataset_downsampled = pd.concat([X_events_train_downsampled, y_targets_train_downsampled], axis=1)\n",
        "# train_dataset = pd.concat([X_events_train, y_targets_train], axis=1)  # Full train dataset (no downsampling)\n",
        "# eval_dataset = pd.concat([X_events_eval, y_targets_eval], axis=1)\n",
        "# test_dataset = pd.concat([X_events_test, y_targets_test], axis=1)"
      ],
      "metadata": {
        "id": "N0NMA3PGVhX5"
      },
      "execution_count": null,
      "outputs": []
    },
    {
      "cell_type": "code",
      "source": [
        "# train_dataset_downsampled.to_parquet(\"/content/drive/MyDrive/DE/Master_Degree/3rd_Semester/Colab_Notebook/AML_file/train_dataset_downsampled.parquet\")\n"
      ],
      "metadata": {
        "id": "8sqTrFiRWEUv"
      },
      "execution_count": null,
      "outputs": []
    },
    {
      "cell_type": "code",
      "source": [
        "# select some related columns to be in training dataset (down neg. sample)\n",
        "aml_dataset_id_downs2 = AmlDataset(\n",
        "    train_dataset_downsampled2,\n",
        "     ['account_encoded', 'day_of_week_encoded', 'hour', 'transaction_type_encoded','account_interaction_encoded',\n",
        "      'payment_currency_encoded', 'received_currency_encoded',\n",
        "      'sender_bank_location_encoded', 'receiver_bank_location_encoded',\n",
        "      'time_interval_normalized', 'amount_normalized'\n",
        "      ]\n",
        "    )\n",
        "\n",
        "# define aml_dataloader --> for training dataset\n",
        "aml_dataloader_id_downs2 = DataLoader(\n",
        "    aml_dataset_id_downs2,\n",
        "    batch_size= None,\n",
        "    shuffle=False,\n",
        "    num_workers=0,\n",
        "    pin_memory=False, # if we have GPU, set pin_memory=True\n",
        "    drop_last=False, # every sample in dataset is important, even if the final batch size varies. So will not drop it.\n",
        ")\n",
        "\n",
        "aml_dataloader_id_downs2"
      ],
      "metadata": {
        "colab": {
          "base_uri": "https://localhost:8080/"
        },
        "id": "SMS-E-Q7J0Mc",
        "outputId": "80455a51-36fa-4291-df27-eca941b0242b"
      },
      "execution_count": null,
      "outputs": [
        {
          "output_type": "execute_result",
          "data": {
            "text/plain": [
              "<torch.utils.data.dataloader.DataLoader at 0x7c72c4e7fa90>"
            ]
          },
          "metadata": {},
          "execution_count": 41
        }
      ]
    },
    {
      "cell_type": "code",
      "source": [
        "# eval_dataset.to_parquet(\"/content/drive/MyDrive/DE/Master_Degree/3rd_Semester/Colab_Notebook/AML_file/eval_dataset.parquet\")\n"
      ],
      "metadata": {
        "id": "oMk8zseTWRTo"
      },
      "execution_count": null,
      "outputs": []
    },
    {
      "cell_type": "code",
      "source": [
        "# define aml_eval_dataloader --> for evaluation\n",
        "aml_eval_dataset_id2 = AmlDataset(\n",
        "    eval_dataset2,\n",
        "     ['account_encoded', 'day_of_week_encoded', 'hour', 'transaction_type_encoded','account_interaction_encoded',\n",
        "      'payment_currency_encoded', 'received_currency_encoded',\n",
        "      'sender_bank_location_encoded', 'receiver_bank_location_encoded',\n",
        "      'time_interval_normalized', 'amount_normalized'\n",
        "      ]\n",
        "    )\n",
        "\n",
        "aml_eval_dataloader_id2 = DataLoader(\n",
        "    aml_eval_dataset_id2,\n",
        "    batch_size= None,\n",
        "    shuffle=False,\n",
        "    num_workers=0,\n",
        "    drop_last=False,\n",
        "    #collate_fn=lambda batch: custom_collate_fn(batch, max_history_length=50)  # Use the custom collate function\n",
        ")\n",
        "\n",
        "aml_eval_dataloader_id2"
      ],
      "metadata": {
        "colab": {
          "base_uri": "https://localhost:8080/"
        },
        "id": "r-mZwBwxJ0KU",
        "outputId": "be31fbd7-5e25-4668-ce2c-4c0598d828a7"
      },
      "execution_count": null,
      "outputs": [
        {
          "output_type": "execute_result",
          "data": {
            "text/plain": [
              "<torch.utils.data.dataloader.DataLoader at 0x7c72c4e7d690>"
            ]
          },
          "metadata": {},
          "execution_count": 43
        }
      ]
    },
    {
      "cell_type": "code",
      "source": [
        "# test_dataset.to_parquet(\"/content/drive/MyDrive/DE/Master_Degree/3rd_Semester/Colab_Notebook/AML_file/test_dataset.parquet\")\n"
      ],
      "metadata": {
        "id": "wuyZ0_FPWXFQ"
      },
      "execution_count": null,
      "outputs": []
    },
    {
      "cell_type": "code",
      "source": [
        "# define aml_eval_dataloader --> for testing dataset\n",
        "aml_test_dataset_id2 = AmlDataset(\n",
        "    test_dataset2,\n",
        "     ['account_encoded', 'day_of_week_encoded', 'hour', 'transaction_type_encoded','account_interaction_encoded',\n",
        "      'payment_currency_encoded', 'received_currency_encoded',\n",
        "      'sender_bank_location_encoded', 'receiver_bank_location_encoded',\n",
        "      'time_interval_normalized', 'amount_normalized'\n",
        "      ]\n",
        "    )\n",
        "\n",
        "aml_test_dataloader_id2 = DataLoader(\n",
        "    aml_test_dataset_id2,\n",
        "    batch_size= None,\n",
        "    shuffle=False,\n",
        "    num_workers=0,\n",
        "    drop_last=False,\n",
        "    #collate_fn=lambda batch: custom_collate_fn(batch, max_history_length=50)  # Use the custom collate function\n",
        ")\n",
        "\n",
        "aml_test_dataloader_id2"
      ],
      "metadata": {
        "colab": {
          "base_uri": "https://localhost:8080/"
        },
        "id": "OarG8t2MKATT",
        "outputId": "e71e4808-3b12-4ec9-b916-577e221739e0"
      },
      "execution_count": null,
      "outputs": [
        {
          "output_type": "execute_result",
          "data": {
            "text/plain": [
              "<torch.utils.data.dataloader.DataLoader at 0x7c72c4e7e8c0>"
            ]
          },
          "metadata": {},
          "execution_count": 45
        }
      ]
    },
    {
      "cell_type": "markdown",
      "source": [
        "# Save path of Dataset/DataLoader (for each scenario)"
      ],
      "metadata": {
        "id": "4uRd8cTifWIA"
      }
    },
    {
      "cell_type": "markdown",
      "source": [],
      "metadata": {
        "id": "sThtMkCVJmEx"
      }
    },
    {
      "cell_type": "markdown",
      "source": [
        "## a) Sampled Dataset"
      ],
      "metadata": {
        "id": "RboSK9WEfuWT"
      }
    },
    {
      "cell_type": "code",
      "source": [
        "# for training part\n",
        "#aml_dataset_sampled\n",
        "#aml_dataloader_sampled\n",
        "\n",
        "torch.save(aml_dataset_sampled, \"/content/drive/MyDrive/DE/Master_Degree/3rd_Semester/Colab_Notebook/AML_file/aml_dataset_sampled.pth\")\n",
        "torch.save(aml_dataloader_sampled, \"/content/drive/MyDrive/DE/Master_Degree/3rd_Semester/Colab_Notebook/AML_file/aml_dataloader_sampled.pth\")\n",
        "\n",
        "print(\"saved!\")"
      ],
      "metadata": {
        "colab": {
          "base_uri": "https://localhost:8080/"
        },
        "id": "XOWOS1uvoNW0",
        "outputId": "a7b0061c-987a-4f54-f2e0-be8c2989eeab"
      },
      "execution_count": null,
      "outputs": [
        {
          "output_type": "stream",
          "name": "stdout",
          "text": [
            "saved!\n"
          ]
        }
      ]
    },
    {
      "cell_type": "markdown",
      "source": [
        "## b) Downsampled Negative Class"
      ],
      "metadata": {
        "id": "DRavaJbsfvdb"
      }
    },
    {
      "cell_type": "code",
      "source": [
        "# for training part\n",
        "#aml_dataset_sampled_downsampled\n",
        "#aml_dataloader_sampled_downsampled\n",
        "\n",
        "\n",
        "\n",
        "torch.save(aml_dataset_sampled_downsampled, \"/content/drive/MyDrive/DE/Master_Degree/3rd_Semester/Colab_Notebook/AML_file/aml_dataset_sampled_downsampled.pth\")\n",
        "torch.save(aml_dataloader_sampled_downsampled, \"/content/drive/MyDrive/DE/Master_Degree/3rd_Semester/Colab_Notebook/AML_file/aml_dataloader_sampled_downsampled.pth\")\n"
      ],
      "metadata": {
        "id": "0OSd6_pioNyF"
      },
      "execution_count": null,
      "outputs": []
    },
    {
      "cell_type": "markdown",
      "source": [
        "## a+b) both scenarios use the same path for eval_part"
      ],
      "metadata": {
        "id": "8yyZqTYbuPn_"
      }
    },
    {
      "cell_type": "code",
      "source": [
        "# for evaluating both sampled & and downsampled dataset\n",
        "#aml_eval_dataset_sampled\n",
        "#aml_eval_dataloader_sampled\n",
        "\n",
        "\n",
        "path_eval_dataset_sampled = torch.save(aml_eval_dataset_sampled, \"/content/drive/MyDrive/DE/Master_Degree/3rd_Semester/Colab_Notebook/AML_file/aml_eval_dataset_sampled.pth\")\n",
        "path_eval_dataloader_sampled = torch.save(aml_eval_dataloader_sampled, \"/content/drive/MyDrive/DE/Master_Degree/3rd_Semester/Colab_Notebook/AML_file/aml_eval_dataloader_sampled.pth\")\n"
      ],
      "metadata": {
        "id": "mLo8rgEWtN9s"
      },
      "execution_count": null,
      "outputs": []
    },
    {
      "cell_type": "markdown",
      "source": [
        "## c) Sampled Dataset (with a.c.interaction)"
      ],
      "metadata": {
        "id": "wbi0J1S9X4Gg"
      }
    },
    {
      "cell_type": "code",
      "source": [
        "# for training part\n",
        "#aml_dataset_sampled_id\n",
        "#aml_dataloader_sampled_id\n",
        "\n",
        "torch.save(aml_dataset_sampled_id, \"/content/drive/MyDrive/DE/Master_Degree/3rd_Semester/Colab_Notebook/AML_file/aml_dataset_sampled_id.pth\")\n",
        "torch.save(aml_dataloader_sampled_id, \"/content/drive/MyDrive/DE/Master_Degree/3rd_Semester/Colab_Notebook/AML_file/aml_dataloader_sampled_id.pth\")"
      ],
      "metadata": {
        "collapsed": true,
        "id": "SitYS9oVX4Gg"
      },
      "execution_count": null,
      "outputs": []
    },
    {
      "cell_type": "code",
      "source": [
        "# for evaluating part\n",
        "#aml_eval_dataset_sampled_id\n",
        "#aml_eval_dataloader_sampled_id\n",
        "\n",
        "torch.save(aml_eval_dataset_sampled_id, \"/content/drive/MyDrive/DE/Master_Degree/3rd_Semester/Colab_Notebook/AML_file/aml_eval_dataset_sampled_id.pth\")\n",
        "torch.save(aml_eval_dataloader_sampled_id, \"/content/drive/MyDrive/DE/Master_Degree/3rd_Semester/Colab_Notebook/AML_file/aml_eval_dataloader_sampled_id.pth\")"
      ],
      "metadata": {
        "id": "sRKfy1ZpX4Gg"
      },
      "execution_count": null,
      "outputs": []
    },
    {
      "cell_type": "markdown",
      "source": [
        "## d) Full Dataset (w/o a.c.interaction)"
      ],
      "metadata": {
        "id": "lbUvcFtBfwgJ"
      }
    },
    {
      "cell_type": "code",
      "source": [
        "# for training part\n",
        "#aml_dataset_noid\n",
        "#aml_dataloader_noid\n",
        "\n",
        "torch.save(aml_dataset_noid, \"/content/drive/MyDrive/DE/Master_Degree/3rd_Semester/Colab_Notebook/AML_file/aml_dataset_noid.pth\")\n",
        "torch.save(aml_dataloader_noid, \"/content/drive/MyDrive/DE/Master_Degree/3rd_Semester/Colab_Notebook/AML_file/aml_dataloader_noid.pth\")"
      ],
      "metadata": {
        "id": "J4z1FlhBoOUS"
      },
      "execution_count": null,
      "outputs": []
    },
    {
      "cell_type": "code",
      "source": [
        "# for evaluating part\n",
        "#aml_eval_dataset_noid\n",
        "#aml_eval_dataloader_noid\n",
        "\n",
        "torch.save(aml_eval_dataset_noid, \"/content/drive/MyDrive/DE/Master_Degree/3rd_Semester/Colab_Notebook/AML_file/aml_eval_dataset_noid.pth\")\n",
        "torch.save(aml_eval_dataloader_noid, \"/content/drive/MyDrive/DE/Master_Degree/3rd_Semester/Colab_Notebook/AML_file/aml_eval_dataloader_noid.pth\")"
      ],
      "metadata": {
        "id": "97CRU6d-v_uc"
      },
      "execution_count": null,
      "outputs": []
    },
    {
      "cell_type": "markdown",
      "source": [
        "## e) Full Dataset (with a.c.interaction)"
      ],
      "metadata": {
        "id": "ezGBKNR8fxUt"
      }
    },
    {
      "cell_type": "code",
      "source": [
        "# for training part\n",
        "#aml_dataset_id\n",
        "#aml_dataloader_id\n",
        "\n",
        "torch.save(aml_dataset_id, \"/content/drive/MyDrive/DE/Master_Degree/3rd_Semester/Colab_Notebook/AML_file/aml_dataset_id.pth\")\n",
        "torch.save(aml_dataloader_id, \"/content/drive/MyDrive/DE/Master_Degree/3rd_Semester/Colab_Notebook/AML_file/aml_dataloader_id.pth\")"
      ],
      "metadata": {
        "collapsed": true,
        "id": "c0gEiNEaoO4I"
      },
      "execution_count": null,
      "outputs": []
    },
    {
      "cell_type": "code",
      "source": [
        "# for evaluating part\n",
        "#aml_eval_dataset_id\n",
        "#aml_eval_dataloader_id\n",
        "\n",
        "torch.save(aml_eval_dataset_id, \"/content/drive/MyDrive/DE/Master_Degree/3rd_Semester/Colab_Notebook/AML_file/aml_eval_dataset_id.pth\")\n",
        "torch.save(aml_eval_dataloader_id, \"/content/drive/MyDrive/DE/Master_Degree/3rd_Semester/Colab_Notebook/AML_file/aml_eval_dataloader_id.pth\")"
      ],
      "metadata": {
        "id": "Ai0hwNWByXcl"
      },
      "execution_count": null,
      "outputs": []
    },
    {
      "cell_type": "markdown",
      "source": [
        "## f) Down negative class_Full Dataset (with a.c. interaction)\n",
        "deal with imbalanced dataset"
      ],
      "metadata": {
        "id": "ZO0CUMsrJp-N"
      }
    },
    {
      "cell_type": "markdown",
      "source": [
        "1)"
      ],
      "metadata": {
        "id": "ZIMD_D_PYDFn"
      }
    },
    {
      "cell_type": "code",
      "source": [
        "# for training part\n",
        "#aml_dataset_id_downs2\n",
        "#aml_dataloader_id_downs2\n",
        "\n",
        "torch.save(aml_dataset_id_downs2, \"/content/drive/MyDrive/DE/Master_Degree/3rd_Semester/Colab_Notebook/AML_file/aml_dataset_id_downs2.pth\")\n",
        "torch.save(aml_dataloader_id_downs2, \"/content/drive/MyDrive/DE/Master_Degree/3rd_Semester/Colab_Notebook/AML_file/aml_dataloader_id_downs2.pth\")"
      ],
      "metadata": {
        "id": "a221P0BDJsoM"
      },
      "execution_count": null,
      "outputs": []
    },
    {
      "cell_type": "code",
      "source": [
        "# for evaluating part\n",
        "#aml_eval_dataset_id\n",
        "#aml_eval_dataloader_id\n",
        "\n",
        "\n",
        "torch.save(aml_eval_dataset_id2, \"/content/drive/MyDrive/DE/Master_Degree/3rd_Semester/Colab_Notebook/AML_file/aml_eval_dataset_id2.pth\")\n",
        "torch.save(aml_eval_dataloader_id2, \"/content/drive/MyDrive/DE/Master_Degree/3rd_Semester/Colab_Notebook/AML_file/aml_eval_dataloader_id2.pth\")"
      ],
      "metadata": {
        "id": "hRO9AN2ZWM8t"
      },
      "execution_count": null,
      "outputs": []
    },
    {
      "cell_type": "code",
      "source": [
        "# for testing part\n",
        "#aml_test_dataset_id1\n",
        "#aml_test_dataloader_id1\n",
        "\n",
        "torch.save(aml_test_dataset_id2, \"/content/drive/MyDrive/DE/Master_Degree/3rd_Semester/Colab_Notebook/AML_file/aml_test_dataset_id2.pth\")\n",
        "torch.save(aml_test_dataloader_id2, \"/content/drive/MyDrive/DE/Master_Degree/3rd_Semester/Colab_Notebook/AML_file/aml_test_dataloader_id2.pth\")"
      ],
      "metadata": {
        "id": "9i6Ym19dWNbL"
      },
      "execution_count": null,
      "outputs": []
    }
  ]
}