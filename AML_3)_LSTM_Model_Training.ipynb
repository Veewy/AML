{
  "cells": [
    {
      "cell_type": "markdown",
      "metadata": {
        "id": "view-in-github",
        "colab_type": "text"
      },
      "source": [
        "<a href=\"https://colab.research.google.com/github/Veewy/AML/blob/main/AML_3)_LSTM_Model_Training.ipynb\" target=\"_parent\"><img src=\"https://colab.research.google.com/assets/colab-badge.svg\" alt=\"Open In Colab\"/></a>"
      ]
    },
    {
      "cell_type": "markdown",
      "metadata": {
        "id": "PsgyGOFKZo_M"
      },
      "source": [
        "# **Data Import**"
      ]
    },
    {
      "cell_type": "code",
      "execution_count": 1,
      "metadata": {
        "colab": {
          "base_uri": "https://localhost:8080/"
        },
        "collapsed": true,
        "id": "vAuiTXINYrZY",
        "outputId": "63a3afa2-f3a9-45b0-d09b-b2dca0a4c555"
      },
      "outputs": [
        {
          "output_type": "stream",
          "name": "stdout",
          "text": [
            "Collecting torchmetrics\n",
            "  Downloading torchmetrics-1.6.1-py3-none-any.whl.metadata (21 kB)\n",
            "Requirement already satisfied: numpy>1.20.0 in /usr/local/lib/python3.10/dist-packages (from torchmetrics) (1.26.4)\n",
            "Requirement already satisfied: packaging>17.1 in /usr/local/lib/python3.10/dist-packages (from torchmetrics) (24.2)\n",
            "Requirement already satisfied: torch>=2.0.0 in /usr/local/lib/python3.10/dist-packages (from torchmetrics) (2.5.1+cu121)\n",
            "Collecting lightning-utilities>=0.8.0 (from torchmetrics)\n",
            "  Downloading lightning_utilities-0.11.9-py3-none-any.whl.metadata (5.2 kB)\n",
            "Requirement already satisfied: setuptools in /usr/local/lib/python3.10/dist-packages (from lightning-utilities>=0.8.0->torchmetrics) (75.1.0)\n",
            "Requirement already satisfied: typing-extensions in /usr/local/lib/python3.10/dist-packages (from lightning-utilities>=0.8.0->torchmetrics) (4.12.2)\n",
            "Requirement already satisfied: filelock in /usr/local/lib/python3.10/dist-packages (from torch>=2.0.0->torchmetrics) (3.16.1)\n",
            "Requirement already satisfied: networkx in /usr/local/lib/python3.10/dist-packages (from torch>=2.0.0->torchmetrics) (3.4.2)\n",
            "Requirement already satisfied: jinja2 in /usr/local/lib/python3.10/dist-packages (from torch>=2.0.0->torchmetrics) (3.1.5)\n",
            "Requirement already satisfied: fsspec in /usr/local/lib/python3.10/dist-packages (from torch>=2.0.0->torchmetrics) (2024.10.0)\n",
            "Requirement already satisfied: sympy==1.13.1 in /usr/local/lib/python3.10/dist-packages (from torch>=2.0.0->torchmetrics) (1.13.1)\n",
            "Requirement already satisfied: mpmath<1.4,>=1.1.0 in /usr/local/lib/python3.10/dist-packages (from sympy==1.13.1->torch>=2.0.0->torchmetrics) (1.3.0)\n",
            "Requirement already satisfied: MarkupSafe>=2.0 in /usr/local/lib/python3.10/dist-packages (from jinja2->torch>=2.0.0->torchmetrics) (3.0.2)\n",
            "Downloading torchmetrics-1.6.1-py3-none-any.whl (927 kB)\n",
            "\u001b[2K   \u001b[90m━━━━━━━━━━━━━━━━━━━━━━━━━━━━━━━━━━━━━━━━\u001b[0m \u001b[32m927.3/927.3 kB\u001b[0m \u001b[31m34.8 MB/s\u001b[0m eta \u001b[36m0:00:00\u001b[0m\n",
            "\u001b[?25hDownloading lightning_utilities-0.11.9-py3-none-any.whl (28 kB)\n",
            "Installing collected packages: lightning-utilities, torchmetrics\n",
            "Successfully installed lightning-utilities-0.11.9 torchmetrics-1.6.1\n"
          ]
        }
      ],
      "source": [
        "!pip install torchmetrics"
      ]
    },
    {
      "cell_type": "code",
      "execution_count": 2,
      "metadata": {
        "colab": {
          "base_uri": "https://localhost:8080/"
        },
        "collapsed": true,
        "id": "FgdQSUscZxJ-",
        "outputId": "4c76f02b-ebd6-46ca-af22-ce3a6cfd44be"
      },
      "outputs": [
        {
          "output_type": "stream",
          "name": "stdout",
          "text": [
            "Collecting optuna\n",
            "  Downloading optuna-4.1.0-py3-none-any.whl.metadata (16 kB)\n",
            "Collecting alembic>=1.5.0 (from optuna)\n",
            "  Downloading alembic-1.14.0-py3-none-any.whl.metadata (7.4 kB)\n",
            "Collecting colorlog (from optuna)\n",
            "  Downloading colorlog-6.9.0-py3-none-any.whl.metadata (10 kB)\n",
            "Requirement already satisfied: numpy in /usr/local/lib/python3.10/dist-packages (from optuna) (1.26.4)\n",
            "Requirement already satisfied: packaging>=20.0 in /usr/local/lib/python3.10/dist-packages (from optuna) (24.2)\n",
            "Requirement already satisfied: sqlalchemy>=1.4.2 in /usr/local/lib/python3.10/dist-packages (from optuna) (2.0.36)\n",
            "Requirement already satisfied: tqdm in /usr/local/lib/python3.10/dist-packages (from optuna) (4.67.1)\n",
            "Requirement already satisfied: PyYAML in /usr/local/lib/python3.10/dist-packages (from optuna) (6.0.2)\n",
            "Collecting Mako (from alembic>=1.5.0->optuna)\n",
            "  Downloading Mako-1.3.8-py3-none-any.whl.metadata (2.9 kB)\n",
            "Requirement already satisfied: typing-extensions>=4 in /usr/local/lib/python3.10/dist-packages (from alembic>=1.5.0->optuna) (4.12.2)\n",
            "Requirement already satisfied: greenlet!=0.4.17 in /usr/local/lib/python3.10/dist-packages (from sqlalchemy>=1.4.2->optuna) (3.1.1)\n",
            "Requirement already satisfied: MarkupSafe>=0.9.2 in /usr/local/lib/python3.10/dist-packages (from Mako->alembic>=1.5.0->optuna) (3.0.2)\n",
            "Downloading optuna-4.1.0-py3-none-any.whl (364 kB)\n",
            "\u001b[2K   \u001b[90m━━━━━━━━━━━━━━━━━━━━━━━━━━━━━━━━━━━━━━━━\u001b[0m \u001b[32m364.4/364.4 kB\u001b[0m \u001b[31m18.1 MB/s\u001b[0m eta \u001b[36m0:00:00\u001b[0m\n",
            "\u001b[?25hDownloading alembic-1.14.0-py3-none-any.whl (233 kB)\n",
            "\u001b[2K   \u001b[90m━━━━━━━━━━━━━━━━━━━━━━━━━━━━━━━━━━━━━━━━\u001b[0m \u001b[32m233.5/233.5 kB\u001b[0m \u001b[31m21.1 MB/s\u001b[0m eta \u001b[36m0:00:00\u001b[0m\n",
            "\u001b[?25hDownloading colorlog-6.9.0-py3-none-any.whl (11 kB)\n",
            "Downloading Mako-1.3.8-py3-none-any.whl (78 kB)\n",
            "\u001b[2K   \u001b[90m━━━━━━━━━━━━━━━━━━━━━━━━━━━━━━━━━━━━━━━━\u001b[0m \u001b[32m78.6/78.6 kB\u001b[0m \u001b[31m7.0 MB/s\u001b[0m eta \u001b[36m0:00:00\u001b[0m\n",
            "\u001b[?25hInstalling collected packages: Mako, colorlog, alembic, optuna\n",
            "Successfully installed Mako-1.3.8 alembic-1.14.0 colorlog-6.9.0 optuna-4.1.0\n"
          ]
        }
      ],
      "source": [
        "!pip install optuna"
      ]
    },
    {
      "cell_type": "code",
      "source": [
        "!pip install torcheval"
      ],
      "metadata": {
        "colab": {
          "base_uri": "https://localhost:8080/"
        },
        "id": "X5A8ETfU9FCt",
        "outputId": "c5fa94e9-b7fb-47f8-80e2-b1e227bc18d9"
      },
      "execution_count": 3,
      "outputs": [
        {
          "output_type": "stream",
          "name": "stdout",
          "text": [
            "Collecting torcheval\n",
            "  Downloading torcheval-0.0.7-py3-none-any.whl.metadata (8.6 kB)\n",
            "Requirement already satisfied: typing-extensions in /usr/local/lib/python3.10/dist-packages (from torcheval) (4.12.2)\n",
            "Downloading torcheval-0.0.7-py3-none-any.whl (179 kB)\n",
            "\u001b[?25l   \u001b[90m━━━━━━━━━━━━━━━━━━━━━━━━━━━━━━━━━━━━━━━━\u001b[0m \u001b[32m0.0/179.2 kB\u001b[0m \u001b[31m?\u001b[0m eta \u001b[36m-:--:--\u001b[0m\r\u001b[2K   \u001b[90m━━━━━━━━━━━━━━━━━━━━━━━━━━━━━━━━━━━━━━━━\u001b[0m \u001b[32m179.2/179.2 kB\u001b[0m \u001b[31m6.6 MB/s\u001b[0m eta \u001b[36m0:00:00\u001b[0m\n",
            "\u001b[?25hInstalling collected packages: torcheval\n",
            "Successfully installed torcheval-0.0.7\n"
          ]
        }
      ]
    },
    {
      "cell_type": "code",
      "execution_count": 4,
      "metadata": {
        "id": "wtuRzZisZznh"
      },
      "outputs": [],
      "source": [
        "import pandas as pd\n",
        "import numpy as np\n",
        "import matplotlib.pyplot as plt\n",
        "import seaborn as sb\n",
        "import torch\n",
        "import torch.nn as nn\n",
        "import torch.optim as optim\n",
        "import optuna\n",
        "import os\n",
        "\n",
        "from torch.optim.lr_scheduler import ReduceLROnPlateau\n",
        "from functools import partial\n",
        "from torch.utils.data import Dataset, DataLoader\n",
        "from datetime import datetime\n",
        "from sklearn.metrics import auc\n",
        "from sklearn.preprocessing import LabelEncoder\n",
        "from sklearn.preprocessing import RobustScaler\n",
        "from sklearn.model_selection import train_test_split\n",
        "from sklearn.metrics import f1_score, roc_auc_score, precision_score, recall_score\n",
        "from sklearn.metrics import ConfusionMatrixDisplay, confusion_matrix\n",
        "from sklearn.metrics import precision_recall_curve, auc, roc_curve\n",
        "from torch.utils.data import Dataset, DataLoader\n",
        "from torchvision.transforms import ToTensor\n",
        "from torchmetrics import F1Score, AUROC\n",
        "from torch.nn.utils.rnn import pack_sequence\n",
        "from torcheval.metrics.functional import binary_auprc"
      ]
    },
    {
      "cell_type": "code",
      "execution_count": 5,
      "metadata": {
        "colab": {
          "base_uri": "https://localhost:8080/"
        },
        "id": "TtVYy6Tt29LA",
        "outputId": "925b64ae-9589-4e28-80b0-b90a249d5d44"
      },
      "outputs": [
        {
          "output_type": "stream",
          "name": "stdout",
          "text": [
            "Mounted at /content/drive\n"
          ]
        }
      ],
      "source": [
        "from google.colab import drive\n",
        "drive.mount('/content/drive')"
      ]
    },
    {
      "cell_type": "markdown",
      "metadata": {
        "id": "x-HvJFmnGJ-g"
      },
      "source": [
        "# **DataSet** / **DataLoader**"
      ]
    },
    {
      "cell_type": "code",
      "execution_count": 6,
      "metadata": {
        "id": "sXyEoKiiGS_9"
      },
      "outputs": [],
      "source": [
        "class AmlDataset(Dataset):\n",
        "    def __init__(self, data, features):\n",
        "        \"\"\"\n",
        "        @param data: pdf whose index is monotonically increases from 0\n",
        "        @param features: list of features to be used in an event\n",
        "        \"\"\"\n",
        "        self.data = data\n",
        "        self.features = features\n",
        "\n",
        "    def __getitem__(self, index):\n",
        "        psr_sample = self.data.iloc[index] #retrieves row at specified index from the data.\n",
        "        list_y = psr_sample[\"targets\"]\n",
        "        list_x = []\n",
        "\n",
        "        for event in psr_sample[\"events\"]:\n",
        "          x = [event[feature] for feature in self.features] #create X\n",
        "          list_x.append(x)\n",
        "\n",
        "        #Converts the extracted features (list_x) and targets (list_y) to NumPy arrays, Returns a tuple (x, y).\n",
        "        return np.array(list_x).astype(np.float32), np.array(list_y).astype(np.float32)\n",
        "\n",
        "    def __len__(self):\n",
        "        return len(self.data)"
      ]
    },
    {
      "cell_type": "code",
      "execution_count": 7,
      "metadata": {
        "colab": {
          "base_uri": "https://localhost:8080/"
        },
        "id": "a221P0BDJsoM",
        "outputId": "253ee43c-5025-42a7-cfae-faffa8242ce5"
      },
      "outputs": [
        {
          "output_type": "stream",
          "name": "stderr",
          "text": [
            "<ipython-input-7-8c67ac987594>:1: FutureWarning: You are using `torch.load` with `weights_only=False` (the current default value), which uses the default pickle module implicitly. It is possible to construct malicious pickle data which will execute arbitrary code during unpickling (See https://github.com/pytorch/pytorch/blob/main/SECURITY.md#untrusted-models for more details). In a future release, the default value for `weights_only` will be flipped to `True`. This limits the functions that could be executed during unpickling. Arbitrary objects will no longer be allowed to be loaded via this mode unless they are explicitly allowlisted by the user via `torch.serialization.add_safe_globals`. We recommend you start setting `weights_only=True` for any use case where you don't have full control of the loaded file. Please open an issue on GitHub for any issues related to this experimental feature.\n",
            "  aml_dataset_id_downs2 = torch.load( \"/content/drive/MyDrive/DE/Master_Degree/3rd_Semester/Colab_Notebook/AML_file/aml_dataset_id_downs2.pth\")\n",
            "<ipython-input-7-8c67ac987594>:2: FutureWarning: You are using `torch.load` with `weights_only=False` (the current default value), which uses the default pickle module implicitly. It is possible to construct malicious pickle data which will execute arbitrary code during unpickling (See https://github.com/pytorch/pytorch/blob/main/SECURITY.md#untrusted-models for more details). In a future release, the default value for `weights_only` will be flipped to `True`. This limits the functions that could be executed during unpickling. Arbitrary objects will no longer be allowed to be loaded via this mode unless they are explicitly allowlisted by the user via `torch.serialization.add_safe_globals`. We recommend you start setting `weights_only=True` for any use case where you don't have full control of the loaded file. Please open an issue on GitHub for any issues related to this experimental feature.\n",
            "  aml_dataloader_id_downs2 = torch.load( \"/content/drive/MyDrive/DE/Master_Degree/3rd_Semester/Colab_Notebook/AML_file/aml_dataloader_id_downs2.pth\")\n"
          ]
        }
      ],
      "source": [
        "\n",
        "aml_dataset_id_downs2 = torch.load( \"/content/drive/MyDrive/DE/Master_Degree/3rd_Semester/Colab_Notebook/AML_file/aml_dataset_id_downs2.pth\")\n",
        "aml_dataloader_id_downs2 = torch.load( \"/content/drive/MyDrive/DE/Master_Degree/3rd_Semester/Colab_Notebook/AML_file/aml_dataloader_id_downs2.pth\")\n"
      ]
    },
    {
      "cell_type": "code",
      "execution_count": 8,
      "metadata": {
        "colab": {
          "base_uri": "https://localhost:8080/"
        },
        "id": "hRO9AN2ZWM8t",
        "outputId": "13f640b7-4da6-4104-b49e-643376793ae8"
      },
      "outputs": [
        {
          "output_type": "stream",
          "name": "stderr",
          "text": [
            "<ipython-input-8-62f8dfa5fd95>:1: FutureWarning: You are using `torch.load` with `weights_only=False` (the current default value), which uses the default pickle module implicitly. It is possible to construct malicious pickle data which will execute arbitrary code during unpickling (See https://github.com/pytorch/pytorch/blob/main/SECURITY.md#untrusted-models for more details). In a future release, the default value for `weights_only` will be flipped to `True`. This limits the functions that could be executed during unpickling. Arbitrary objects will no longer be allowed to be loaded via this mode unless they are explicitly allowlisted by the user via `torch.serialization.add_safe_globals`. We recommend you start setting `weights_only=True` for any use case where you don't have full control of the loaded file. Please open an issue on GitHub for any issues related to this experimental feature.\n",
            "  aml_eval_dataset_id2 = torch.load( \"/content/drive/MyDrive/DE/Master_Degree/3rd_Semester/Colab_Notebook/AML_file/aml_eval_dataset_id2.pth\")\n",
            "<ipython-input-8-62f8dfa5fd95>:2: FutureWarning: You are using `torch.load` with `weights_only=False` (the current default value), which uses the default pickle module implicitly. It is possible to construct malicious pickle data which will execute arbitrary code during unpickling (See https://github.com/pytorch/pytorch/blob/main/SECURITY.md#untrusted-models for more details). In a future release, the default value for `weights_only` will be flipped to `True`. This limits the functions that could be executed during unpickling. Arbitrary objects will no longer be allowed to be loaded via this mode unless they are explicitly allowlisted by the user via `torch.serialization.add_safe_globals`. We recommend you start setting `weights_only=True` for any use case where you don't have full control of the loaded file. Please open an issue on GitHub for any issues related to this experimental feature.\n",
            "  aml_eval_dataloader_id2 = torch.load( \"/content/drive/MyDrive/DE/Master_Degree/3rd_Semester/Colab_Notebook/AML_file/aml_eval_dataloader_id2.pth\")\n"
          ]
        }
      ],
      "source": [
        "\n",
        "aml_eval_dataset_id2 = torch.load( \"/content/drive/MyDrive/DE/Master_Degree/3rd_Semester/Colab_Notebook/AML_file/aml_eval_dataset_id2.pth\")\n",
        "aml_eval_dataloader_id2 = torch.load( \"/content/drive/MyDrive/DE/Master_Degree/3rd_Semester/Colab_Notebook/AML_file/aml_eval_dataloader_id2.pth\")"
      ]
    },
    {
      "cell_type": "code",
      "execution_count": 9,
      "metadata": {
        "colab": {
          "base_uri": "https://localhost:8080/"
        },
        "id": "9i6Ym19dWNbL",
        "outputId": "51003b71-a009-4f14-9cf6-ebeb7e712330"
      },
      "outputs": [
        {
          "output_type": "stream",
          "name": "stderr",
          "text": [
            "<ipython-input-9-77a78003b1bc>:1: FutureWarning: You are using `torch.load` with `weights_only=False` (the current default value), which uses the default pickle module implicitly. It is possible to construct malicious pickle data which will execute arbitrary code during unpickling (See https://github.com/pytorch/pytorch/blob/main/SECURITY.md#untrusted-models for more details). In a future release, the default value for `weights_only` will be flipped to `True`. This limits the functions that could be executed during unpickling. Arbitrary objects will no longer be allowed to be loaded via this mode unless they are explicitly allowlisted by the user via `torch.serialization.add_safe_globals`. We recommend you start setting `weights_only=True` for any use case where you don't have full control of the loaded file. Please open an issue on GitHub for any issues related to this experimental feature.\n",
            "  aml_test_dataset_id2 = torch.load( \"/content/drive/MyDrive/DE/Master_Degree/3rd_Semester/Colab_Notebook/AML_file/aml_test_dataset_id2.pth\")\n",
            "<ipython-input-9-77a78003b1bc>:2: FutureWarning: You are using `torch.load` with `weights_only=False` (the current default value), which uses the default pickle module implicitly. It is possible to construct malicious pickle data which will execute arbitrary code during unpickling (See https://github.com/pytorch/pytorch/blob/main/SECURITY.md#untrusted-models for more details). In a future release, the default value for `weights_only` will be flipped to `True`. This limits the functions that could be executed during unpickling. Arbitrary objects will no longer be allowed to be loaded via this mode unless they are explicitly allowlisted by the user via `torch.serialization.add_safe_globals`. We recommend you start setting `weights_only=True` for any use case where you don't have full control of the loaded file. Please open an issue on GitHub for any issues related to this experimental feature.\n",
            "  aml_test_dataloader_id2 = torch.load( \"/content/drive/MyDrive/DE/Master_Degree/3rd_Semester/Colab_Notebook/AML_file/aml_test_dataloader_id2.pth\")\n"
          ]
        }
      ],
      "source": [
        "\n",
        "aml_test_dataset_id2 = torch.load( \"/content/drive/MyDrive/DE/Master_Degree/3rd_Semester/Colab_Notebook/AML_file/aml_test_dataset_id2.pth\")\n",
        "aml_test_dataloader_id2 = torch.load( \"/content/drive/MyDrive/DE/Master_Degree/3rd_Semester/Colab_Notebook/AML_file/aml_test_dataloader_id2.pth\")"
      ]
    },
    {
      "cell_type": "markdown",
      "metadata": {
        "id": "LQCu_xyBZ6rp"
      },
      "source": [
        "# Model Class"
      ]
    },
    {
      "cell_type": "code",
      "execution_count": 10,
      "metadata": {
        "id": "O6oO6i36bYia"
      },
      "outputs": [],
      "source": [
        "class AmlLstm(nn.Module):\n",
        "    def __init__(\n",
        "        self, cat_features, total_numerical_features, hidden_size,\n",
        "        fc_input_layers, fc_output_layers, dropout_prob=0.1):\n",
        "        \"\"\"\n",
        "        @param cat_features: A list of (n_classes, emb_size) tuples for cat features\n",
        "        @param total_numerical_features:\n",
        "        @param hidden_size:\n",
        "        @param fc_input_layers: A list of FC sizes to be placed between input\n",
        "          vector and the LSTM\n",
        "        @param fc_output_layers: A list of FC sizes to be placed between the\n",
        "          LSTM output to the final Sigmoid output. The last size should be 1.\n",
        "        \"\"\"\n",
        "        super(AmlLstm, self).__init__()\n",
        "        embedded_features = []\n",
        "        in_fc_layers = []\n",
        "        output_layers = []\n",
        "        embedding_output_dim = 0\n",
        "\n",
        "        for [n_classes, emb_size] in cat_features:\n",
        "            emb_layer = nn.Embedding(n_classes, emb_size)\n",
        "            embedded_features.append(emb_layer)\n",
        "            embedding_output_dim += emb_size #The sum of all emb_size values determines the total embedding dimension\n",
        "\n",
        "        prev_size = embedding_output_dim + total_numerical_features\n",
        "\n",
        "        for current_size in fc_input_layers:\n",
        "            in_fc_layers.append(nn.Dropout(p=dropout_prob))\n",
        "            in_fc_layers.append(nn.Linear(prev_size, current_size, bias=True))\n",
        "            prev_size = current_size\n",
        "\n",
        "        lstm = nn.LSTM(prev_size, hidden_size, batch_first=True)\n",
        "        prev_size = hidden_size\n",
        "\n",
        "        for current_size in fc_output_layers:\n",
        "            output_layers.append(nn.Dropout(p=dropout_prob))\n",
        "            output_layers.append(nn.Linear(prev_size, current_size, bias=True))\n",
        "            prev_size = current_size\n",
        "\n",
        "        output_layers.append(nn.Sigmoid()) # to produce probabilities\n",
        "\n",
        "        self.total_numerical_features = total_numerical_features\n",
        "        self.embedded_features = nn.ModuleList(embedded_features)\n",
        "        self.in_fc_layers = nn.ModuleList(in_fc_layers)\n",
        "        self.lstm_layer = nn.ModuleList([lstm])\n",
        "        self.output_layers = nn.ModuleList(output_layers)\n",
        "        total_trainable_params = sum(p.numel() for p in self.parameters() if p.requires_grad)\n",
        "        print(f'Total trainable params: {total_trainable_params}')\n",
        "\n",
        "    def forward(self, x):\n",
        "        \"\"\"\n",
        "        @param x: a Tensor of shape (tot_events, event_features) for a SINGLE user\n",
        "            [\n",
        "              [c1, c2, ..., cC, n1, n2, ..., nN],\n",
        "              [...],\n",
        "               ...\n",
        "              [...]\n",
        "            ]\n",
        "            where C = len(cat_features), N = numerical_features\n",
        "        @return: a Tensor of shape [batch_size, output_size]\n",
        "        \"\"\"\n",
        "        # prepare the input vector to LSTM (categorical and numerical features)\n",
        "        vector_input = []\n",
        "\n",
        "        for cat_feat_idx, embedded_layer in enumerate(self.embedded_features):\n",
        "            cat_input = x[:, cat_feat_idx].type(torch.IntTensor)\n",
        "            vector_input.append(embedded_layer(cat_input))  # shape (tot_events, emb_size)\n",
        "\n",
        "        total_cat_features = len(self.embedded_features)\n",
        "\n",
        "        for num_feat_idx in range(self.total_numerical_features):\n",
        "            num_input = x[:, total_cat_features + num_feat_idx].unsqueeze(1)  # shape (tot_events, 1)\n",
        "            vector_input.append(num_input)\n",
        "\n",
        "        vector_input_tensor = torch.cat(vector_input, dim=1)  # shape (tot_events, embedding_output_dim + total_numerical_features)\n",
        "\n",
        "        for fc_layer in self.in_fc_layers:\n",
        "            vector_input_tensor = fc_layer(vector_input_tensor)\n",
        "\n",
        "        # pass to LSTM\n",
        "        lstm_input_tensor = vector_input_tensor\n",
        "        out_tensor, (h, c) = self.lstm_layer[0](lstm_input_tensor) # no previous state\n",
        "\n",
        "        # make predict\n",
        "        for output_layer in self.output_layers:\n",
        "            out_tensor = output_layer(out_tensor)\n",
        "\n",
        "        return out_tensor"
      ]
    },
    {
      "cell_type": "markdown",
      "metadata": {
        "id": "ZVAF-iyCZ7Fn"
      },
      "source": [
        "# Training Loop"
      ]
    },
    {
      "cell_type": "markdown",
      "metadata": {
        "id": "xMqbCLKwbwfl"
      },
      "source": [
        "### Define Evaluation Metrics"
      ]
    },
    {
      "cell_type": "code",
      "execution_count": 11,
      "metadata": {
        "id": "9e8550VDcdGk"
      },
      "outputs": [],
      "source": [
        "def compute_metrics(all_preds, all_targets, threshold=0.5):\n",
        "\n",
        "    # Convert probabilities to binary predictions\n",
        "    binary_preds = (all_preds >= threshold).float()\n",
        "\n",
        "    # Compute confusion matrix components\n",
        "    TP = ((binary_preds == 1) & (all_targets == 1)).sum().item()\n",
        "    TN = ((binary_preds == 0) & (all_targets == 0)).sum().item()\n",
        "    FP = ((binary_preds == 1) & (all_targets == 0)).sum().item()\n",
        "    FN = ((binary_preds == 0) & (all_targets == 1)).sum().item()\n",
        "\n",
        "    # Metrics\n",
        "    precision = TP / (TP + FP) if (TP + FP) > 0 else 0\n",
        "    recall = TP / (TP + FN) if (TP + FN) > 0 else 0\n",
        "    TNR = TN / (TN + FP) if (TN + FP) > 0 else 0\n",
        "    FPR = FP / (FP + TN) if (FP + TN) > 0 else 0\n",
        "    FNR = FN / (FN + TP) if (FN + TP) > 0 else 0\n",
        "    accuracy = (TP + TN) / (TP + TN + FP + FN) if (TP + TN + FP + FN) > 0 else 0\n",
        "    f1 = 2 * (precision * recall) / (precision + recall) if (precision + recall) > 0 else 0\n",
        "\n",
        "    try:\n",
        "        auc = roc_auc_score(all_targets.cpu().numpy(), all_preds.cpu().numpy())\n",
        "\n",
        "    except ValueError:\n",
        "        auc = None  #if AUC cannot be computed\n",
        "\n",
        "    return precision, recall, TNR, FPR, FNR, accuracy, f1, auc"
      ]
    },
    {
      "cell_type": "markdown",
      "metadata": {
        "id": "xVl9vQ5Dcmh2"
      },
      "source": [
        "### Define The Loss fn. and Optimizer"
      ]
    },
    {
      "cell_type": "code",
      "execution_count": 12,
      "metadata": {
        "id": "FD7gBkJ2cjdR"
      },
      "outputs": [],
      "source": [
        "# Define the weighted BCE loss function\n",
        "def compute_weighted_BCELoss(pred, Y, criterion, positive_weight=100):\n",
        "    \"\"\"\n",
        "    Compute BCELoss with weights for positive samples being larger than the\n",
        "    negative ones.\n",
        "    \"\"\"\n",
        "    Y_expanded = Y[:, None]\n",
        "    weights = (Y_expanded * (positive_weight - 1)) + 1\n",
        "    loss = criterion(pred, Y_expanded) #compute the unweighted binary cross-entropy loss for each sample\n",
        "    weighted_loss = loss * weights #applying weights\n",
        "    final_loss = torch.mean(weighted_loss) # reduce loss across the batch\n",
        "    return final_loss"
      ]
    },
    {
      "cell_type": "markdown",
      "metadata": {
        "id": "0OdM-oVYda_5"
      },
      "source": [
        "## Define Training Utilities"
      ]
    },
    {
      "cell_type": "code",
      "execution_count": 13,
      "metadata": {
        "id": "vp3_eVW-WzNd"
      },
      "outputs": [],
      "source": [
        "def train_one_epoch(\n",
        "        epoch, dataloader, optimizer, model, criterion, positive_weight\n",
        "\n",
        "    ):\n",
        "    total_loss = 0\n",
        "    total_samples = 0\n",
        "    total_training_events = 0\n",
        "    total_positives_training_Y = 0\n",
        "    total_positives_training_pred = 0\n",
        "    dl_iter = iter(dataloader)\n",
        "\n",
        "    for i, (X, Y) in enumerate(dl_iter):\n",
        "        optimizer.zero_grad()\n",
        "        pred = model(X)\n",
        "        loss = compute_weighted_BCELoss(\n",
        "            pred, Y, criterion, positive_weight=positive_weight\n",
        "        )\n",
        "        loss.backward()\n",
        "        optimizer.step()\n",
        "\n",
        "        total_loss += loss.item()\n",
        "        total_samples += 1\n",
        "        total_training_events += len(Y)\n",
        "        total_positives_training_Y += Y.sum().item()\n",
        "        total_positives_training_pred += pred.sum().item()\n",
        "\n",
        "\n",
        "    print(f'Epoch: {epoch}, Training loss: {total_loss / total_samples:.4f}, \\\n",
        "      positive stats {total_positives_training_pred / total_training_events}: \\\n",
        "      {total_positives_training_Y / total_training_events}'\n",
        "    )\n",
        "\n",
        "\n",
        "def eval_one_epoch(dataloader, model, criterion, positive_weight):\n",
        "    total_eval_events = 0\n",
        "    total_positives_eval_Y = 0\n",
        "    total_positives_eval_pred = 0\n",
        "    all_preds = []\n",
        "    all_targets = []\n",
        "    total_val_loss = 0\n",
        "\n",
        "    with torch.no_grad():\n",
        "        for X, Y in dataloader:\n",
        "            pred = model(X)\n",
        "            val_loss = compute_weighted_BCELoss(\n",
        "                pred, Y, criterion, positive_weight=positive_weight\n",
        "            )\n",
        "            total_val_loss += val_loss.item()\n",
        "            all_preds.append(pred)\n",
        "            all_targets.append(Y)\n",
        "\n",
        "    all_preds = torch.squeeze(torch.cat(all_preds), dim=1)\n",
        "    all_targets = torch.squeeze(torch.cat(all_targets))\n",
        "    total_eval_events += len(all_targets)\n",
        "    total_positives_eval_pred += all_preds.sum().item()\n",
        "    total_positives_eval_Y += all_targets.sum().item()\n",
        "    avg_val_loss = total_val_loss / total_eval_events\n",
        "\n",
        "    # Compute metrics\n",
        "    precision, recall, TNR, FPR, FNR, accuracy, f1, auc = compute_metrics(all_preds, all_targets)\n",
        "    positive_ratio_eval_pred = total_positives_eval_pred / total_eval_events\n",
        "    positive_ratio_eval_Y = total_positives_eval_Y / total_eval_events\n",
        "\n",
        "    print(f\"Metrics:\")\n",
        "    print(f\"Validation loss: {avg_val_loss}\")\n",
        "    print(f\"Precision: {precision:.3f}, Recall (TPR): {recall:.3f}, TNR: {TNR:.3f}\")\n",
        "    print(f\"FPR: {FPR:.3f}, FNR: {FNR:.3f}, Accuracy: {accuracy:.3f}, F1 Score: {f1:.3f}, AUC: {auc:.3f}\")\n",
        "    print(f\"positive stats {positive_ratio_eval_pred }: {positive_ratio_eval_Y}\")\n",
        "\n",
        "    return avg_val_loss, precision, recall, TNR, FPR, FNR, accuracy, f1, auc, \\\n",
        "      positive_ratio_eval_pred, positive_ratio_eval_Y, all_preds, all_targets\n",
        "\n",
        "\n",
        "def train_and_evaluate(\n",
        "        epochs, dataloader_train, dataloader_eval, model, optimizer, criterion,\n",
        "        positive_weight, lr_scheduler, patience=5, save_path=None, trial_id=None\n",
        "    ):\n",
        "    \"\"\"\n",
        "    Train and evaluate the model for a specified number of epochs, with early stopping and intermediate saving.\n",
        "    Includes gradient accumulation for memory efficiency.\n",
        "    \"\"\"\n",
        "    log_results = []\n",
        "    best_val_loss = float('inf') # Track the best validation loss\n",
        "    no_improve_count = 0 # Track epochs with no improvement\n",
        "\n",
        "    for epoch in range(epochs):\n",
        "        # Train and evaluate for a complete epoch\n",
        "        train_one_epoch(\n",
        "            epoch, dataloader_train, optimizer, model, criterion,\n",
        "            positive_weight\n",
        "        )\n",
        "        avg_val_loss, precision, recall, TNR, FPR, FNR, accuracy, f1, auc, \\\n",
        "        positive_ratio_eval_pred, positive_ratio_eval_Y, all_preds, \\\n",
        "        all_targets = eval_one_epoch(\n",
        "            dataloader_eval, model, criterion, positive_weight\n",
        "        )\n",
        "\n",
        "        # Update LR scheduler\n",
        "        lr_scheduler.step(avg_val_loss)\n",
        "        print(f\"LR: {lr_scheduler.get_last_lr()}\")\n",
        "\n",
        "        # Log metrics\n",
        "        epoch_results = (\n",
        "            epoch, avg_val_loss, precision, recall, TNR, FPR, FNR, accuracy, f1, auc,\\\n",
        "            positive_ratio_eval_pred, positive_ratio_eval_Y\n",
        "        )\n",
        "        log_results.append(epoch_results)\n",
        "\n",
        "        # Save log and model\n",
        "        if (epoch % 1 == 0) and (save_path is not None):\n",
        "            df_log = pd.DataFrame(\n",
        "                log_results,\n",
        "                columns=[\n",
        "                    \"epoch\", \"val_loss\", \"precision\", \"recall\", \"TNR\", \"FPR\",\n",
        "                    \"FNR\", \"accuracy\", \"f1\", \"auc\",\"positive_ratio_eval_pred\",\n",
        "                    \"positive_ratio_eval_Y\"\n",
        "                ]\n",
        "            )\n",
        "            df_log_path = os.path.join(save_path, f\"df_log_trial_{trial_id}_epoch_{epoch}.parquet\")\n",
        "            df_log.to_parquet(df_log_path)\n",
        "            print(f\"Saved intermediate results to {df_log_path}\")\n",
        "\n",
        "            model_path = os.path.join(save_path, f\"model_trial_{trial_id}_epoch_{epoch}.bin\")\n",
        "            torch.save(model, model_path)\n",
        "            print(f\"Saved model to {model_path}\")\n",
        "\n",
        "        # Early stopping\n",
        "        if avg_val_loss < best_val_loss - 1e-4:\n",
        "            best_val_loss = avg_val_loss\n",
        "            no_improve_count = 0\n",
        "        else:\n",
        "            no_improve_count += 1\n",
        "\n",
        "        if no_improve_count >= patience:\n",
        "            print(f\"======== *** Early stopping triggered at epoch {epoch + 1} *** ========\")\n",
        "            break\n",
        "\n",
        "        print(\"\\n======================================================================\\n\")\n",
        "\n",
        "\n",
        "    return pd.DataFrame(\n",
        "        log_results,\n",
        "        columns=[\n",
        "            \"epoch\", \"val_loss\", \"precision\", \"recall\", \"TNR\", \"FPR\",\n",
        "                    \"FNR\", \"accuracy\", \"f1\", \"auc\", \"positive_ratio_eval_pred\",\n",
        "                    \"positive_ratio_eval_Y\"\n",
        "        ]\n",
        "    ), all_preds, all_targets"
      ]
    },
    {
      "cell_type": "markdown",
      "metadata": {
        "id": "SE0xXXXDZ7ew"
      },
      "source": [
        "## Hyperparameter Tuning"
      ]
    },
    {
      "cell_type": "markdown",
      "source": [
        "note:\n",
        "cat_features = [['day_of_week_encoded', xx], ['hour', xx],\n",
        "['transaction_type_encoded', xx],['account_interaction_encoded', 95],\n",
        "['payment_currency_encoded', xx],['received_currency_encoded', xx],\n",
        "['sender_bank_location_encoded', xx],['receiver_bank_location_encoded', xx]]\n",
        "\n",
        "\n",
        "- 'account'                          cat 0-43557,  ---> size ~35\n",
        "- 'day_of_week_encoded':             cat   0-6  ----> size~ 2\n",
        "- 'hour':                            cat   0-23 ----> size ~ 3\n",
        "- 'transaction_type_encoded':        cat   0-1  ----> size ~ 1\n",
        "- 'time_interval_normalized':        numerical\n",
        "- 'amount_normalized':               numerical\n",
        "- 'account_interaction_encoded'      cat   0-43557,  ---> size ~35\n",
        "- 'payment_currency_encoded':        cat   0-12 ----> size ~ 2\n",
        "- 'received_currency_encoded':       cat   0-12 ----> size ~ 2\n",
        "- 'sender_bank_location_encoded':    cat   0-17 ----> size ~ 3\n",
        "- 'receiver_bank_location_encoded':  cat   0-17 ----> size ~ 3"
      ],
      "metadata": {
        "id": "dBI6qHorQ3zm"
      }
    },
    {
      "cell_type": "code",
      "source": [
        "def objective(trial, hp_dataloader, hp_eval_dataloader, epochs, save_path):\n",
        "    # Hyperparameter suggestions\n",
        "    hidden_size = trial.suggest_int(\"hidden_size\", 5, 90)\n",
        "    positive_weight = trial.suggest_int(\"positive_weight\", 2, 100)\n",
        "    cat_features = trial.suggest_categorical(\n",
        "        \"cat_features\", [\n",
        "            [[43557, 35],[7, 2],[24, 3],[2, 1],[43557, 35],[13, 2],[13, 2],[18, 3],[18, 3]],\n",
        "            [[43557, 40],[7, 3],[24, 4],[2, 1],[43557, 40],[13, 3],[13, 3],[18, 4],[18, 4]],\n",
        "            [[43557, 50],[7, 4],[24, 6],[2, 2],[43557, 50],[13, 4],[13, 4],[18, 5],[18, 5]],\n",
        "        ]\n",
        "    )\n",
        "    fc_input_layers = trial.suggest_categorical(\n",
        "        \"fc_input_layers\",\n",
        "        [\n",
        "            [80, 40, 15],\n",
        "            [85, 55, 35, 20, 15],\n",
        "            [90, 70, 50, 30, 20, 10],\n",
        "            [95, 75, 60, 50, 40, 30, 20, 10],\n",
        "            [100, 80, 60, 50, 40, 40, 30, 30, 20, 10, 10],\n",
        "            [100, 90, 80, 70, 60, 50, 40, 40, 30, 30, 20, 10, 10],\n",
        "        ]\n",
        "    )\n",
        "    fc_output_layers = trial.suggest_categorical(\n",
        "        \"fc_output_layers\",\n",
        "        [\n",
        "            [10, 7, 1],\n",
        "            [15, 10, 5, 3, 1],\n",
        "            [18, 15, 10, 8, 4, 1],\n",
        "            [18, 16, 12, 7, 4, 2, 1],\n",
        "            [20, 18, 16, 12, 7, 4, 2, 1],\n",
        "            [25, 20, 18, 16, 12, 7, 4, 2, 1],\n",
        "            [35, 25, 20, 18, 16, 12, 7, 4, 2, 1],\n",
        "            [50, 45, 40, 30, 25, 20, 15, 10, 5, 1],\n",
        "        ]\n",
        "    )\n",
        "    dropout_prob = trial.suggest_float(\"dropout_prob\", 0.0, 0.5)\n",
        "\n",
        "  # Define the model and other configurable training objects\n",
        "    total_numerical_features = 2\n",
        "    model = AmlLstm(\n",
        "        cat_features, total_numerical_features, hidden_size, fc_input_layers,\n",
        "        fc_output_layers, dropout_prob=dropout_prob\n",
        "    )\n",
        "    criterion = nn.BCELoss(weight=None, reduction='none')\n",
        "    optimizer = optim.Adam(model.parameters(), lr=0.001)\n",
        "    lr_scheduler = ReduceLROnPlateau(\n",
        "        optimizer, mode=\"min\", factor=0.1, patience=3, threshold=1e-4,\n",
        "        min_lr=1e-7\n",
        "    )\n",
        "\n",
        "\n",
        "    trial_save_path = os.path.join(save_path, f\"trial_{trial.number}\")\n",
        "\n",
        "    if not os.path.exists(trial_save_path):\n",
        "        os.makedirs(trial_save_path)\n",
        "\n",
        "\n",
        "    df_log, all_preds, all_targets= train_and_evaluate(\n",
        "        epochs, hp_dataloader, hp_eval_dataloader, model,\n",
        "        optimizer, criterion, positive_weight, lr_scheduler,\n",
        "        patience=10, trial_id = trial.number,\n",
        "        save_path=save_path\n",
        "    )\n",
        "\n",
        "    # Save model and optimizer states after each epoch\n",
        "    torch.save(model.state_dict(), model_path)\n",
        "    torch.save(optimizer.state_dict(), optimizer_path)\n",
        "\n",
        "    # Calculate average F1 score\n",
        "    avg_last_3_f1 = df_log.f1.iloc[-3:].mean()\n",
        "    return avg_last_3_f1"
      ],
      "metadata": {
        "id": "RwZOf7GJcLcX"
      },
      "execution_count": 14,
      "outputs": []
    },
    {
      "cell_type": "markdown",
      "metadata": {
        "id": "L5U_g6Qmb9Vb"
      },
      "source": [
        "## Optuna"
      ]
    },
    {
      "cell_type": "code",
      "source": [
        "# Specify a path to the SQLite database file\n",
        "storage_path = \"sqlite:///optuna_study3.db\"\n",
        "\n",
        "# Create a study with persistent storage\n",
        "study = optuna.create_study(\n",
        "    direction=\"maximize\",\n",
        "    study_name=\"aml_study3\",\n",
        "    storage=storage_path,\n",
        "    load_if_exists=True\n",
        ")"
      ],
      "metadata": {
        "colab": {
          "base_uri": "https://localhost:8080/"
        },
        "id": "AxabvhcMTSKN",
        "outputId": "3d2d2807-ab37-4d56-ac7c-b950c328e315"
      },
      "execution_count": 16,
      "outputs": [
        {
          "output_type": "stream",
          "name": "stderr",
          "text": [
            "[I 2025-01-14 13:36:59,258] A new study created in RDB with name: aml_study3\n"
          ]
        }
      ]
    },
    {
      "cell_type": "code",
      "source": [
        "%%time\n",
        "\n",
        "save_path = \"/content/drive/MyDrive/DE/Master_Degree/3rd_Semester/Colab_Notebook/AML_file/exp/optuna/bestparam13\"\n",
        "\n",
        "\n",
        "study.optimize(\n",
        "    partial(\n",
        "        objective,\n",
        "        hp_dataloader=aml_dataloader_id_downs2,\n",
        "        hp_eval_dataloader=aml_eval_dataloader_id2,\n",
        "        epochs=50,\n",
        "        save_path=save_path,\n",
        "    ),\n",
        "    n_trials=40\n",
        ")\n"
      ],
      "metadata": {
        "colab": {
          "base_uri": "https://localhost:8080/"
        },
        "id": "4USID-k4c5YM",
        "outputId": "4b76ad1e-fd3b-4e5c-b56c-e689a35b9f47"
      },
      "execution_count": null,
      "outputs": [
        {
          "output_type": "stream",
          "name": "stderr",
          "text": [
            "/usr/local/lib/python3.10/dist-packages/optuna/distributions.py:524: UserWarning: Choices for a categorical distribution should be a tuple of None, bool, int, float and str for persistent storage but contains [[43557, 35], [7, 2], [24, 3], [2, 1], [43557, 35], [13, 2], [13, 2], [18, 3], [18, 3]] which is of type list.\n",
            "  warnings.warn(message)\n",
            "/usr/local/lib/python3.10/dist-packages/optuna/distributions.py:524: UserWarning: Choices for a categorical distribution should be a tuple of None, bool, int, float and str for persistent storage but contains [[43557, 40], [7, 3], [24, 4], [2, 1], [43557, 40], [13, 3], [13, 3], [18, 4], [18, 4]] which is of type list.\n",
            "  warnings.warn(message)\n",
            "/usr/local/lib/python3.10/dist-packages/optuna/distributions.py:524: UserWarning: Choices for a categorical distribution should be a tuple of None, bool, int, float and str for persistent storage but contains [[43557, 50], [7, 4], [24, 6], [2, 2], [43557, 50], [13, 4], [13, 4], [18, 5], [18, 5]] which is of type list.\n",
            "  warnings.warn(message)\n",
            "/usr/local/lib/python3.10/dist-packages/optuna/distributions.py:524: UserWarning: Choices for a categorical distribution should be a tuple of None, bool, int, float and str for persistent storage but contains [80, 40, 15] which is of type list.\n",
            "  warnings.warn(message)\n",
            "/usr/local/lib/python3.10/dist-packages/optuna/distributions.py:524: UserWarning: Choices for a categorical distribution should be a tuple of None, bool, int, float and str for persistent storage but contains [85, 55, 35, 20, 15] which is of type list.\n",
            "  warnings.warn(message)\n",
            "/usr/local/lib/python3.10/dist-packages/optuna/distributions.py:524: UserWarning: Choices for a categorical distribution should be a tuple of None, bool, int, float and str for persistent storage but contains [90, 70, 50, 30, 20, 10] which is of type list.\n",
            "  warnings.warn(message)\n",
            "/usr/local/lib/python3.10/dist-packages/optuna/distributions.py:524: UserWarning: Choices for a categorical distribution should be a tuple of None, bool, int, float and str for persistent storage but contains [95, 75, 60, 50, 40, 30, 20, 10] which is of type list.\n",
            "  warnings.warn(message)\n",
            "/usr/local/lib/python3.10/dist-packages/optuna/distributions.py:524: UserWarning: Choices for a categorical distribution should be a tuple of None, bool, int, float and str for persistent storage but contains [100, 80, 60, 50, 40, 40, 30, 30, 20, 10, 10] which is of type list.\n",
            "  warnings.warn(message)\n",
            "/usr/local/lib/python3.10/dist-packages/optuna/distributions.py:524: UserWarning: Choices for a categorical distribution should be a tuple of None, bool, int, float and str for persistent storage but contains [100, 90, 80, 70, 60, 50, 40, 40, 30, 30, 20, 10, 10] which is of type list.\n",
            "  warnings.warn(message)\n",
            "/usr/local/lib/python3.10/dist-packages/optuna/distributions.py:524: UserWarning: Choices for a categorical distribution should be a tuple of None, bool, int, float and str for persistent storage but contains [10, 7, 1] which is of type list.\n",
            "  warnings.warn(message)\n",
            "/usr/local/lib/python3.10/dist-packages/optuna/distributions.py:524: UserWarning: Choices for a categorical distribution should be a tuple of None, bool, int, float and str for persistent storage but contains [15, 10, 5, 3, 1] which is of type list.\n",
            "  warnings.warn(message)\n",
            "/usr/local/lib/python3.10/dist-packages/optuna/distributions.py:524: UserWarning: Choices for a categorical distribution should be a tuple of None, bool, int, float and str for persistent storage but contains [18, 15, 10, 8, 4, 1] which is of type list.\n",
            "  warnings.warn(message)\n",
            "/usr/local/lib/python3.10/dist-packages/optuna/distributions.py:524: UserWarning: Choices for a categorical distribution should be a tuple of None, bool, int, float and str for persistent storage but contains [18, 16, 12, 7, 4, 2, 1] which is of type list.\n",
            "  warnings.warn(message)\n",
            "/usr/local/lib/python3.10/dist-packages/optuna/distributions.py:524: UserWarning: Choices for a categorical distribution should be a tuple of None, bool, int, float and str for persistent storage but contains [20, 18, 16, 12, 7, 4, 2, 1] which is of type list.\n",
            "  warnings.warn(message)\n",
            "/usr/local/lib/python3.10/dist-packages/optuna/distributions.py:524: UserWarning: Choices for a categorical distribution should be a tuple of None, bool, int, float and str for persistent storage but contains [25, 20, 18, 16, 12, 7, 4, 2, 1] which is of type list.\n",
            "  warnings.warn(message)\n",
            "/usr/local/lib/python3.10/dist-packages/optuna/distributions.py:524: UserWarning: Choices for a categorical distribution should be a tuple of None, bool, int, float and str for persistent storage but contains [35, 25, 20, 18, 16, 12, 7, 4, 2, 1] which is of type list.\n",
            "  warnings.warn(message)\n",
            "/usr/local/lib/python3.10/dist-packages/optuna/distributions.py:524: UserWarning: Choices for a categorical distribution should be a tuple of None, bool, int, float and str for persistent storage but contains [50, 45, 40, 30, 25, 20, 15, 10, 5, 1] which is of type list.\n",
            "  warnings.warn(message)\n"
          ]
        },
        {
          "output_type": "stream",
          "name": "stdout",
          "text": [
            "Total trainable params: 3513590\n"
          ]
        }
      ]
    },
    {
      "cell_type": "markdown",
      "metadata": {
        "id": "OODtd8s9ytxl"
      },
      "source": [
        "# Test on best model"
      ]
    },
    {
      "cell_type": "code",
      "execution_count": null,
      "metadata": {
        "colab": {
          "base_uri": "https://localhost:8080/"
        },
        "id": "4u7dCT2foj-G",
        "outputId": "a2d2aceb-fb2f-4c72-f187-d422e9d8938f"
      },
      "outputs": [
        {
          "output_type": "stream",
          "name": "stderr",
          "text": [
            "<ipython-input-23-8a8dd5dfd797>:3: FutureWarning: You are using `torch.load` with `weights_only=False` (the current default value), which uses the default pickle module implicitly. It is possible to construct malicious pickle data which will execute arbitrary code during unpickling (See https://github.com/pytorch/pytorch/blob/main/SECURITY.md#untrusted-models for more details). In a future release, the default value for `weights_only` will be flipped to `True`. This limits the functions that could be executed during unpickling. Arbitrary objects will no longer be allowed to be loaded via this mode unless they are explicitly allowlisted by the user via `torch.serialization.add_safe_globals`. We recommend you start setting `weights_only=True` for any use case where you don't have full control of the loaded file. Please open an issue on GitHub for any issues related to this experimental feature.\n",
            "  bestmodel = torch.load(bestmodel_path)\n"
          ]
        },
        {
          "output_type": "execute_result",
          "data": {
            "text/plain": [
              "AmlLstm(\n",
              "  (embedded_features): ModuleList(\n",
              "    (0): Embedding(43557, 35)\n",
              "    (1): Embedding(7, 2)\n",
              "    (2): Embedding(24, 3)\n",
              "    (3): Embedding(2, 1)\n",
              "    (4): Embedding(43557, 35)\n",
              "    (5-6): 2 x Embedding(13, 2)\n",
              "    (7-8): 2 x Embedding(18, 3)\n",
              "  )\n",
              "  (in_fc_layers): ModuleList(\n",
              "    (0): Dropout(p=0.005142082125976194, inplace=False)\n",
              "    (1): Linear(in_features=88, out_features=80, bias=True)\n",
              "    (2): Dropout(p=0.005142082125976194, inplace=False)\n",
              "    (3): Linear(in_features=80, out_features=40, bias=True)\n",
              "    (4): Dropout(p=0.005142082125976194, inplace=False)\n",
              "    (5): Linear(in_features=40, out_features=15, bias=True)\n",
              "  )\n",
              "  (lstm_layer): ModuleList(\n",
              "    (0): LSTM(15, 65, batch_first=True)\n",
              "  )\n",
              "  (output_layers): ModuleList(\n",
              "    (0): Dropout(p=0.005142082125976194, inplace=False)\n",
              "    (1): Linear(in_features=65, out_features=50, bias=True)\n",
              "    (2): Dropout(p=0.005142082125976194, inplace=False)\n",
              "    (3): Linear(in_features=50, out_features=45, bias=True)\n",
              "    (4): Dropout(p=0.005142082125976194, inplace=False)\n",
              "    (5): Linear(in_features=45, out_features=40, bias=True)\n",
              "    (6): Dropout(p=0.005142082125976194, inplace=False)\n",
              "    (7): Linear(in_features=40, out_features=30, bias=True)\n",
              "    (8): Dropout(p=0.005142082125976194, inplace=False)\n",
              "    (9): Linear(in_features=30, out_features=25, bias=True)\n",
              "    (10): Dropout(p=0.005142082125976194, inplace=False)\n",
              "    (11): Linear(in_features=25, out_features=20, bias=True)\n",
              "    (12): Dropout(p=0.005142082125976194, inplace=False)\n",
              "    (13): Linear(in_features=20, out_features=15, bias=True)\n",
              "    (14): Dropout(p=0.005142082125976194, inplace=False)\n",
              "    (15): Linear(in_features=15, out_features=10, bias=True)\n",
              "    (16): Dropout(p=0.005142082125976194, inplace=False)\n",
              "    (17): Linear(in_features=10, out_features=5, bias=True)\n",
              "    (18): Dropout(p=0.005142082125976194, inplace=False)\n",
              "    (19): Linear(in_features=5, out_features=1, bias=True)\n",
              "    (20): Sigmoid()\n",
              "  )\n",
              ")"
            ]
          },
          "metadata": {},
          "execution_count": 23
        }
      ],
      "source": [
        "# best model\n",
        "bestmodel_path = \"/content/drive/MyDrive/DE/Master_Degree/3rd_Semester/Colab_Notebook/AML_file/exp/optuna/bestparam5/trial_12/model_trial_None_epoch_23.bin\"\n",
        "bestmodel = torch.load(bestmodel_path)\n",
        "bestmodel.eval()   # Set to evaluation mode"
      ]
    },
    {
      "cell_type": "code",
      "execution_count": null,
      "metadata": {
        "id": "isqcMZ5mpRgO"
      },
      "outputs": [],
      "source": [
        "def test_one_epoch(dataloader, bestmodel, criterion, positive_weight):\n",
        "    total_test_events = 0\n",
        "    total_positives_test_Y = 0\n",
        "    total_positives_test_pred = 0\n",
        "    all_preds_test = []\n",
        "    all_targets_test = []\n",
        "    total_val_loss_test = 0\n",
        "\n",
        "\n",
        "    with torch.no_grad():\n",
        "        for X, Y in dataloader:\n",
        "            pred = bestmodel(X)\n",
        "            val_loss = compute_weighted_BCELoss(\n",
        "                pred, Y, criterion, positive_weight=positive_weight\n",
        "            )\n",
        "            total_val_loss_test += val_loss.item()\n",
        "            all_preds_test.append(pred)\n",
        "            all_targets_test.append(Y)\n",
        "\n",
        "    all_preds_test = torch.squeeze(torch.cat(all_preds_test), dim=1)\n",
        "    all_targets_test = torch.squeeze(torch.cat(all_targets_test))\n",
        "    total_test_events += len(all_targets_test)\n",
        "    total_positives_test_pred += all_preds_test.sum().item()\n",
        "    total_positives_test_Y += all_targets_test.sum().item()\n",
        "    avg_val_loss_test = total_val_loss_test / total_test_events\n",
        "\n",
        "    # Compute metrics\n",
        "    precision, recall, TNR, FPR, FNR, accuracy, f1, auc = compute_metrics(all_preds_test, all_targets_test)\n",
        "    positive_ratio_test_pred = total_positives_test_pred / total_test_events\n",
        "    positive_ratio_test_Y = total_positives_test_Y / total_test_events\n",
        "\n",
        "    print(f\"Metrics:\")\n",
        "    print(f\"Validation loss: {avg_val_loss_test}\")\n",
        "    print(f\"Precision: {precision:.3f}, Recall (TPR): {recall:.3f}, TNR: {TNR:.3f}\")\n",
        "    print(f\"FPR: {FPR:.3f}, FNR: {FNR:.3f}, Accuracy: {accuracy:.3f}, F1 Score: {f1:.3f}, AUC: {auc:.3f}\")\n",
        "    print(f\"positive stats {positive_ratio_test_pred }: {positive_ratio_test_Y}\")\n",
        "\n",
        "    return avg_val_loss_test, precision, recall, TNR, FPR, FNR, accuracy, f1, auc,  \\\n",
        "      positive_ratio_test_pred, positive_ratio_test_Y, all_preds_test, all_targets_test\n"
      ]
    },
    {
      "cell_type": "code",
      "execution_count": null,
      "metadata": {
        "id": "fEEySeXQtsRe"
      },
      "outputs": [],
      "source": [
        "def test(dataloader_test, bestmodel, criterion, positive_weight):\n",
        "    \"\"\"\n",
        "    Test the best model on the testing dataset and evaluate its performance.\n",
        "    \"\"\"\n",
        "    avg_val_loss_test, precision, recall, TNR, FPR, FNR, accuracy, f1, auc, \\\n",
        "    positive_ratio_test_pred, positive_ratio_test_Y, all_preds_test, all_targets_test = test_one_epoch(\n",
        "        dataloader_test, bestmodel, criterion, positive_weight\n",
        "    )\n",
        "\n",
        "    # Log final metrics\n",
        "    test_results = {\n",
        "        \"val_loss_test\": avg_val_loss_test,\n",
        "        \"precision\": precision,\n",
        "        \"recall\": recall,\n",
        "        \"TNR\": TNR,\n",
        "        \"FPR\": FPR,\n",
        "        \"FNR\": FNR,\n",
        "        \"accuracy\": accuracy,\n",
        "        \"f1\": f1,\n",
        "        \"auc\": auc,\n",
        "        \"positive_ratio_test_pred\": positive_ratio_test_pred,\n",
        "        \"positive_ratio_test_Y\": positive_ratio_test_Y,\n",
        "    }\n",
        "    print(\"\\nFinal Testing Metrics:\")\n",
        "    for metric, value in test_results.items():\n",
        "        print(f\"{metric}: {value:.4f}\")\n",
        "\n",
        "    return test_results, all_preds_test, all_targets_test"
      ]
    },
    {
      "cell_type": "code",
      "source": [
        "criterion = torch.nn.BCELoss()\n",
        "positive_weight = 31  # Adjust according to optuna\n",
        "test_dataloader = aml_test_dataloader_id2\n",
        "save_path = \"/content/drive/MyDrive/DE/Master_Degree/3rd_Semester/Colab_Notebook/AML_file/exp/test/8\"\n",
        "os.makedirs(save_path, exist_ok=True)"
      ],
      "metadata": {
        "id": "O0EB6Ax1UzPU"
      },
      "execution_count": null,
      "outputs": []
    },
    {
      "cell_type": "code",
      "execution_count": null,
      "metadata": {
        "colab": {
          "base_uri": "https://localhost:8080/"
        },
        "id": "j7I94M_3EHut",
        "outputId": "c352dbac-8ede-46a7-f0dc-6a4470f03903"
      },
      "outputs": [
        {
          "output_type": "stream",
          "name": "stdout",
          "text": [
            "Metrics:\n",
            "Validation loss: 0.0029048736499261555\n",
            "Precision: 0.034, Recall (TPR): 0.882, TNR: 0.975\n",
            "FPR: 0.025, FNR: 0.118, Accuracy: 0.975, F1 Score: 0.066, AUC: 0.979\n",
            "positive stats 0.03760613066413802: 0.0009990083566338837\n",
            "\n",
            "--- Test Results ---\n",
            "VAL_LOSS: 0.0029\n",
            "PRECISION: 0.0342\n",
            "RECALL: 0.8820\n",
            "ACCURACY: 0.9750\n",
            "F1_SCORE: 0.0658\n",
            "AUC: 0.9786\n",
            "POSITIVE_RATIO_TEST_PRED: 0.0376\n",
            "POSITIVE_RATIO_TEST_Y: 0.0010\n",
            "FNR: 0.1180\n",
            "FPR: 0.0249\n",
            "TNR: 0.9751\n",
            "ALL_PREDS_TEST: 1900885 items\n",
            "Sample of ALL_PREDS_TEST: [0.30741816759109497, 0.04051072150468826, 0.02034398727118969, 0.017444118857383728, 0.018037019297480583] ...\n",
            "ALL_TARGETS_TEST: 1900885 items\n",
            "Sample of ALL_TARGETS_TEST: [0.0, 0.0, 0.0, 0.0, 0.0] ...\n"
          ]
        }
      ],
      "source": [
        "# Test the model for one epoch\n",
        "avg_val_loss_test, precision, recall, TNR, FPR, FNR, accuracy, f1, auc, \\\n",
        "positive_ratio_test_pred, positive_ratio_test_Y, all_preds_test, all_targets_test = test_one_epoch(\n",
        "    test_dataloader, bestmodel, criterion, positive_weight\n",
        ")\n",
        "\n",
        "# Log results\n",
        "epoch_results = {\n",
        "    \"val_loss\": avg_val_loss_test,\n",
        "    \"precision\": precision,\n",
        "    \"recall\": recall,\n",
        "    \"accuracy\": accuracy,\n",
        "    \"f1_score\": f1,\n",
        "    \"auc\": auc,\n",
        "    'positive_ratio_test_pred': positive_ratio_test_pred,\n",
        "    'positive_ratio_test_Y': positive_ratio_test_Y,\n",
        "    'FNR': FNR,\n",
        "    'FPR': FPR,\n",
        "    'TNR': TNR,\n",
        "    'all_preds_test': all_preds_test.tolist(),\n",
        "    'all_targets_test': all_targets_test.tolist()\n",
        "}\n",
        "\n",
        "\n",
        "\n",
        "# Convert PyTorch tensors to Python native types\n",
        "epoch_results = {\n",
        "    key: value.item() if isinstance(value, torch.Tensor) else value\n",
        "    for key, value in epoch_results.items()\n",
        "}\n",
        "\n",
        "# Save results to a DataFrame, parquet\n",
        "df_log = pd.DataFrame([epoch_results])\n",
        "final_file_name = \"df_log_test.parquet\"\n",
        "df_log.to_parquet(os.path.join(save_path, final_file_name), engine=\"pyarrow\", index=False)\n",
        "\n",
        "print(\"\\n--- Test Results ---\")\n",
        "for key, value in epoch_results.items():\n",
        "    if isinstance(value, (int, float)):\n",
        "        print(f\"{key.upper()}: {value:.4f}\")\n",
        "    elif isinstance(value, list):  # If the value is a list, print it as is\n",
        "        print(f\"{key.upper()}: {len(value)} items\")\n",
        "        # Optionally print a portion of the list to avoid excessive output:\n",
        "        print(f\"Sample of {key.upper()}: {value[:5]} ...\")  # First 5 elements of the list\n",
        "    else:\n",
        "        print(f\"{key.upper()}: {value}\")"
      ]
    },
    {
      "cell_type": "markdown",
      "source": [
        "# Result Analysis"
      ],
      "metadata": {
        "id": "qL_w1qry1tyr"
      }
    },
    {
      "cell_type": "code",
      "source": [
        "besttest = pd.read_parquet(\"/content/drive/MyDrive/DE/Master_Degree/3rd_Semester/Colab_Notebook/AML_file/exp/test/8/df_log_test.parquet\")\n",
        "besttest"
      ],
      "metadata": {
        "colab": {
          "base_uri": "https://localhost:8080/",
          "height": 135
        },
        "id": "61tRkrDc2-eF",
        "outputId": "c20be041-b0ce-4d16-a47c-d44d7b468886"
      },
      "execution_count": null,
      "outputs": [
        {
          "output_type": "execute_result",
          "data": {
            "text/plain": [
              "   val_loss  precision    recall  accuracy  f1_score       auc  \\\n",
              "0  0.002905   0.034154  0.882043  0.974964  0.065762  0.978562   \n",
              "\n",
              "   positive_ratio_test_pred  positive_ratio_test_Y       FNR       FPR  \\\n",
              "0                  0.037606               0.000999  0.117957  0.024943   \n",
              "\n",
              "        TNR                                     all_preds_test  \\\n",
              "0  0.975057  [0.30741816759109497, 0.04051072150468826, 0.0...   \n",
              "\n",
              "                                    all_targets_test  \n",
              "0  [0.0, 0.0, 0.0, 0.0, 0.0, 0.0, 0.0, 0.0, 0.0, ...  "
            ],
            "text/html": [
              "\n",
              "  <div id=\"df-019a0a7f-b762-4ab5-8b03-7907ea1e6580\" class=\"colab-df-container\">\n",
              "    <div>\n",
              "<style scoped>\n",
              "    .dataframe tbody tr th:only-of-type {\n",
              "        vertical-align: middle;\n",
              "    }\n",
              "\n",
              "    .dataframe tbody tr th {\n",
              "        vertical-align: top;\n",
              "    }\n",
              "\n",
              "    .dataframe thead th {\n",
              "        text-align: right;\n",
              "    }\n",
              "</style>\n",
              "<table border=\"1\" class=\"dataframe\">\n",
              "  <thead>\n",
              "    <tr style=\"text-align: right;\">\n",
              "      <th></th>\n",
              "      <th>val_loss</th>\n",
              "      <th>precision</th>\n",
              "      <th>recall</th>\n",
              "      <th>accuracy</th>\n",
              "      <th>f1_score</th>\n",
              "      <th>auc</th>\n",
              "      <th>positive_ratio_test_pred</th>\n",
              "      <th>positive_ratio_test_Y</th>\n",
              "      <th>FNR</th>\n",
              "      <th>FPR</th>\n",
              "      <th>TNR</th>\n",
              "      <th>all_preds_test</th>\n",
              "      <th>all_targets_test</th>\n",
              "    </tr>\n",
              "  </thead>\n",
              "  <tbody>\n",
              "    <tr>\n",
              "      <th>0</th>\n",
              "      <td>0.002905</td>\n",
              "      <td>0.034154</td>\n",
              "      <td>0.882043</td>\n",
              "      <td>0.974964</td>\n",
              "      <td>0.065762</td>\n",
              "      <td>0.978562</td>\n",
              "      <td>0.037606</td>\n",
              "      <td>0.000999</td>\n",
              "      <td>0.117957</td>\n",
              "      <td>0.024943</td>\n",
              "      <td>0.975057</td>\n",
              "      <td>[0.30741816759109497, 0.04051072150468826, 0.0...</td>\n",
              "      <td>[0.0, 0.0, 0.0, 0.0, 0.0, 0.0, 0.0, 0.0, 0.0, ...</td>\n",
              "    </tr>\n",
              "  </tbody>\n",
              "</table>\n",
              "</div>\n",
              "    <div class=\"colab-df-buttons\">\n",
              "\n",
              "  <div class=\"colab-df-container\">\n",
              "    <button class=\"colab-df-convert\" onclick=\"convertToInteractive('df-019a0a7f-b762-4ab5-8b03-7907ea1e6580')\"\n",
              "            title=\"Convert this dataframe to an interactive table.\"\n",
              "            style=\"display:none;\">\n",
              "\n",
              "  <svg xmlns=\"http://www.w3.org/2000/svg\" height=\"24px\" viewBox=\"0 -960 960 960\">\n",
              "    <path d=\"M120-120v-720h720v720H120Zm60-500h600v-160H180v160Zm220 220h160v-160H400v160Zm0 220h160v-160H400v160ZM180-400h160v-160H180v160Zm440 0h160v-160H620v160ZM180-180h160v-160H180v160Zm440 0h160v-160H620v160Z\"/>\n",
              "  </svg>\n",
              "    </button>\n",
              "\n",
              "  <style>\n",
              "    .colab-df-container {\n",
              "      display:flex;\n",
              "      gap: 12px;\n",
              "    }\n",
              "\n",
              "    .colab-df-convert {\n",
              "      background-color: #E8F0FE;\n",
              "      border: none;\n",
              "      border-radius: 50%;\n",
              "      cursor: pointer;\n",
              "      display: none;\n",
              "      fill: #1967D2;\n",
              "      height: 32px;\n",
              "      padding: 0 0 0 0;\n",
              "      width: 32px;\n",
              "    }\n",
              "\n",
              "    .colab-df-convert:hover {\n",
              "      background-color: #E2EBFA;\n",
              "      box-shadow: 0px 1px 2px rgba(60, 64, 67, 0.3), 0px 1px 3px 1px rgba(60, 64, 67, 0.15);\n",
              "      fill: #174EA6;\n",
              "    }\n",
              "\n",
              "    .colab-df-buttons div {\n",
              "      margin-bottom: 4px;\n",
              "    }\n",
              "\n",
              "    [theme=dark] .colab-df-convert {\n",
              "      background-color: #3B4455;\n",
              "      fill: #D2E3FC;\n",
              "    }\n",
              "\n",
              "    [theme=dark] .colab-df-convert:hover {\n",
              "      background-color: #434B5C;\n",
              "      box-shadow: 0px 1px 3px 1px rgba(0, 0, 0, 0.15);\n",
              "      filter: drop-shadow(0px 1px 2px rgba(0, 0, 0, 0.3));\n",
              "      fill: #FFFFFF;\n",
              "    }\n",
              "  </style>\n",
              "\n",
              "    <script>\n",
              "      const buttonEl =\n",
              "        document.querySelector('#df-019a0a7f-b762-4ab5-8b03-7907ea1e6580 button.colab-df-convert');\n",
              "      buttonEl.style.display =\n",
              "        google.colab.kernel.accessAllowed ? 'block' : 'none';\n",
              "\n",
              "      async function convertToInteractive(key) {\n",
              "        const element = document.querySelector('#df-019a0a7f-b762-4ab5-8b03-7907ea1e6580');\n",
              "        const dataTable =\n",
              "          await google.colab.kernel.invokeFunction('convertToInteractive',\n",
              "                                                    [key], {});\n",
              "        if (!dataTable) return;\n",
              "\n",
              "        const docLinkHtml = 'Like what you see? Visit the ' +\n",
              "          '<a target=\"_blank\" href=https://colab.research.google.com/notebooks/data_table.ipynb>data table notebook</a>'\n",
              "          + ' to learn more about interactive tables.';\n",
              "        element.innerHTML = '';\n",
              "        dataTable['output_type'] = 'display_data';\n",
              "        await google.colab.output.renderOutput(dataTable, element);\n",
              "        const docLink = document.createElement('div');\n",
              "        docLink.innerHTML = docLinkHtml;\n",
              "        element.appendChild(docLink);\n",
              "      }\n",
              "    </script>\n",
              "  </div>\n",
              "\n",
              "\n",
              "  <div id=\"id_0421d3ed-4812-4caf-8f2a-bd3ca106a9fd\">\n",
              "    <style>\n",
              "      .colab-df-generate {\n",
              "        background-color: #E8F0FE;\n",
              "        border: none;\n",
              "        border-radius: 50%;\n",
              "        cursor: pointer;\n",
              "        display: none;\n",
              "        fill: #1967D2;\n",
              "        height: 32px;\n",
              "        padding: 0 0 0 0;\n",
              "        width: 32px;\n",
              "      }\n",
              "\n",
              "      .colab-df-generate:hover {\n",
              "        background-color: #E2EBFA;\n",
              "        box-shadow: 0px 1px 2px rgba(60, 64, 67, 0.3), 0px 1px 3px 1px rgba(60, 64, 67, 0.15);\n",
              "        fill: #174EA6;\n",
              "      }\n",
              "\n",
              "      [theme=dark] .colab-df-generate {\n",
              "        background-color: #3B4455;\n",
              "        fill: #D2E3FC;\n",
              "      }\n",
              "\n",
              "      [theme=dark] .colab-df-generate:hover {\n",
              "        background-color: #434B5C;\n",
              "        box-shadow: 0px 1px 3px 1px rgba(0, 0, 0, 0.15);\n",
              "        filter: drop-shadow(0px 1px 2px rgba(0, 0, 0, 0.3));\n",
              "        fill: #FFFFFF;\n",
              "      }\n",
              "    </style>\n",
              "    <button class=\"colab-df-generate\" onclick=\"generateWithVariable('besttest')\"\n",
              "            title=\"Generate code using this dataframe.\"\n",
              "            style=\"display:none;\">\n",
              "\n",
              "  <svg xmlns=\"http://www.w3.org/2000/svg\" height=\"24px\"viewBox=\"0 0 24 24\"\n",
              "       width=\"24px\">\n",
              "    <path d=\"M7,19H8.4L18.45,9,17,7.55,7,17.6ZM5,21V16.75L18.45,3.32a2,2,0,0,1,2.83,0l1.4,1.43a1.91,1.91,0,0,1,.58,1.4,1.91,1.91,0,0,1-.58,1.4L9.25,21ZM18.45,9,17,7.55Zm-12,3A5.31,5.31,0,0,0,4.9,8.1,5.31,5.31,0,0,0,1,6.5,5.31,5.31,0,0,0,4.9,4.9,5.31,5.31,0,0,0,6.5,1,5.31,5.31,0,0,0,8.1,4.9,5.31,5.31,0,0,0,12,6.5,5.46,5.46,0,0,0,6.5,12Z\"/>\n",
              "  </svg>\n",
              "    </button>\n",
              "    <script>\n",
              "      (() => {\n",
              "      const buttonEl =\n",
              "        document.querySelector('#id_0421d3ed-4812-4caf-8f2a-bd3ca106a9fd button.colab-df-generate');\n",
              "      buttonEl.style.display =\n",
              "        google.colab.kernel.accessAllowed ? 'block' : 'none';\n",
              "\n",
              "      buttonEl.onclick = () => {\n",
              "        google.colab.notebook.generateWithVariable('besttest');\n",
              "      }\n",
              "      })();\n",
              "    </script>\n",
              "  </div>\n",
              "\n",
              "    </div>\n",
              "  </div>\n"
            ],
            "application/vnd.google.colaboratory.intrinsic+json": {
              "type": "dataframe",
              "variable_name": "besttest",
              "summary": "{\n  \"name\": \"besttest\",\n  \"rows\": 1,\n  \"fields\": [\n    {\n      \"column\": \"val_loss\",\n      \"properties\": {\n        \"dtype\": \"number\",\n        \"std\": null,\n        \"min\": 0.0029048736499261555,\n        \"max\": 0.0029048736499261555,\n        \"num_unique_values\": 1,\n        \"samples\": [\n          0.0029048736499261555\n        ],\n        \"semantic_type\": \"\",\n        \"description\": \"\"\n      }\n    },\n    {\n      \"column\": \"precision\",\n      \"properties\": {\n        \"dtype\": \"number\",\n        \"std\": null,\n        \"min\": 0.034154398270869864,\n        \"max\": 0.034154398270869864,\n        \"num_unique_values\": 1,\n        \"samples\": [\n          0.034154398270869864\n        ],\n        \"semantic_type\": \"\",\n        \"description\": \"\"\n      }\n    },\n    {\n      \"column\": \"recall\",\n      \"properties\": {\n        \"dtype\": \"number\",\n        \"std\": null,\n        \"min\": 0.8820431806213797,\n        \"max\": 0.8820431806213797,\n        \"num_unique_values\": 1,\n        \"samples\": [\n          0.8820431806213797\n        ],\n        \"semantic_type\": \"\",\n        \"description\": \"\"\n      }\n    },\n    {\n      \"column\": \"accuracy\",\n      \"properties\": {\n        \"dtype\": \"number\",\n        \"std\": null,\n        \"min\": 0.9749637668770073,\n        \"max\": 0.9749637668770073,\n        \"num_unique_values\": 1,\n        \"samples\": [\n          0.9749637668770073\n        ],\n        \"semantic_type\": \"\",\n        \"description\": \"\"\n      }\n    },\n    {\n      \"column\": \"f1_score\",\n      \"properties\": {\n        \"dtype\": \"number\",\n        \"std\": null,\n        \"min\": 0.06576235252547064,\n        \"max\": 0.06576235252547064,\n        \"num_unique_values\": 1,\n        \"samples\": [\n          0.06576235252547064\n        ],\n        \"semantic_type\": \"\",\n        \"description\": \"\"\n      }\n    },\n    {\n      \"column\": \"auc\",\n      \"properties\": {\n        \"dtype\": \"number\",\n        \"std\": null,\n        \"min\": 0.9785624364978373,\n        \"max\": 0.9785624364978373,\n        \"num_unique_values\": 1,\n        \"samples\": [\n          0.9785624364978373\n        ],\n        \"semantic_type\": \"\",\n        \"description\": \"\"\n      }\n    },\n    {\n      \"column\": \"positive_ratio_test_pred\",\n      \"properties\": {\n        \"dtype\": \"number\",\n        \"std\": null,\n        \"min\": 0.03760613066413802,\n        \"max\": 0.03760613066413802,\n        \"num_unique_values\": 1,\n        \"samples\": [\n          0.03760613066413802\n        ],\n        \"semantic_type\": \"\",\n        \"description\": \"\"\n      }\n    },\n    {\n      \"column\": \"positive_ratio_test_Y\",\n      \"properties\": {\n        \"dtype\": \"number\",\n        \"std\": null,\n        \"min\": 0.0009990083566338837,\n        \"max\": 0.0009990083566338837,\n        \"num_unique_values\": 1,\n        \"samples\": [\n          0.0009990083566338837\n        ],\n        \"semantic_type\": \"\",\n        \"description\": \"\"\n      }\n    },\n    {\n      \"column\": \"FNR\",\n      \"properties\": {\n        \"dtype\": \"number\",\n        \"std\": null,\n        \"min\": 0.11795681937862032,\n        \"max\": 0.11795681937862032,\n        \"num_unique_values\": 1,\n        \"samples\": [\n          0.11795681937862032\n        ],\n        \"semantic_type\": \"\",\n        \"description\": \"\"\n      }\n    },\n    {\n      \"column\": \"FPR\",\n      \"properties\": {\n        \"dtype\": \"number\",\n        \"std\": null,\n        \"min\": 0.024943311851693482,\n        \"max\": 0.024943311851693482,\n        \"num_unique_values\": 1,\n        \"samples\": [\n          0.024943311851693482\n        ],\n        \"semantic_type\": \"\",\n        \"description\": \"\"\n      }\n    },\n    {\n      \"column\": \"TNR\",\n      \"properties\": {\n        \"dtype\": \"number\",\n        \"std\": null,\n        \"min\": 0.9750566881483065,\n        \"max\": 0.9750566881483065,\n        \"num_unique_values\": 1,\n        \"samples\": [\n          0.9750566881483065\n        ],\n        \"semantic_type\": \"\",\n        \"description\": \"\"\n      }\n    },\n    {\n      \"column\": \"all_preds_test\",\n      \"properties\": {\n        \"dtype\": \"object\",\n        \"semantic_type\": \"\",\n        \"description\": \"\"\n      }\n    },\n    {\n      \"column\": \"all_targets_test\",\n      \"properties\": {\n        \"dtype\": \"object\",\n        \"semantic_type\": \"\",\n        \"description\": \"\"\n      }\n    }\n  ]\n}"
            }
          },
          "metadata": {},
          "execution_count": 28
        }
      ]
    },
    {
      "cell_type": "code",
      "source": [
        "#call all_preds_test and all_targets_test\n",
        "all_preds_test = besttest.all_preds_test[0]\n",
        "all_targets_test = besttest.all_targets_test[0]\n",
        "\n",
        "all_preds_test = torch.tensor(all_preds_test)\n",
        "all_targets_test = torch.tensor(all_targets_test)\n",
        "\n",
        "print(all_preds_test.shape)\n",
        "print(all_targets_test.shape)"
      ],
      "metadata": {
        "colab": {
          "base_uri": "https://localhost:8080/"
        },
        "id": "aguV_GPv2-bT",
        "outputId": "d4810b9a-ba91-4c94-9ef5-faddc9b5b38d"
      },
      "execution_count": null,
      "outputs": [
        {
          "output_type": "stream",
          "name": "stdout",
          "text": [
            "torch.Size([1900885])\n",
            "torch.Size([1900885])\n"
          ]
        }
      ]
    },
    {
      "cell_type": "code",
      "source": [
        "#use scikit learn to retrieve the array of precision and recall and plot the curve\n",
        "\n",
        "y_true = np.array(all_targets_test)\n",
        "y_scores = np.array(all_preds_test)\n",
        "\n",
        "\n",
        "precision, recall, thresholds = precision_recall_curve(all_targets_test, all_preds_test)\n",
        "\n",
        "precision, recall, thresholds"
      ],
      "metadata": {
        "colab": {
          "base_uri": "https://localhost:8080/"
        },
        "id": "s-cSlwnE8yGw",
        "outputId": "077bb2dd-f94e-4b0a-8d25-ada42dfc22ed"
      },
      "execution_count": null,
      "outputs": [
        {
          "output_type": "execute_result",
          "data": {
            "text/plain": [
              "(array([9.99008357e-04, 9.99008882e-04, 9.99009408e-04, ...,\n",
              "        6.66666667e-01, 1.00000000e+00, 1.00000000e+00]),\n",
              " array([1.00000000e+00, 1.00000000e+00, 1.00000000e+00, ...,\n",
              "        1.05318589e-03, 5.26592944e-04, 0.00000000e+00]),\n",
              " array([2.93680296e-05, 3.27118723e-05, 3.66882086e-05, ...,\n",
              "        9.99997497e-01, 9.99998689e-01, 9.99999166e-01]))"
            ]
          },
          "metadata": {},
          "execution_count": 30
        }
      ]
    },
    {
      "cell_type": "code",
      "source": [
        "#plot roc_auc\n",
        "plt.rcParams['figure.figsize'] = (10, 6)\n",
        "fpr, tpr, thresholds = roc_curve(all_targets_test, all_preds_test)\n",
        "roc_auc = auc(fpr, tpr)\n",
        "\n",
        "plt.rcParams['figure.figsize'] = (10, 6)\n",
        "\n",
        "plt.plot(fpr, tpr, color='darkorange', lw=2, label=f'ROC curve (AUC = {auc(fpr, tpr):.4f})')\n",
        "plt.plot([0, 1], [0, 1], color='navy', lw=2, linestyle='--')\n",
        "\n",
        "plt.xlabel('False Positive Rate')\n",
        "plt.ylabel('True Positive Rate')\n",
        "plt.title('ROC Curve')\n",
        "plt.legend()\n",
        "plt.show()"
      ],
      "metadata": {
        "colab": {
          "base_uri": "https://localhost:8080/",
          "height": 564
        },
        "id": "JkrpTx318yAq",
        "outputId": "c871642d-da20-4e6d-90f3-b9db2aa7b852"
      },
      "execution_count": null,
      "outputs": [
        {
          "output_type": "display_data",
          "data": {
            "text/plain": [
              "<Figure size 1000x600 with 1 Axes>"
            ],
            "image/png": "[encoded data removed]"
          },
          "metadata": {}
        }
      ]
    },
    {
      "cell_type": "code",
      "source": [
        "fpr, tpr, thresholds = roc_curve(all_targets_test, all_preds_test)\n",
        "auc = roc_auc_score(all_targets_test, all_preds_test)\n",
        "len(fpr), len(thresholds)"
      ],
      "metadata": {
        "colab": {
          "base_uri": "https://localhost:8080/"
        },
        "id": "Bay5_VJHgm26",
        "outputId": "a7d89917-33d1-417b-8ba1-9e97394e98e6"
      },
      "execution_count": null,
      "outputs": [
        {
          "output_type": "execute_result",
          "data": {
            "text/plain": [
              "(375955, 375955)"
            ]
          },
          "metadata": {},
          "execution_count": 37
        }
      ]
    },
    {
      "cell_type": "code",
      "source": [
        "interval = 100000\n",
        "trimmed_coordinates = []\n",
        "\n",
        "for i, (threshold_i, fpr_i, tpr_i) in enumerate(zip(thresholds, fpr, tpr)):\n",
        "    if (i % interval == 0) or (i == 1) or (i == 3000) or (i == 3500) or (i == 4000) or (i == 4150) or (i == 6000) or (i == 10000) or (i == 13000) or (i == 20000) or (i == 30000) or (i == 40000):\n",
        "        trimmed_coordinates.append((threshold_i, fpr_i, tpr_i))\n",
        "\n",
        "trimmed_coordinates"
      ],
      "metadata": {
        "colab": {
          "base_uri": "https://localhost:8080/"
        },
        "id": "kTftXGYQiF4u",
        "outputId": "a415fb3f-70b1-4e7f-ed61-0c4a0dbede33"
      },
      "execution_count": null,
      "outputs": [
        {
          "output_type": "execute_result",
          "data": {
            "text/plain": [
              "[(inf, 0.0, 0.0),\n",
              " (0.9999991655349731, 0.0, 0.000526592943654555),\n",
              " (0.9415199756622314, 0.010833676498931535, 0.6287519747235387),\n",
              " (0.8905845284461975, 0.014293417644995803, 0.7414428646656135),\n",
              " (0.6940699219703674, 0.021477251543718594, 0.8499210110584519),\n",
              " (0.47553178668022156, 0.025217142201153668, 0.8846761453396524),\n",
              " (0.2540091574192047, 0.04189499027375663, 0.909952606635071),\n",
              " (0.0774640217423439, 0.08068147948431426, 0.9452343338599263),\n",
              " (0.015698948875069618, 0.13098042850236916, 0.9715639810426541),\n",
              " (0.00819555763155222, 0.1777843543870255, 0.9831490258030542),\n",
              " (0.007573863957077265, 0.20286142183249375, 0.9847288046340179),\n",
              " (0.006984659470617771, 0.228153867379749, 0.9852553975776724),\n",
              " (0.002601074054837227, 0.4199614952400913, 0.9926276987888363),\n",
              " (0.0017315123695880175, 0.6137796697816624, 0.9957872564507636),\n",
              " (0.001173432101495564, 0.808035446285544, 0.9978936282253817)]"
            ]
          },
          "metadata": {},
          "execution_count": 38
        }
      ]
    },
    {
      "cell_type": "code",
      "source": [
        "trimmed_coordinates = trimmed_coordinates[1:]\n",
        "trimmed_coordinates = trimmed_coordinates[0:8] + trimmed_coordinates[9:10] + trimmed_coordinates[11:]\n",
        "trimmed_coordinates"
      ],
      "metadata": {
        "colab": {
          "base_uri": "https://localhost:8080/"
        },
        "id": "V8RclJ8skFOS",
        "outputId": "4f97bfa2-ff1a-4557-84d0-183f37443814"
      },
      "execution_count": null,
      "outputs": [
        {
          "output_type": "execute_result",
          "data": {
            "text/plain": [
              "[(0.9999991655349731, 0.0, 0.000526592943654555),\n",
              " (0.9415199756622314, 0.010833676498931535, 0.6287519747235387),\n",
              " (0.8905845284461975, 0.014293417644995803, 0.7414428646656135),\n",
              " (0.6940699219703674, 0.021477251543718594, 0.8499210110584519),\n",
              " (0.47553178668022156, 0.025217142201153668, 0.8846761453396524),\n",
              " (0.2540091574192047, 0.04189499027375663, 0.909952606635071),\n",
              " (0.0774640217423439, 0.08068147948431426, 0.9452343338599263),\n",
              " (0.015698948875069618, 0.13098042850236916, 0.9715639810426541),\n",
              " (0.007573863957077265, 0.20286142183249375, 0.9847288046340179),\n",
              " (0.002601074054837227, 0.4199614952400913, 0.9926276987888363),\n",
              " (0.0017315123695880175, 0.6137796697816624, 0.9957872564507636),\n",
              " (0.001173432101495564, 0.808035446285544, 0.9978936282253817)]"
            ]
          },
          "metadata": {},
          "execution_count": 39
        }
      ]
    },
    {
      "cell_type": "code",
      "source": [
        "#plot on ROC-AUC along with different threshold\n",
        "\n",
        "plt.rcParams['figure.figsize'] = (10, 6)\n",
        "plt.plot(fpr, tpr, color='darkorange', lw=2, label=f'ROC curve (AUC = {auc:.2f})')\n",
        "\n",
        "#anotate thresholds\n",
        "for i, (threshold, fpr_i, tpr_i) in enumerate(trimmed_coordinates):\n",
        "    plt.annotate(f'{threshold:.4f}', (fpr_i, tpr_i), textcoords=\"offset points\", xytext=(23, -13), ha='center')\n",
        "    plt.scatter(fpr_i, tpr_i, color='black', marker='o')\n",
        "\n",
        "plt.plot([0, 1], [0, 1], color='navy', lw=2, linestyle='--')\n",
        "plt.xlabel('False Positive Rate')\n",
        "plt.ylabel('True Positive Rate')\n",
        "plt.title('ROC Curve with Different Thresholds')\n",
        "plt.legend()\n",
        "plt.show()\n"
      ],
      "metadata": {
        "colab": {
          "base_uri": "https://localhost:8080/",
          "height": 564
        },
        "id": "izDY4SpbtFbN",
        "outputId": "61b97a14-7bdc-441c-97a4-d8b775906825"
      },
      "execution_count": null,
      "outputs": [
        {
          "output_type": "display_data",
          "data": {
            "text/plain": [
              "<Figure size 1000x600 with 1 Axes>"
            ],
            "image/png": "[encoded data removed]"
          },
          "metadata": {}
        }
      ]
    },
    {
      "cell_type": "code",
      "source": [
        "#plot confusion metrix\n",
        "\n",
        "cm = confusion_matrix(y_true, y_scores.round())\n",
        "\n",
        "#change color\n",
        "cmap = plt.cm.viridis_r\n",
        "#plt.rcParams['figure.figsize'] = (10, 6)\n",
        "fig, ax = plt.subplots(figsize=(8, 6))\n",
        "im = ax.imshow(cm, interpolation='nearest', cmap=cmap)\n",
        "#cm_display = ConfusionMatrixDisplay(cm).plot(cmap=cmap)\n",
        "\n",
        "# Add a color bar\n",
        "plt.colorbar(im, ax=ax)\n",
        "\n",
        "\n",
        "#labeing\n",
        "classes = ['Negative', 'Positive']  # Class names\n",
        "ax.set(xticks=np.arange(len(classes)),\n",
        "       yticks=np.arange(len(classes)),\n",
        "       xticklabels=classes,\n",
        "       yticklabels=classes,\n",
        "       xlabel='Predicted Label',\n",
        "       ylabel='True Label')\n",
        "\n",
        "# Annotate cells with values and TP, TN, FP, FN labels\n",
        "labels = [['TN', 'FP'], ['FN', 'TP']]\n",
        "for i in range(cm.shape[0]):\n",
        "    for j in range(cm.shape[1]):\n",
        "        ax.text(j, i, f\"{labels[i][j]}\\n{cm[i, j]}\",\n",
        "                ha=\"center\", va=\"center\", color=\"white\" if cm[i, j] > cm.max() / 2 else \"black\")\n",
        "\n",
        "plt.title('Confusion Matrix with TP, TN, FP, FN Labels')\n",
        "plt.tight_layout()\n",
        "plt.show()"
      ],
      "metadata": {
        "colab": {
          "base_uri": "https://localhost:8080/",
          "height": 607
        },
        "id": "HtSDPQuG8x9Y",
        "outputId": "e5bcfdd8-d4f4-48c5-e939-7196a4a5e823"
      },
      "execution_count": null,
      "outputs": [
        {
          "output_type": "display_data",
          "data": {
            "text/plain": [
              "<Figure size 800x600 with 2 Axes>"
            ],
            "image/png": "[encoded data removed]"
          },
          "metadata": {}
        }
      ]
    },
    {
      "cell_type": "code",
      "source": [
        "1851619+47367+224+1675"
      ],
      "metadata": {
        "colab": {
          "base_uri": "https://localhost:8080/"
        },
        "id": "eD2Sll5DOhvI",
        "outputId": "bff2569e-fa85-406b-ab14-6bb3073f76d9"
      },
      "execution_count": null,
      "outputs": [
        {
          "output_type": "execute_result",
          "data": {
            "text/plain": [
              "1900885"
            ]
          },
          "metadata": {},
          "execution_count": 47
        }
      ]
    },
    {
      "cell_type": "markdown",
      "source": [
        "# Plot val_loss vs Epoch number"
      ],
      "metadata": {
        "id": "WueTPUeODVok"
      }
    },
    {
      "cell_type": "code",
      "source": [
        "# Specify the directory where your Parquet files are stored\n",
        "log_directory = '/content/drive/MyDrive/DE/Master_Degree/3rd_Semester/Colab_Notebook/AML_file/exp/optuna/bestparam5/trial_12/'\n",
        "\n",
        "# List all Parquet files in the directory\n",
        "parquet_files = [f for f in os.listdir(log_directory) if f.endswith('.parquet')]\n",
        "\n",
        "# Initialize an empty list to store DataFrames\n",
        "df_list = []\n",
        "\n",
        "# Read all Parquet files and append them to the list\n",
        "for file in parquet_files:\n",
        "    file_path = os.path.join(log_directory, file)\n",
        "    df = pd.read_parquet(file_path)\n",
        "    df_list.append(df)\n",
        "\n",
        "# Concatenate all DataFrames into a single DataFrame\n",
        "full_df = pd.concat(df_list, ignore_index=True)\n",
        "full_df = full_df.drop_duplicates().reset_index(drop=True)\n",
        "\n",
        "# Extract the epoch and validation loss columns\n",
        "epochs = full_df['epoch']  # Replace 'epoch' with the actual column name in your DataFrame\n",
        "val_loss = full_df['val_loss']  # Replace 'val_loss' with the actual column name for validation loss\n",
        "\n",
        "# Plot the graph\n",
        "plt.figure(figsize=(10, 6))\n",
        "plt.plot(epochs, val_loss, marker='o', label='Validation Loss')\n",
        "plt.xlabel('Epoch')\n",
        "plt.ylabel('Validation Loss')\n",
        "plt.title('Validation Loss vs. Epoch')\n",
        "plt.legend()\n",
        "plt.grid()\n",
        "plt.show()"
      ],
      "metadata": {
        "colab": {
          "base_uri": "https://localhost:8080/",
          "height": 564
        },
        "id": "fPTigQfnDU9P",
        "outputId": "19a016fd-547e-4619-ae05-3fd91602046b"
      },
      "execution_count": null,
      "outputs": [
        {
          "output_type": "display_data",
          "data": {
            "text/plain": [
              "<Figure size 1000x600 with 1 Axes>"
            ],
            "image/png": "[encoded data removed]"
          },
          "metadata": {}
        }
      ]
    },
    {
      "cell_type": "code",
      "source": [
        "full_df"
      ],
      "metadata": {
        "id": "K3FHXE-fLdzB",
        "outputId": "e6d63ec1-8bce-40f1-8e99-c459834705e5",
        "colab": {
          "base_uri": "https://localhost:8080/",
          "height": 821
        }
      },
      "execution_count": null,
      "outputs": [
        {
          "output_type": "execute_result",
          "data": {
            "text/plain": [
              "    epoch  val_loss  precision    recall       TNR       FPR       FNR  \\\n",
              "0       0  0.010641   0.015232  0.743180  0.946839  0.053161  0.256820   \n",
              "1       1  0.017947   0.042157  0.080903  0.997966  0.002034  0.919097   \n",
              "2       2  0.004186   0.027028  0.467545  0.981378  0.018622  0.532455   \n",
              "3       3  0.005444   0.028436  0.818909  0.969043  0.030957  0.181091   \n",
              "4       4  0.007356   0.019726  0.815616  0.955155  0.044845  0.184384   \n",
              "5       5  0.026949   0.007104  0.528692  0.918243  0.081757  0.471308   \n",
              "6       6  0.014751   0.015361  0.782690  0.944490  0.055510  0.217310   \n",
              "7       7  0.006392   0.021072  0.878645  0.954839  0.045161  0.121355   \n",
              "8       8  0.003650   0.037888  0.849012  0.976146  0.023854  0.150988   \n",
              "9       9  0.004195   0.029574  0.809501  0.970611  0.029389  0.190499   \n",
              "10     10  0.003388   0.033395  0.827375  0.973504  0.026496  0.172625   \n",
              "11     11  0.003129   0.038700  0.873471  0.975994  0.024006  0.126529   \n",
              "12     12  0.004544   0.027897  0.917215  0.964637  0.035363  0.082785   \n",
              "13     13  0.002344   0.042332  0.811383  0.979691  0.020309  0.188617   \n",
              "14     14  0.003748   0.029236  0.887112  0.967410  0.032590  0.112888   \n",
              "15     15  0.002937   0.039561  0.848071  0.977220  0.022780  0.151929   \n",
              "16     16  0.003211   0.035578  0.829257  0.975129  0.024871  0.170743   \n",
              "17     17  0.004205   0.033437  0.904516  0.971071  0.028929  0.095484   \n",
              "18     18  0.002763   0.040126  0.880527  0.976695  0.023305  0.119473   \n",
              "19     19  0.003461   0.035365  0.900282  0.972831  0.027169  0.099718   \n",
              "20     20  0.003092   0.037201  0.897460  0.974301  0.025699  0.102540   \n",
              "21     21  0.003621   0.034989  0.905456  0.972370  0.027630  0.094544   \n",
              "22     22  0.003462   0.035063  0.901223  0.972560  0.027440  0.098777   \n",
              "23     23  0.003273   0.035672  0.900282  0.973073  0.026927  0.099718   \n",
              "\n",
              "    accuracy        f1       auc  positive_ratio_eval_pred  \\\n",
              "0   0.946614  0.029851  0.900759                  0.076140   \n",
              "1   0.996953  0.055430  0.931273                  0.331252   \n",
              "2   0.980810  0.051101  0.925355                  0.038583   \n",
              "3   0.968877  0.054963  0.938834                  0.051979   \n",
              "4   0.955001  0.038520  0.952351                  0.213811   \n",
              "5   0.917813  0.014019  0.787033                  0.445062   \n",
              "6   0.944311  0.030130  0.926802                  0.061095   \n",
              "7   0.954755  0.041158  0.949574                  0.087443   \n",
              "8   0.976006  0.072538  0.959088                  0.050335   \n",
              "9   0.970433  0.057063  0.951880                  0.039237   \n",
              "10  0.973343  0.064199  0.961060                  0.034389   \n",
              "11  0.975881  0.074115  0.962773                  0.040554   \n",
              "12  0.964585  0.054146  0.971586                  0.063204   \n",
              "13  0.979505  0.080466  0.976912                  0.028258   \n",
              "14  0.967321  0.056606  0.973675                  0.041004   \n",
              "15  0.977078  0.075596  0.971581                  0.029382   \n",
              "16  0.974968  0.068229  0.975915                  0.038816   \n",
              "17  0.970998  0.064490  0.975857                  0.045664   \n",
              "18  0.976589  0.076754  0.977814                  0.032008   \n",
              "19  0.972751  0.068057  0.977529                  0.041678   \n",
              "20  0.974217  0.071441  0.976487                  0.035877   \n",
              "21  0.972296  0.067374  0.978545                  0.043897   \n",
              "22  0.972481  0.067500  0.977504                  0.042275   \n",
              "23  0.972993  0.068626  0.978169                  0.039740   \n",
              "\n",
              "    positive_ratio_eval_Y  \n",
              "0                0.001105  \n",
              "1                0.001105  \n",
              "2                0.001105  \n",
              "3                0.001105  \n",
              "4                0.001105  \n",
              "5                0.001105  \n",
              "6                0.001105  \n",
              "7                0.001105  \n",
              "8                0.001105  \n",
              "9                0.001105  \n",
              "10               0.001105  \n",
              "11               0.001105  \n",
              "12               0.001105  \n",
              "13               0.001105  \n",
              "14               0.001105  \n",
              "15               0.001105  \n",
              "16               0.001105  \n",
              "17               0.001105  \n",
              "18               0.001105  \n",
              "19               0.001105  \n",
              "20               0.001105  \n",
              "21               0.001105  \n",
              "22               0.001105  \n",
              "23               0.001105  "
            ],
            "text/html": [
              "\n",
              "  <div id=\"df-b29a6a12-06fd-4b31-9f39-763b0105f852\" class=\"colab-df-container\">\n",
              "    <div>\n",
              "<style scoped>\n",
              "    .dataframe tbody tr th:only-of-type {\n",
              "        vertical-align: middle;\n",
              "    }\n",
              "\n",
              "    .dataframe tbody tr th {\n",
              "        vertical-align: top;\n",
              "    }\n",
              "\n",
              "    .dataframe thead th {\n",
              "        text-align: right;\n",
              "    }\n",
              "</style>\n",
              "<table border=\"1\" class=\"dataframe\">\n",
              "  <thead>\n",
              "    <tr style=\"text-align: right;\">\n",
              "      <th></th>\n",
              "      <th>epoch</th>\n",
              "      <th>val_loss</th>\n",
              "      <th>precision</th>\n",
              "      <th>recall</th>\n",
              "      <th>TNR</th>\n",
              "      <th>FPR</th>\n",
              "      <th>FNR</th>\n",
              "      <th>accuracy</th>\n",
              "      <th>f1</th>\n",
              "      <th>auc</th>\n",
              "      <th>positive_ratio_eval_pred</th>\n",
              "      <th>positive_ratio_eval_Y</th>\n",
              "    </tr>\n",
              "  </thead>\n",
              "  <tbody>\n",
              "    <tr>\n",
              "      <th>0</th>\n",
              "      <td>0</td>\n",
              "      <td>0.010641</td>\n",
              "      <td>0.015232</td>\n",
              "      <td>0.743180</td>\n",
              "      <td>0.946839</td>\n",
              "      <td>0.053161</td>\n",
              "      <td>0.256820</td>\n",
              "      <td>0.946614</td>\n",
              "      <td>0.029851</td>\n",
              "      <td>0.900759</td>\n",
              "      <td>0.076140</td>\n",
              "      <td>0.001105</td>\n",
              "    </tr>\n",
              "    <tr>\n",
              "      <th>1</th>\n",
              "      <td>1</td>\n",
              "      <td>0.017947</td>\n",
              "      <td>0.042157</td>\n",
              "      <td>0.080903</td>\n",
              "      <td>0.997966</td>\n",
              "      <td>0.002034</td>\n",
              "      <td>0.919097</td>\n",
              "      <td>0.996953</td>\n",
              "      <td>0.055430</td>\n",
              "      <td>0.931273</td>\n",
              "      <td>0.331252</td>\n",
              "      <td>0.001105</td>\n",
              "    </tr>\n",
              "    <tr>\n",
              "      <th>2</th>\n",
              "      <td>2</td>\n",
              "      <td>0.004186</td>\n",
              "      <td>0.027028</td>\n",
              "      <td>0.467545</td>\n",
              "      <td>0.981378</td>\n",
              "      <td>0.018622</td>\n",
              "      <td>0.532455</td>\n",
              "      <td>0.980810</td>\n",
              "      <td>0.051101</td>\n",
              "      <td>0.925355</td>\n",
              "      <td>0.038583</td>\n",
              "      <td>0.001105</td>\n",
              "    </tr>\n",
              "    <tr>\n",
              "      <th>3</th>\n",
              "      <td>3</td>\n",
              "      <td>0.005444</td>\n",
              "      <td>0.028436</td>\n",
              "      <td>0.818909</td>\n",
              "      <td>0.969043</td>\n",
              "      <td>0.030957</td>\n",
              "      <td>0.181091</td>\n",
              "      <td>0.968877</td>\n",
              "      <td>0.054963</td>\n",
              "      <td>0.938834</td>\n",
              "      <td>0.051979</td>\n",
              "      <td>0.001105</td>\n",
              "    </tr>\n",
              "    <tr>\n",
              "      <th>4</th>\n",
              "      <td>4</td>\n",
              "      <td>0.007356</td>\n",
              "      <td>0.019726</td>\n",
              "      <td>0.815616</td>\n",
              "      <td>0.955155</td>\n",
              "      <td>0.044845</td>\n",
              "      <td>0.184384</td>\n",
              "      <td>0.955001</td>\n",
              "      <td>0.038520</td>\n",
              "      <td>0.952351</td>\n",
              "      <td>0.213811</td>\n",
              "      <td>0.001105</td>\n",
              "    </tr>\n",
              "    <tr>\n",
              "      <th>5</th>\n",
              "      <td>5</td>\n",
              "      <td>0.026949</td>\n",
              "      <td>0.007104</td>\n",
              "      <td>0.528692</td>\n",
              "      <td>0.918243</td>\n",
              "      <td>0.081757</td>\n",
              "      <td>0.471308</td>\n",
              "      <td>0.917813</td>\n",
              "      <td>0.014019</td>\n",
              "      <td>0.787033</td>\n",
              "      <td>0.445062</td>\n",
              "      <td>0.001105</td>\n",
              "    </tr>\n",
              "    <tr>\n",
              "      <th>6</th>\n",
              "      <td>6</td>\n",
              "      <td>0.014751</td>\n",
              "      <td>0.015361</td>\n",
              "      <td>0.782690</td>\n",
              "      <td>0.944490</td>\n",
              "      <td>0.055510</td>\n",
              "      <td>0.217310</td>\n",
              "      <td>0.944311</td>\n",
              "      <td>0.030130</td>\n",
              "      <td>0.926802</td>\n",
              "      <td>0.061095</td>\n",
              "      <td>0.001105</td>\n",
              "    </tr>\n",
              "    <tr>\n",
              "      <th>7</th>\n",
              "      <td>7</td>\n",
              "      <td>0.006392</td>\n",
              "      <td>0.021072</td>\n",
              "      <td>0.878645</td>\n",
              "      <td>0.954839</td>\n",
              "      <td>0.045161</td>\n",
              "      <td>0.121355</td>\n",
              "      <td>0.954755</td>\n",
              "      <td>0.041158</td>\n",
              "      <td>0.949574</td>\n",
              "      <td>0.087443</td>\n",
              "      <td>0.001105</td>\n",
              "    </tr>\n",
              "    <tr>\n",
              "      <th>8</th>\n",
              "      <td>8</td>\n",
              "      <td>0.003650</td>\n",
              "      <td>0.037888</td>\n",
              "      <td>0.849012</td>\n",
              "      <td>0.976146</td>\n",
              "      <td>0.023854</td>\n",
              "      <td>0.150988</td>\n",
              "      <td>0.976006</td>\n",
              "      <td>0.072538</td>\n",
              "      <td>0.959088</td>\n",
              "      <td>0.050335</td>\n",
              "      <td>0.001105</td>\n",
              "    </tr>\n",
              "    <tr>\n",
              "      <th>9</th>\n",
              "      <td>9</td>\n",
              "      <td>0.004195</td>\n",
              "      <td>0.029574</td>\n",
              "      <td>0.809501</td>\n",
              "      <td>0.970611</td>\n",
              "      <td>0.029389</td>\n",
              "      <td>0.190499</td>\n",
              "      <td>0.970433</td>\n",
              "      <td>0.057063</td>\n",
              "      <td>0.951880</td>\n",
              "      <td>0.039237</td>\n",
              "      <td>0.001105</td>\n",
              "    </tr>\n",
              "    <tr>\n",
              "      <th>10</th>\n",
              "      <td>10</td>\n",
              "      <td>0.003388</td>\n",
              "      <td>0.033395</td>\n",
              "      <td>0.827375</td>\n",
              "      <td>0.973504</td>\n",
              "      <td>0.026496</td>\n",
              "      <td>0.172625</td>\n",
              "      <td>0.973343</td>\n",
              "      <td>0.064199</td>\n",
              "      <td>0.961060</td>\n",
              "      <td>0.034389</td>\n",
              "      <td>0.001105</td>\n",
              "    </tr>\n",
              "    <tr>\n",
              "      <th>11</th>\n",
              "      <td>11</td>\n",
              "      <td>0.003129</td>\n",
              "      <td>0.038700</td>\n",
              "      <td>0.873471</td>\n",
              "      <td>0.975994</td>\n",
              "      <td>0.024006</td>\n",
              "      <td>0.126529</td>\n",
              "      <td>0.975881</td>\n",
              "      <td>0.074115</td>\n",
              "      <td>0.962773</td>\n",
              "      <td>0.040554</td>\n",
              "      <td>0.001105</td>\n",
              "    </tr>\n",
              "    <tr>\n",
              "      <th>12</th>\n",
              "      <td>12</td>\n",
              "      <td>0.004544</td>\n",
              "      <td>0.027897</td>\n",
              "      <td>0.917215</td>\n",
              "      <td>0.964637</td>\n",
              "      <td>0.035363</td>\n",
              "      <td>0.082785</td>\n",
              "      <td>0.964585</td>\n",
              "      <td>0.054146</td>\n",
              "      <td>0.971586</td>\n",
              "      <td>0.063204</td>\n",
              "      <td>0.001105</td>\n",
              "    </tr>\n",
              "    <tr>\n",
              "      <th>13</th>\n",
              "      <td>13</td>\n",
              "      <td>0.002344</td>\n",
              "      <td>0.042332</td>\n",
              "      <td>0.811383</td>\n",
              "      <td>0.979691</td>\n",
              "      <td>0.020309</td>\n",
              "      <td>0.188617</td>\n",
              "      <td>0.979505</td>\n",
              "      <td>0.080466</td>\n",
              "      <td>0.976912</td>\n",
              "      <td>0.028258</td>\n",
              "      <td>0.001105</td>\n",
              "    </tr>\n",
              "    <tr>\n",
              "      <th>14</th>\n",
              "      <td>14</td>\n",
              "      <td>0.003748</td>\n",
              "      <td>0.029236</td>\n",
              "      <td>0.887112</td>\n",
              "      <td>0.967410</td>\n",
              "      <td>0.032590</td>\n",
              "      <td>0.112888</td>\n",
              "      <td>0.967321</td>\n",
              "      <td>0.056606</td>\n",
              "      <td>0.973675</td>\n",
              "      <td>0.041004</td>\n",
              "      <td>0.001105</td>\n",
              "    </tr>\n",
              "    <tr>\n",
              "      <th>15</th>\n",
              "      <td>15</td>\n",
              "      <td>0.002937</td>\n",
              "      <td>0.039561</td>\n",
              "      <td>0.848071</td>\n",
              "      <td>0.977220</td>\n",
              "      <td>0.022780</td>\n",
              "      <td>0.151929</td>\n",
              "      <td>0.977078</td>\n",
              "      <td>0.075596</td>\n",
              "      <td>0.971581</td>\n",
              "      <td>0.029382</td>\n",
              "      <td>0.001105</td>\n",
              "    </tr>\n",
              "    <tr>\n",
              "      <th>16</th>\n",
              "      <td>16</td>\n",
              "      <td>0.003211</td>\n",
              "      <td>0.035578</td>\n",
              "      <td>0.829257</td>\n",
              "      <td>0.975129</td>\n",
              "      <td>0.024871</td>\n",
              "      <td>0.170743</td>\n",
              "      <td>0.974968</td>\n",
              "      <td>0.068229</td>\n",
              "      <td>0.975915</td>\n",
              "      <td>0.038816</td>\n",
              "      <td>0.001105</td>\n",
              "    </tr>\n",
              "    <tr>\n",
              "      <th>17</th>\n",
              "      <td>17</td>\n",
              "      <td>0.004205</td>\n",
              "      <td>0.033437</td>\n",
              "      <td>0.904516</td>\n",
              "      <td>0.971071</td>\n",
              "      <td>0.028929</td>\n",
              "      <td>0.095484</td>\n",
              "      <td>0.970998</td>\n",
              "      <td>0.064490</td>\n",
              "      <td>0.975857</td>\n",
              "      <td>0.045664</td>\n",
              "      <td>0.001105</td>\n",
              "    </tr>\n",
              "    <tr>\n",
              "      <th>18</th>\n",
              "      <td>18</td>\n",
              "      <td>0.002763</td>\n",
              "      <td>0.040126</td>\n",
              "      <td>0.880527</td>\n",
              "      <td>0.976695</td>\n",
              "      <td>0.023305</td>\n",
              "      <td>0.119473</td>\n",
              "      <td>0.976589</td>\n",
              "      <td>0.076754</td>\n",
              "      <td>0.977814</td>\n",
              "      <td>0.032008</td>\n",
              "      <td>0.001105</td>\n",
              "    </tr>\n",
              "    <tr>\n",
              "      <th>19</th>\n",
              "      <td>19</td>\n",
              "      <td>0.003461</td>\n",
              "      <td>0.035365</td>\n",
              "      <td>0.900282</td>\n",
              "      <td>0.972831</td>\n",
              "      <td>0.027169</td>\n",
              "      <td>0.099718</td>\n",
              "      <td>0.972751</td>\n",
              "      <td>0.068057</td>\n",
              "      <td>0.977529</td>\n",
              "      <td>0.041678</td>\n",
              "      <td>0.001105</td>\n",
              "    </tr>\n",
              "    <tr>\n",
              "      <th>20</th>\n",
              "      <td>20</td>\n",
              "      <td>0.003092</td>\n",
              "      <td>0.037201</td>\n",
              "      <td>0.897460</td>\n",
              "      <td>0.974301</td>\n",
              "      <td>0.025699</td>\n",
              "      <td>0.102540</td>\n",
              "      <td>0.974217</td>\n",
              "      <td>0.071441</td>\n",
              "      <td>0.976487</td>\n",
              "      <td>0.035877</td>\n",
              "      <td>0.001105</td>\n",
              "    </tr>\n",
              "    <tr>\n",
              "      <th>21</th>\n",
              "      <td>21</td>\n",
              "      <td>0.003621</td>\n",
              "      <td>0.034989</td>\n",
              "      <td>0.905456</td>\n",
              "      <td>0.972370</td>\n",
              "      <td>0.027630</td>\n",
              "      <td>0.094544</td>\n",
              "      <td>0.972296</td>\n",
              "      <td>0.067374</td>\n",
              "      <td>0.978545</td>\n",
              "      <td>0.043897</td>\n",
              "      <td>0.001105</td>\n",
              "    </tr>\n",
              "    <tr>\n",
              "      <th>22</th>\n",
              "      <td>22</td>\n",
              "      <td>0.003462</td>\n",
              "      <td>0.035063</td>\n",
              "      <td>0.901223</td>\n",
              "      <td>0.972560</td>\n",
              "      <td>0.027440</td>\n",
              "      <td>0.098777</td>\n",
              "      <td>0.972481</td>\n",
              "      <td>0.067500</td>\n",
              "      <td>0.977504</td>\n",
              "      <td>0.042275</td>\n",
              "      <td>0.001105</td>\n",
              "    </tr>\n",
              "    <tr>\n",
              "      <th>23</th>\n",
              "      <td>23</td>\n",
              "      <td>0.003273</td>\n",
              "      <td>0.035672</td>\n",
              "      <td>0.900282</td>\n",
              "      <td>0.973073</td>\n",
              "      <td>0.026927</td>\n",
              "      <td>0.099718</td>\n",
              "      <td>0.972993</td>\n",
              "      <td>0.068626</td>\n",
              "      <td>0.978169</td>\n",
              "      <td>0.039740</td>\n",
              "      <td>0.001105</td>\n",
              "    </tr>\n",
              "  </tbody>\n",
              "</table>\n",
              "</div>\n",
              "    <div class=\"colab-df-buttons\">\n",
              "\n",
              "  <div class=\"colab-df-container\">\n",
              "    <button class=\"colab-df-convert\" onclick=\"convertToInteractive('df-b29a6a12-06fd-4b31-9f39-763b0105f852')\"\n",
              "            title=\"Convert this dataframe to an interactive table.\"\n",
              "            style=\"display:none;\">\n",
              "\n",
              "  <svg xmlns=\"http://www.w3.org/2000/svg\" height=\"24px\" viewBox=\"0 -960 960 960\">\n",
              "    <path d=\"M120-120v-720h720v720H120Zm60-500h600v-160H180v160Zm220 220h160v-160H400v160Zm0 220h160v-160H400v160ZM180-400h160v-160H180v160Zm440 0h160v-160H620v160ZM180-180h160v-160H180v160Zm440 0h160v-160H620v160Z\"/>\n",
              "  </svg>\n",
              "    </button>\n",
              "\n",
              "  <style>\n",
              "    .colab-df-container {\n",
              "      display:flex;\n",
              "      gap: 12px;\n",
              "    }\n",
              "\n",
              "    .colab-df-convert {\n",
              "      background-color: #E8F0FE;\n",
              "      border: none;\n",
              "      border-radius: 50%;\n",
              "      cursor: pointer;\n",
              "      display: none;\n",
              "      fill: #1967D2;\n",
              "      height: 32px;\n",
              "      padding: 0 0 0 0;\n",
              "      width: 32px;\n",
              "    }\n",
              "\n",
              "    .colab-df-convert:hover {\n",
              "      background-color: #E2EBFA;\n",
              "      box-shadow: 0px 1px 2px rgba(60, 64, 67, 0.3), 0px 1px 3px 1px rgba(60, 64, 67, 0.15);\n",
              "      fill: #174EA6;\n",
              "    }\n",
              "\n",
              "    .colab-df-buttons div {\n",
              "      margin-bottom: 4px;\n",
              "    }\n",
              "\n",
              "    [theme=dark] .colab-df-convert {\n",
              "      background-color: #3B4455;\n",
              "      fill: #D2E3FC;\n",
              "    }\n",
              "\n",
              "    [theme=dark] .colab-df-convert:hover {\n",
              "      background-color: #434B5C;\n",
              "      box-shadow: 0px 1px 3px 1px rgba(0, 0, 0, 0.15);\n",
              "      filter: drop-shadow(0px 1px 2px rgba(0, 0, 0, 0.3));\n",
              "      fill: #FFFFFF;\n",
              "    }\n",
              "  </style>\n",
              "\n",
              "    <script>\n",
              "      const buttonEl =\n",
              "        document.querySelector('#df-b29a6a12-06fd-4b31-9f39-763b0105f852 button.colab-df-convert');\n",
              "      buttonEl.style.display =\n",
              "        google.colab.kernel.accessAllowed ? 'block' : 'none';\n",
              "\n",
              "      async function convertToInteractive(key) {\n",
              "        const element = document.querySelector('#df-b29a6a12-06fd-4b31-9f39-763b0105f852');\n",
              "        const dataTable =\n",
              "          await google.colab.kernel.invokeFunction('convertToInteractive',\n",
              "                                                    [key], {});\n",
              "        if (!dataTable) return;\n",
              "\n",
              "        const docLinkHtml = 'Like what you see? Visit the ' +\n",
              "          '<a target=\"_blank\" href=https://colab.research.google.com/notebooks/data_table.ipynb>data table notebook</a>'\n",
              "          + ' to learn more about interactive tables.';\n",
              "        element.innerHTML = '';\n",
              "        dataTable['output_type'] = 'display_data';\n",
              "        await google.colab.output.renderOutput(dataTable, element);\n",
              "        const docLink = document.createElement('div');\n",
              "        docLink.innerHTML = docLinkHtml;\n",
              "        element.appendChild(docLink);\n",
              "      }\n",
              "    </script>\n",
              "  </div>\n",
              "\n",
              "\n",
              "<div id=\"df-51ec8481-7cd1-45ee-af3e-5c318f7e6ce2\">\n",
              "  <button class=\"colab-df-quickchart\" onclick=\"quickchart('df-51ec8481-7cd1-45ee-af3e-5c318f7e6ce2')\"\n",
              "            title=\"Suggest charts\"\n",
              "            style=\"display:none;\">\n",
              "\n",
              "<svg xmlns=\"http://www.w3.org/2000/svg\" height=\"24px\"viewBox=\"0 0 24 24\"\n",
              "     width=\"24px\">\n",
              "    <g>\n",
              "        <path d=\"M19 3H5c-1.1 0-2 .9-2 2v14c0 1.1.9 2 2 2h14c1.1 0 2-.9 2-2V5c0-1.1-.9-2-2-2zM9 17H7v-7h2v7zm4 0h-2V7h2v10zm4 0h-2v-4h2v4z\"/>\n",
              "    </g>\n",
              "</svg>\n",
              "  </button>\n",
              "\n",
              "<style>\n",
              "  .colab-df-quickchart {\n",
              "      --bg-color: #E8F0FE;\n",
              "      --fill-color: #1967D2;\n",
              "      --hover-bg-color: #E2EBFA;\n",
              "      --hover-fill-color: #174EA6;\n",
              "      --disabled-fill-color: #AAA;\n",
              "      --disabled-bg-color: #DDD;\n",
              "  }\n",
              "\n",
              "  [theme=dark] .colab-df-quickchart {\n",
              "      --bg-color: #3B4455;\n",
              "      --fill-color: #D2E3FC;\n",
              "      --hover-bg-color: #434B5C;\n",
              "      --hover-fill-color: #FFFFFF;\n",
              "      --disabled-bg-color: #3B4455;\n",
              "      --disabled-fill-color: #666;\n",
              "  }\n",
              "\n",
              "  .colab-df-quickchart {\n",
              "    background-color: var(--bg-color);\n",
              "    border: none;\n",
              "    border-radius: 50%;\n",
              "    cursor: pointer;\n",
              "    display: none;\n",
              "    fill: var(--fill-color);\n",
              "    height: 32px;\n",
              "    padding: 0;\n",
              "    width: 32px;\n",
              "  }\n",
              "\n",
              "  .colab-df-quickchart:hover {\n",
              "    background-color: var(--hover-bg-color);\n",
              "    box-shadow: 0 1px 2px rgba(60, 64, 67, 0.3), 0 1px 3px 1px rgba(60, 64, 67, 0.15);\n",
              "    fill: var(--button-hover-fill-color);\n",
              "  }\n",
              "\n",
              "  .colab-df-quickchart-complete:disabled,\n",
              "  .colab-df-quickchart-complete:disabled:hover {\n",
              "    background-color: var(--disabled-bg-color);\n",
              "    fill: var(--disabled-fill-color);\n",
              "    box-shadow: none;\n",
              "  }\n",
              "\n",
              "  .colab-df-spinner {\n",
              "    border: 2px solid var(--fill-color);\n",
              "    border-color: transparent;\n",
              "    border-bottom-color: var(--fill-color);\n",
              "    animation:\n",
              "      spin 1s steps(1) infinite;\n",
              "  }\n",
              "\n",
              "  @keyframes spin {\n",
              "    0% {\n",
              "      border-color: transparent;\n",
              "      border-bottom-color: var(--fill-color);\n",
              "      border-left-color: var(--fill-color);\n",
              "    }\n",
              "    20% {\n",
              "      border-color: transparent;\n",
              "      border-left-color: var(--fill-color);\n",
              "      border-top-color: var(--fill-color);\n",
              "    }\n",
              "    30% {\n",
              "      border-color: transparent;\n",
              "      border-left-color: var(--fill-color);\n",
              "      border-top-color: var(--fill-color);\n",
              "      border-right-color: var(--fill-color);\n",
              "    }\n",
              "    40% {\n",
              "      border-color: transparent;\n",
              "      border-right-color: var(--fill-color);\n",
              "      border-top-color: var(--fill-color);\n",
              "    }\n",
              "    60% {\n",
              "      border-color: transparent;\n",
              "      border-right-color: var(--fill-color);\n",
              "    }\n",
              "    80% {\n",
              "      border-color: transparent;\n",
              "      border-right-color: var(--fill-color);\n",
              "      border-bottom-color: var(--fill-color);\n",
              "    }\n",
              "    90% {\n",
              "      border-color: transparent;\n",
              "      border-bottom-color: var(--fill-color);\n",
              "    }\n",
              "  }\n",
              "</style>\n",
              "\n",
              "  <script>\n",
              "    async function quickchart(key) {\n",
              "      const quickchartButtonEl =\n",
              "        document.querySelector('#' + key + ' button');\n",
              "      quickchartButtonEl.disabled = true;  // To prevent multiple clicks.\n",
              "      quickchartButtonEl.classList.add('colab-df-spinner');\n",
              "      try {\n",
              "        const charts = await google.colab.kernel.invokeFunction(\n",
              "            'suggestCharts', [key], {});\n",
              "      } catch (error) {\n",
              "        console.error('Error during call to suggestCharts:', error);\n",
              "      }\n",
              "      quickchartButtonEl.classList.remove('colab-df-spinner');\n",
              "      quickchartButtonEl.classList.add('colab-df-quickchart-complete');\n",
              "    }\n",
              "    (() => {\n",
              "      let quickchartButtonEl =\n",
              "        document.querySelector('#df-51ec8481-7cd1-45ee-af3e-5c318f7e6ce2 button');\n",
              "      quickchartButtonEl.style.display =\n",
              "        google.colab.kernel.accessAllowed ? 'block' : 'none';\n",
              "    })();\n",
              "  </script>\n",
              "</div>\n",
              "\n",
              "  <div id=\"id_299e4062-059a-4ace-8331-e66f3c10a41f\">\n",
              "    <style>\n",
              "      .colab-df-generate {\n",
              "        background-color: #E8F0FE;\n",
              "        border: none;\n",
              "        border-radius: 50%;\n",
              "        cursor: pointer;\n",
              "        display: none;\n",
              "        fill: #1967D2;\n",
              "        height: 32px;\n",
              "        padding: 0 0 0 0;\n",
              "        width: 32px;\n",
              "      }\n",
              "\n",
              "      .colab-df-generate:hover {\n",
              "        background-color: #E2EBFA;\n",
              "        box-shadow: 0px 1px 2px rgba(60, 64, 67, 0.3), 0px 1px 3px 1px rgba(60, 64, 67, 0.15);\n",
              "        fill: #174EA6;\n",
              "      }\n",
              "\n",
              "      [theme=dark] .colab-df-generate {\n",
              "        background-color: #3B4455;\n",
              "        fill: #D2E3FC;\n",
              "      }\n",
              "\n",
              "      [theme=dark] .colab-df-generate:hover {\n",
              "        background-color: #434B5C;\n",
              "        box-shadow: 0px 1px 3px 1px rgba(0, 0, 0, 0.15);\n",
              "        filter: drop-shadow(0px 1px 2px rgba(0, 0, 0, 0.3));\n",
              "        fill: #FFFFFF;\n",
              "      }\n",
              "    </style>\n",
              "    <button class=\"colab-df-generate\" onclick=\"generateWithVariable('full_df')\"\n",
              "            title=\"Generate code using this dataframe.\"\n",
              "            style=\"display:none;\">\n",
              "\n",
              "  <svg xmlns=\"http://www.w3.org/2000/svg\" height=\"24px\"viewBox=\"0 0 24 24\"\n",
              "       width=\"24px\">\n",
              "    <path d=\"M7,19H8.4L18.45,9,17,7.55,7,17.6ZM5,21V16.75L18.45,3.32a2,2,0,0,1,2.83,0l1.4,1.43a1.91,1.91,0,0,1,.58,1.4,1.91,1.91,0,0,1-.58,1.4L9.25,21ZM18.45,9,17,7.55Zm-12,3A5.31,5.31,0,0,0,4.9,8.1,5.31,5.31,0,0,0,1,6.5,5.31,5.31,0,0,0,4.9,4.9,5.31,5.31,0,0,0,6.5,1,5.31,5.31,0,0,0,8.1,4.9,5.31,5.31,0,0,0,12,6.5,5.46,5.46,0,0,0,6.5,12Z\"/>\n",
              "  </svg>\n",
              "    </button>\n",
              "    <script>\n",
              "      (() => {\n",
              "      const buttonEl =\n",
              "        document.querySelector('#id_299e4062-059a-4ace-8331-e66f3c10a41f button.colab-df-generate');\n",
              "      buttonEl.style.display =\n",
              "        google.colab.kernel.accessAllowed ? 'block' : 'none';\n",
              "\n",
              "      buttonEl.onclick = () => {\n",
              "        google.colab.notebook.generateWithVariable('full_df');\n",
              "      }\n",
              "      })();\n",
              "    </script>\n",
              "  </div>\n",
              "\n",
              "    </div>\n",
              "  </div>\n"
            ],
            "application/vnd.google.colaboratory.intrinsic+json": {
              "type": "dataframe",
              "variable_name": "full_df",
              "summary": "{\n  \"name\": \"full_df\",\n  \"rows\": 24,\n  \"fields\": [\n    {\n      \"column\": \"epoch\",\n      \"properties\": {\n        \"dtype\": \"number\",\n        \"std\": 7,\n        \"min\": 0,\n        \"max\": 23,\n        \"num_unique_values\": 24,\n        \"samples\": [\n          8,\n          16,\n          0\n        ],\n        \"semantic_type\": \"\",\n        \"description\": \"\"\n      }\n    },\n    {\n      \"column\": \"val_loss\",\n      \"properties\": {\n        \"dtype\": \"number\",\n        \"std\": 0.005875752697485547,\n        \"min\": 0.002343827174636466,\n        \"max\": 0.026948549467798427,\n        \"num_unique_values\": 24,\n        \"samples\": [\n          0.003649647551081423,\n          0.0032112366605629946,\n          0.010640967403977911\n        ],\n        \"semantic_type\": \"\",\n        \"description\": \"\"\n      }\n    },\n    {\n      \"column\": \"precision\",\n      \"properties\": {\n        \"dtype\": \"number\",\n        \"std\": 0.00929587467275305,\n        \"min\": 0.007103852765699262,\n        \"max\": 0.042332327173672975,\n        \"num_unique_values\": 24,\n        \"samples\": [\n          0.03788753384689658,\n          0.035578067927269794,\n          0.015231558246249952\n        ],\n        \"semantic_type\": \"\",\n        \"description\": \"\"\n      }\n    },\n    {\n      \"column\": \"recall\",\n      \"properties\": {\n        \"dtype\": \"number\",\n        \"std\": 0.18793662086523302,\n        \"min\": 0.08090310442144873,\n        \"max\": 0.9172154280338665,\n        \"num_unique_values\": 23,\n        \"samples\": [\n          0.848071495766698,\n          0.8095014111006585,\n          0.7431796801505174\n        ],\n        \"semantic_type\": \"\",\n        \"description\": \"\"\n      }\n    },\n    {\n      \"column\": \"TNR\",\n      \"properties\": {\n        \"dtype\": \"number\",\n        \"std\": 0.015539951690013511,\n        \"min\": 0.918243042462097,\n        \"max\": 0.9979662241243913,\n        \"num_unique_values\": 24,\n        \"samples\": [\n          0.976146327780348,\n          0.9751294398425437,\n          0.9468387223016431\n        ],\n        \"semantic_type\": \"\",\n        \"description\": \"\"\n      }\n    },\n    {\n      \"column\": \"FPR\",\n      \"properties\": {\n        \"dtype\": \"number\",\n        \"std\": 0.015539951690013513,\n        \"min\": 0.0020337758756086887,\n        \"max\": 0.08175695753790302,\n        \"num_unique_values\": 24,\n        \"samples\": [\n          0.02385367221965196,\n          0.0248705601574563,\n          0.0531612776983569\n        ],\n        \"semantic_type\": \"\",\n        \"description\": \"\"\n      }\n    },\n    {\n      \"column\": \"FNR\",\n      \"properties\": {\n        \"dtype\": \"number\",\n        \"std\": 0.18793662086523302,\n        \"min\": 0.08278457196613359,\n        \"max\": 0.9190968955785512,\n        \"num_unique_values\": 23,\n        \"samples\": [\n          0.15192850423330198,\n          0.1904985888993415,\n          0.2568203198494826\n        ],\n        \"semantic_type\": \"\",\n        \"description\": \"\"\n      }\n    },\n    {\n      \"column\": \"accuracy\",\n      \"properties\": {\n        \"dtype\": \"number\",\n        \"std\": 0.015502519111201978,\n        \"min\": 0.9178125203061848,\n        \"max\": 0.9969527077079029,\n        \"num_unique_values\": 24,\n        \"samples\": [\n          0.9760058221892991,\n          0.9749682248820617,\n          0.9466136431569782\n        ],\n        \"semantic_type\": \"\",\n        \"description\": \"\"\n      }\n    },\n    {\n      \"column\": \"f1\",\n      \"properties\": {\n        \"dtype\": \"number\",\n        \"std\": 0.01698886338923471,\n        \"min\": 0.014019332709697536,\n        \"max\": 0.08046647230320701,\n        \"num_unique_values\": 24,\n        \"samples\": [\n          0.07253802720678362,\n          0.06822887439772442,\n          0.02985131024580098\n        ],\n        \"semantic_type\": \"\",\n        \"description\": \"\"\n      }\n    },\n    {\n      \"column\": \"auc\",\n      \"properties\": {\n        \"dtype\": \"number\",\n        \"std\": 0.04117494252058248,\n        \"min\": 0.7870334972879437,\n        \"max\": 0.9785454870365595,\n        \"num_unique_values\": 24,\n        \"samples\": [\n          0.9590878691315999,\n          0.9759153346938659,\n          0.9007587048136744\n        ],\n        \"semantic_type\": \"\",\n        \"description\": \"\"\n      }\n    },\n    {\n      \"column\": \"positive_ratio_eval_pred\",\n      \"properties\": {\n        \"dtype\": \"number\",\n        \"std\": 0.10286137105702943,\n        \"min\": 0.028258397419652487,\n        \"max\": 0.4450617308017207,\n        \"num_unique_values\": 24,\n        \"samples\": [\n          0.05033530384550405,\n          0.03881562958919776,\n          0.07613959933460694\n        ],\n        \"semantic_type\": \"\",\n        \"description\": \"\"\n      }\n    },\n    {\n      \"column\": \"positive_ratio_eval_Y\",\n      \"properties\": {\n        \"dtype\": \"number\",\n        \"std\": 0.0,\n        \"min\": 0.001105176290173756,\n        \"max\": 0.001105176290173756,\n        \"num_unique_values\": 1,\n        \"samples\": [\n          0.001105176290173756\n        ],\n        \"semantic_type\": \"\",\n        \"description\": \"\"\n      }\n    }\n  ]\n}"
            }
          },
          "metadata": {},
          "execution_count": 46
        }
      ]
    },
    {
      "cell_type": "code",
      "source": [
        "full_df.plot(x=\"epoch\", y=\"auc\")"
      ],
      "metadata": {
        "colab": {
          "base_uri": "https://localhost:8080/",
          "height": 559
        },
        "id": "NuotUScwEsvy",
        "outputId": "a08bf2fb-04a3-4ed9-c21e-623bcc7145ff"
      },
      "execution_count": null,
      "outputs": [
        {
          "output_type": "execute_result",
          "data": {
            "text/plain": [
              "<Axes: xlabel='epoch'>"
            ]
          },
          "metadata": {},
          "execution_count": 47
        },
        {
          "output_type": "display_data",
          "data": {
            "text/plain": [
              "<Figure size 1000x600 with 1 Axes>"
            ],
            "image/png": "[encoded data removed]"
          },
          "metadata": {}
        }
      ]
    },
    {
      "cell_type": "code",
      "source": [
        "full_df.plot(x=\"epoch\", y=[\"val_loss\"])"
      ],
      "metadata": {
        "colab": {
          "base_uri": "https://localhost:8080/",
          "height": 559
        },
        "id": "cOblK_k3JYM1",
        "outputId": "332da88f-df71-4f7e-8ea9-d188a3daf89a"
      },
      "execution_count": null,
      "outputs": [
        {
          "output_type": "execute_result",
          "data": {
            "text/plain": [
              "<Axes: xlabel='epoch'>"
            ]
          },
          "metadata": {},
          "execution_count": 48
        },
        {
          "output_type": "display_data",
          "data": {
            "text/plain": [
              "<Figure size 1000x600 with 1 Axes>"
            ],
            "image/png": "[encoded data removed]"
          },
          "metadata": {}
        }
      ]
    },
    {
      "cell_type": "code",
      "source": [
        "#plot f1 and val_loss in the same graph\n",
        "full_df.plot(x=\"epoch\", y=[\"f1\", \"val_loss\"])\n"
      ],
      "metadata": {
        "colab": {
          "base_uri": "https://localhost:8080/",
          "height": 559
        },
        "id": "nc6VRoqdH5QS",
        "outputId": "5f94d4b8-3f4c-4091-8bc9-df140b318e33"
      },
      "execution_count": null,
      "outputs": [
        {
          "output_type": "execute_result",
          "data": {
            "text/plain": [
              "<Axes: xlabel='epoch'>"
            ]
          },
          "metadata": {},
          "execution_count": 49
        },
        {
          "output_type": "display_data",
          "data": {
            "text/plain": [
              "<Figure size 1000x600 with 1 Axes>"
            ],
            "image/png": "[encoded data removed]"
          },
          "metadata": {}
        }
      ]
    }
  ],
  "metadata": {
    "colab": {
      "collapsed_sections": [
        "RboSK9WEfuWT",
        "DRavaJbsfvdb",
        "8yyZqTYbuPn_",
        "KptDXEIVYuGd",
        "vjQYyKedeMBE",
        "lbUvcFtBfwgJ",
        "ezGBKNR8fxUt",
        "uy2eVphldBZg",
        "NTwmiKvg9fic",
        "PRtZ7E5kUGMt",
        "OODtd8s9ytxl",
        "lwBNSVI1kLC-"
      ],
      "machine_shape": "hm",
      "provenance": [],
      "authorship_tag": "ABX9TyMmQWOTVCAGRFjEGEQD54Hb",
      "include_colab_link": true
    },
    "kernelspec": {
      "display_name": "Python 3",
      "name": "python3"
    },
    "language_info": {
      "name": "python"
    }
  },
  "nbformat": 4,
  "nbformat_minor": 0
}